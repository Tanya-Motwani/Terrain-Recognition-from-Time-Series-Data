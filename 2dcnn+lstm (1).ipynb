{
  "cells": [
    {
      "cell_type": "code",
      "execution_count": 1,
      "metadata": {
        "id": "GitahgEVEvfm"
      },
      "outputs": [],
      "source": [
        "import csv\n",
        "import os\n",
        "import pandas as pd\n",
        "import numpy as np\n",
        "import matplotlib.pyplot as plt\n",
        "import glob\n",
        "import imblearn\n",
        "import warnings\n",
        "warnings.filterwarnings('ignore')"
      ]
    },
    {
      "cell_type": "code",
      "execution_count": 2,
      "metadata": {
        "colab": {
          "base_uri": "https://localhost:8080/"
        },
        "id": "CrGBeXWoGG7h",
        "outputId": "0e061f52-5416-459e-9f27-78d081cebeee"
      },
      "outputs": [
        {
          "output_type": "stream",
          "name": "stdout",
          "text": [
            "Mounted at /content/drive\n"
          ]
        }
      ],
      "source": [
        "from google.colab import drive\n",
        "drive.mount('/content/drive', force_remount=True)"
      ]
    },
    {
      "cell_type": "code",
      "execution_count": 3,
      "metadata": {
        "colab": {
          "base_uri": "https://localhost:8080/"
        },
        "id": "dxzR597LBzRH",
        "outputId": "8b05e2d3-07ad-4192-c446-0b87c5ae3c0e"
      },
      "outputs": [
        {
          "output_type": "stream",
          "name": "stdout",
          "text": [
            "/content/drive/MyDrive/NN\n"
          ]
        }
      ],
      "source": [
        "cd drive/MyDrive/NN"
      ]
    },
    {
      "cell_type": "code",
      "execution_count": 4,
      "metadata": {
        "id": "5zap0_k6FNyO"
      },
      "outputs": [],
      "source": [
        "def upsample_label(temp_x, temp_y):\n",
        "    y_time_list = temp_y['time'].values\n",
        "    y_label = temp_y['label'].values\n",
        "    jdx = 0\n",
        "    label_list = []\n",
        "    for index,row in temp_x.iterrows():\n",
        "        try:\n",
        "            if row['time'] > y_time_list[jdx]:\n",
        "                jdx+=1\n",
        "            label_list.append(y_label[jdx])\n",
        "        except:\n",
        "            label_list.append(y_label[jdx - 1])\n",
        "    return label_list"
      ]
    },
    {
      "cell_type": "code",
      "execution_count": 5,
      "metadata": {
        "id": "xImsHMkiE1JA"
      },
      "outputs": [],
      "source": [
        "filepath = 'TrainingData/'\n",
        "column_list = ['acc_x', 'acc_y', 'acc_z', 'gyro_x', 'gyro_y', 'gyro_z','subject', 'time', 'label']\n",
        "final_df = pd.DataFrame([], columns = column_list)\n",
        "for i in glob.glob(filepath + '*.csv'):\n",
        "    df_type = i.split('.')[0].split('__')[1]\n",
        "    file_name = i.split('/')[1].split('__')[0]\n",
        "    if df_type == 'x':\n",
        "        x = open(filepath + file_name + '__x.csv')\n",
        "        x = pd.read_csv(x)\n",
        "        x['subject'] = [file_name] * x.shape[0]\n",
        "        \n",
        "        x_time = open(filepath + file_name + '__x_time.csv')\n",
        "        x_time = pd.read_csv(x_time)\n",
        "        x['time'] = x_time\n",
        "        \n",
        "        y = open(filepath + file_name + '__y.csv')\n",
        "        y = pd.read_csv(y)\n",
        "        y['subject'] = [file_name] * y.shape[0]\n",
        "        \n",
        "        y_time = open(filepath + file_name + '__y_time.csv')\n",
        "        y_time = pd.read_csv(y_time)\n",
        "        y['time'] = y_time\n",
        "        \n",
        "        y.columns = ['label', 'subject', 'time']\n",
        "        label_list = upsample_label(x, y)\n",
        "        x['label'] = label_list\n",
        "        x.columns = column_list\n",
        "        final_df = pd.concat([final_df, x], ignore_index=True)\n"
      ]
    },
    {
      "cell_type": "code",
      "execution_count": 6,
      "metadata": {
        "colab": {
          "base_uri": "https://localhost:8080/"
        },
        "id": "XsS1OazfGMk0",
        "outputId": "9505ed5d-a948-47c9-f993-c3bb8bdfe6d3"
      },
      "outputs": [
        {
          "output_type": "execute_result",
          "data": {
            "text/plain": [
              "(1341617, 9)"
            ]
          },
          "metadata": {},
          "execution_count": 6
        }
      ],
      "source": [
        "final_df.shape"
      ]
    },
    {
      "cell_type": "code",
      "execution_count": 7,
      "metadata": {
        "id": "Kq9C7agWMBw1"
      },
      "outputs": [],
      "source": [
        "final_df.to_csv('final_dataset.csv')"
      ]
    },
    {
      "cell_type": "code",
      "execution_count": 8,
      "metadata": {
        "colab": {
          "base_uri": "https://localhost:8080/",
          "height": 676
        },
        "id": "aC-srk8ZGlOL",
        "outputId": "35df92ed-2fbc-4c44-e36c-a7dc202d126e"
      },
      "outputs": [
        {
          "output_type": "execute_result",
          "data": {
            "text/plain": [
              "       acc_x     acc_y     acc_z    gyro_x    gyro_y    gyro_z  \\\n",
              "0   4.186920  8.344455  2.908057  0.005771 -0.004480 -0.003345   \n",
              "1   4.544637  8.408659  2.890000  0.007967  0.022412  0.001159   \n",
              "2   4.849308  8.411614  2.900692  0.027778 -0.010670 -0.014223   \n",
              "3   4.509190  8.118649  2.847298  0.021577 -0.045498 -0.021111   \n",
              "4   4.226515  8.273807  2.851742  0.012534  0.000445 -0.016830   \n",
              "5   4.532063  8.398341  2.856682  0.014484  0.028769 -0.011091   \n",
              "6   4.433669  8.294719  2.823521  0.016340 -0.029434 -0.008998   \n",
              "7   4.160676  8.260676  2.827568  0.011222 -0.016748 -0.006027   \n",
              "8   4.432763  8.272613  2.790050 -0.002715  0.023094  0.012222   \n",
              "9   4.511362  8.256774  2.820538 -0.002248  0.001547  0.011137   \n",
              "10  4.098018  8.154184  2.901101 -0.010418 -0.042853  0.005031   \n",
              "11  3.931769  8.203628  2.958186 -0.015232 -0.006177  0.016877   \n",
              "12  4.524325  8.446963  2.874356 -0.003438  0.036310  0.045451   \n",
              "13  4.615744  8.385348  2.782674 -0.002790  0.012677  0.054444   \n",
              "14  4.392814  8.239121  2.830176  0.001527  0.015576  0.052817   \n",
              "15  4.633221  8.197211  2.872404 -0.006495  0.039828  0.040343   \n",
              "16  4.788242  8.201208  2.805275 -0.009608  0.032156  0.025749   \n",
              "17  4.751849  8.220000  2.847035 -0.012330  0.018727  0.017562   \n",
              "18  4.612801  8.290000  2.845603 -0.004444  0.005675  0.003214   \n",
              "19  4.603880  8.246231  2.876940 -0.000502  0.014905  0.001992   \n",
              "\n",
              "           subject   time label  \n",
              "0   subject_001_01  0.025     0  \n",
              "1   subject_001_01  0.050     0  \n",
              "2   subject_001_01  0.075     0  \n",
              "3   subject_001_01  0.100     0  \n",
              "4   subject_001_01  0.125     0  \n",
              "5   subject_001_01  0.150     0  \n",
              "6   subject_001_01  0.175     0  \n",
              "7   subject_001_01  0.200     0  \n",
              "8   subject_001_01  0.225     0  \n",
              "9   subject_001_01  0.250     0  \n",
              "10  subject_001_01  0.275     0  \n",
              "11  subject_001_01  0.300     0  \n",
              "12  subject_001_01  0.325     0  \n",
              "13  subject_001_01  0.350     0  \n",
              "14  subject_001_01  0.375     0  \n",
              "15  subject_001_01  0.400     0  \n",
              "16  subject_001_01  0.425     0  \n",
              "17  subject_001_01  0.450     0  \n",
              "18  subject_001_01  0.475     0  \n",
              "19  subject_001_01  0.500     0  "
            ],
            "text/html": [
              "\n",
              "  <div id=\"df-3939a1fc-bf94-47df-8116-9befb4fd4860\">\n",
              "    <div class=\"colab-df-container\">\n",
              "      <div>\n",
              "<style scoped>\n",
              "    .dataframe tbody tr th:only-of-type {\n",
              "        vertical-align: middle;\n",
              "    }\n",
              "\n",
              "    .dataframe tbody tr th {\n",
              "        vertical-align: top;\n",
              "    }\n",
              "\n",
              "    .dataframe thead th {\n",
              "        text-align: right;\n",
              "    }\n",
              "</style>\n",
              "<table border=\"1\" class=\"dataframe\">\n",
              "  <thead>\n",
              "    <tr style=\"text-align: right;\">\n",
              "      <th></th>\n",
              "      <th>acc_x</th>\n",
              "      <th>acc_y</th>\n",
              "      <th>acc_z</th>\n",
              "      <th>gyro_x</th>\n",
              "      <th>gyro_y</th>\n",
              "      <th>gyro_z</th>\n",
              "      <th>subject</th>\n",
              "      <th>time</th>\n",
              "      <th>label</th>\n",
              "    </tr>\n",
              "  </thead>\n",
              "  <tbody>\n",
              "    <tr>\n",
              "      <th>0</th>\n",
              "      <td>4.186920</td>\n",
              "      <td>8.344455</td>\n",
              "      <td>2.908057</td>\n",
              "      <td>0.005771</td>\n",
              "      <td>-0.004480</td>\n",
              "      <td>-0.003345</td>\n",
              "      <td>subject_001_01</td>\n",
              "      <td>0.025</td>\n",
              "      <td>0</td>\n",
              "    </tr>\n",
              "    <tr>\n",
              "      <th>1</th>\n",
              "      <td>4.544637</td>\n",
              "      <td>8.408659</td>\n",
              "      <td>2.890000</td>\n",
              "      <td>0.007967</td>\n",
              "      <td>0.022412</td>\n",
              "      <td>0.001159</td>\n",
              "      <td>subject_001_01</td>\n",
              "      <td>0.050</td>\n",
              "      <td>0</td>\n",
              "    </tr>\n",
              "    <tr>\n",
              "      <th>2</th>\n",
              "      <td>4.849308</td>\n",
              "      <td>8.411614</td>\n",
              "      <td>2.900692</td>\n",
              "      <td>0.027778</td>\n",
              "      <td>-0.010670</td>\n",
              "      <td>-0.014223</td>\n",
              "      <td>subject_001_01</td>\n",
              "      <td>0.075</td>\n",
              "      <td>0</td>\n",
              "    </tr>\n",
              "    <tr>\n",
              "      <th>3</th>\n",
              "      <td>4.509190</td>\n",
              "      <td>8.118649</td>\n",
              "      <td>2.847298</td>\n",
              "      <td>0.021577</td>\n",
              "      <td>-0.045498</td>\n",
              "      <td>-0.021111</td>\n",
              "      <td>subject_001_01</td>\n",
              "      <td>0.100</td>\n",
              "      <td>0</td>\n",
              "    </tr>\n",
              "    <tr>\n",
              "      <th>4</th>\n",
              "      <td>4.226515</td>\n",
              "      <td>8.273807</td>\n",
              "      <td>2.851742</td>\n",
              "      <td>0.012534</td>\n",
              "      <td>0.000445</td>\n",
              "      <td>-0.016830</td>\n",
              "      <td>subject_001_01</td>\n",
              "      <td>0.125</td>\n",
              "      <td>0</td>\n",
              "    </tr>\n",
              "    <tr>\n",
              "      <th>5</th>\n",
              "      <td>4.532063</td>\n",
              "      <td>8.398341</td>\n",
              "      <td>2.856682</td>\n",
              "      <td>0.014484</td>\n",
              "      <td>0.028769</td>\n",
              "      <td>-0.011091</td>\n",
              "      <td>subject_001_01</td>\n",
              "      <td>0.150</td>\n",
              "      <td>0</td>\n",
              "    </tr>\n",
              "    <tr>\n",
              "      <th>6</th>\n",
              "      <td>4.433669</td>\n",
              "      <td>8.294719</td>\n",
              "      <td>2.823521</td>\n",
              "      <td>0.016340</td>\n",
              "      <td>-0.029434</td>\n",
              "      <td>-0.008998</td>\n",
              "      <td>subject_001_01</td>\n",
              "      <td>0.175</td>\n",
              "      <td>0</td>\n",
              "    </tr>\n",
              "    <tr>\n",
              "      <th>7</th>\n",
              "      <td>4.160676</td>\n",
              "      <td>8.260676</td>\n",
              "      <td>2.827568</td>\n",
              "      <td>0.011222</td>\n",
              "      <td>-0.016748</td>\n",
              "      <td>-0.006027</td>\n",
              "      <td>subject_001_01</td>\n",
              "      <td>0.200</td>\n",
              "      <td>0</td>\n",
              "    </tr>\n",
              "    <tr>\n",
              "      <th>8</th>\n",
              "      <td>4.432763</td>\n",
              "      <td>8.272613</td>\n",
              "      <td>2.790050</td>\n",
              "      <td>-0.002715</td>\n",
              "      <td>0.023094</td>\n",
              "      <td>0.012222</td>\n",
              "      <td>subject_001_01</td>\n",
              "      <td>0.225</td>\n",
              "      <td>0</td>\n",
              "    </tr>\n",
              "    <tr>\n",
              "      <th>9</th>\n",
              "      <td>4.511362</td>\n",
              "      <td>8.256774</td>\n",
              "      <td>2.820538</td>\n",
              "      <td>-0.002248</td>\n",
              "      <td>0.001547</td>\n",
              "      <td>0.011137</td>\n",
              "      <td>subject_001_01</td>\n",
              "      <td>0.250</td>\n",
              "      <td>0</td>\n",
              "    </tr>\n",
              "    <tr>\n",
              "      <th>10</th>\n",
              "      <td>4.098018</td>\n",
              "      <td>8.154184</td>\n",
              "      <td>2.901101</td>\n",
              "      <td>-0.010418</td>\n",
              "      <td>-0.042853</td>\n",
              "      <td>0.005031</td>\n",
              "      <td>subject_001_01</td>\n",
              "      <td>0.275</td>\n",
              "      <td>0</td>\n",
              "    </tr>\n",
              "    <tr>\n",
              "      <th>11</th>\n",
              "      <td>3.931769</td>\n",
              "      <td>8.203628</td>\n",
              "      <td>2.958186</td>\n",
              "      <td>-0.015232</td>\n",
              "      <td>-0.006177</td>\n",
              "      <td>0.016877</td>\n",
              "      <td>subject_001_01</td>\n",
              "      <td>0.300</td>\n",
              "      <td>0</td>\n",
              "    </tr>\n",
              "    <tr>\n",
              "      <th>12</th>\n",
              "      <td>4.524325</td>\n",
              "      <td>8.446963</td>\n",
              "      <td>2.874356</td>\n",
              "      <td>-0.003438</td>\n",
              "      <td>0.036310</td>\n",
              "      <td>0.045451</td>\n",
              "      <td>subject_001_01</td>\n",
              "      <td>0.325</td>\n",
              "      <td>0</td>\n",
              "    </tr>\n",
              "    <tr>\n",
              "      <th>13</th>\n",
              "      <td>4.615744</td>\n",
              "      <td>8.385348</td>\n",
              "      <td>2.782674</td>\n",
              "      <td>-0.002790</td>\n",
              "      <td>0.012677</td>\n",
              "      <td>0.054444</td>\n",
              "      <td>subject_001_01</td>\n",
              "      <td>0.350</td>\n",
              "      <td>0</td>\n",
              "    </tr>\n",
              "    <tr>\n",
              "      <th>14</th>\n",
              "      <td>4.392814</td>\n",
              "      <td>8.239121</td>\n",
              "      <td>2.830176</td>\n",
              "      <td>0.001527</td>\n",
              "      <td>0.015576</td>\n",
              "      <td>0.052817</td>\n",
              "      <td>subject_001_01</td>\n",
              "      <td>0.375</td>\n",
              "      <td>0</td>\n",
              "    </tr>\n",
              "    <tr>\n",
              "      <th>15</th>\n",
              "      <td>4.633221</td>\n",
              "      <td>8.197211</td>\n",
              "      <td>2.872404</td>\n",
              "      <td>-0.006495</td>\n",
              "      <td>0.039828</td>\n",
              "      <td>0.040343</td>\n",
              "      <td>subject_001_01</td>\n",
              "      <td>0.400</td>\n",
              "      <td>0</td>\n",
              "    </tr>\n",
              "    <tr>\n",
              "      <th>16</th>\n",
              "      <td>4.788242</td>\n",
              "      <td>8.201208</td>\n",
              "      <td>2.805275</td>\n",
              "      <td>-0.009608</td>\n",
              "      <td>0.032156</td>\n",
              "      <td>0.025749</td>\n",
              "      <td>subject_001_01</td>\n",
              "      <td>0.425</td>\n",
              "      <td>0</td>\n",
              "    </tr>\n",
              "    <tr>\n",
              "      <th>17</th>\n",
              "      <td>4.751849</td>\n",
              "      <td>8.220000</td>\n",
              "      <td>2.847035</td>\n",
              "      <td>-0.012330</td>\n",
              "      <td>0.018727</td>\n",
              "      <td>0.017562</td>\n",
              "      <td>subject_001_01</td>\n",
              "      <td>0.450</td>\n",
              "      <td>0</td>\n",
              "    </tr>\n",
              "    <tr>\n",
              "      <th>18</th>\n",
              "      <td>4.612801</td>\n",
              "      <td>8.290000</td>\n",
              "      <td>2.845603</td>\n",
              "      <td>-0.004444</td>\n",
              "      <td>0.005675</td>\n",
              "      <td>0.003214</td>\n",
              "      <td>subject_001_01</td>\n",
              "      <td>0.475</td>\n",
              "      <td>0</td>\n",
              "    </tr>\n",
              "    <tr>\n",
              "      <th>19</th>\n",
              "      <td>4.603880</td>\n",
              "      <td>8.246231</td>\n",
              "      <td>2.876940</td>\n",
              "      <td>-0.000502</td>\n",
              "      <td>0.014905</td>\n",
              "      <td>0.001992</td>\n",
              "      <td>subject_001_01</td>\n",
              "      <td>0.500</td>\n",
              "      <td>0</td>\n",
              "    </tr>\n",
              "  </tbody>\n",
              "</table>\n",
              "</div>\n",
              "      <button class=\"colab-df-convert\" onclick=\"convertToInteractive('df-3939a1fc-bf94-47df-8116-9befb4fd4860')\"\n",
              "              title=\"Convert this dataframe to an interactive table.\"\n",
              "              style=\"display:none;\">\n",
              "        \n",
              "  <svg xmlns=\"http://www.w3.org/2000/svg\" height=\"24px\"viewBox=\"0 0 24 24\"\n",
              "       width=\"24px\">\n",
              "    <path d=\"M0 0h24v24H0V0z\" fill=\"none\"/>\n",
              "    <path d=\"M18.56 5.44l.94 2.06.94-2.06 2.06-.94-2.06-.94-.94-2.06-.94 2.06-2.06.94zm-11 1L8.5 8.5l.94-2.06 2.06-.94-2.06-.94L8.5 2.5l-.94 2.06-2.06.94zm10 10l.94 2.06.94-2.06 2.06-.94-2.06-.94-.94-2.06-.94 2.06-2.06.94z\"/><path d=\"M17.41 7.96l-1.37-1.37c-.4-.4-.92-.59-1.43-.59-.52 0-1.04.2-1.43.59L10.3 9.45l-7.72 7.72c-.78.78-.78 2.05 0 2.83L4 21.41c.39.39.9.59 1.41.59.51 0 1.02-.2 1.41-.59l7.78-7.78 2.81-2.81c.8-.78.8-2.07 0-2.86zM5.41 20L4 18.59l7.72-7.72 1.47 1.35L5.41 20z\"/>\n",
              "  </svg>\n",
              "      </button>\n",
              "      \n",
              "  <style>\n",
              "    .colab-df-container {\n",
              "      display:flex;\n",
              "      flex-wrap:wrap;\n",
              "      gap: 12px;\n",
              "    }\n",
              "\n",
              "    .colab-df-convert {\n",
              "      background-color: #E8F0FE;\n",
              "      border: none;\n",
              "      border-radius: 50%;\n",
              "      cursor: pointer;\n",
              "      display: none;\n",
              "      fill: #1967D2;\n",
              "      height: 32px;\n",
              "      padding: 0 0 0 0;\n",
              "      width: 32px;\n",
              "    }\n",
              "\n",
              "    .colab-df-convert:hover {\n",
              "      background-color: #E2EBFA;\n",
              "      box-shadow: 0px 1px 2px rgba(60, 64, 67, 0.3), 0px 1px 3px 1px rgba(60, 64, 67, 0.15);\n",
              "      fill: #174EA6;\n",
              "    }\n",
              "\n",
              "    [theme=dark] .colab-df-convert {\n",
              "      background-color: #3B4455;\n",
              "      fill: #D2E3FC;\n",
              "    }\n",
              "\n",
              "    [theme=dark] .colab-df-convert:hover {\n",
              "      background-color: #434B5C;\n",
              "      box-shadow: 0px 1px 3px 1px rgba(0, 0, 0, 0.15);\n",
              "      filter: drop-shadow(0px 1px 2px rgba(0, 0, 0, 0.3));\n",
              "      fill: #FFFFFF;\n",
              "    }\n",
              "  </style>\n",
              "\n",
              "      <script>\n",
              "        const buttonEl =\n",
              "          document.querySelector('#df-3939a1fc-bf94-47df-8116-9befb4fd4860 button.colab-df-convert');\n",
              "        buttonEl.style.display =\n",
              "          google.colab.kernel.accessAllowed ? 'block' : 'none';\n",
              "\n",
              "        async function convertToInteractive(key) {\n",
              "          const element = document.querySelector('#df-3939a1fc-bf94-47df-8116-9befb4fd4860');\n",
              "          const dataTable =\n",
              "            await google.colab.kernel.invokeFunction('convertToInteractive',\n",
              "                                                     [key], {});\n",
              "          if (!dataTable) return;\n",
              "\n",
              "          const docLinkHtml = 'Like what you see? Visit the ' +\n",
              "            '<a target=\"_blank\" href=https://colab.research.google.com/notebooks/data_table.ipynb>data table notebook</a>'\n",
              "            + ' to learn more about interactive tables.';\n",
              "          element.innerHTML = '';\n",
              "          dataTable['output_type'] = 'display_data';\n",
              "          await google.colab.output.renderOutput(dataTable, element);\n",
              "          const docLink = document.createElement('div');\n",
              "          docLink.innerHTML = docLinkHtml;\n",
              "          element.appendChild(docLink);\n",
              "        }\n",
              "      </script>\n",
              "    </div>\n",
              "  </div>\n",
              "  "
            ]
          },
          "metadata": {},
          "execution_count": 8
        }
      ],
      "source": [
        "final_df.head(20)"
      ]
    },
    {
      "cell_type": "code",
      "execution_count": 9,
      "metadata": {
        "id": "WADScD094VYa"
      },
      "outputs": [],
      "source": [
        "from scipy import stats\n",
        "\n",
        "def create_windows(X, y, time_steps=1, step=1):\n",
        "    Xs, ys = [], []\n",
        "      \n",
        "    for i in range(0, len(X) - time_steps + 1, step):\n",
        "        v = X.iloc[i:(i + time_steps)].values\n",
        "        labels = y.iloc[i: i + time_steps]\n",
        "        Xs.append(v)\n",
        "        ys.append(stats.mode(labels)[0][0])\n",
        "\n",
        "    return np.array(Xs), np.array(ys).reshape(-1, 1)"
      ]
    },
    {
      "cell_type": "code",
      "execution_count": 10,
      "metadata": {
        "id": "KfaxIGB-4s8-"
      },
      "outputs": [],
      "source": [
        "X = final_df[['acc_x', 'acc_y', 'acc_z', 'gyro_x', 'gyro_y', 'gyro_z']]\n",
        "y = final_df['label']\n",
        "\n",
        "TIME_STEPS = 40  # Window Size\n",
        "STEP = 1\n",
        "\n",
        "X_data, y_data = create_windows(X, y, time_steps=TIME_STEPS,step=STEP)"
      ]
    },
    {
      "cell_type": "code",
      "execution_count": 11,
      "metadata": {
        "colab": {
          "base_uri": "https://localhost:8080/"
        },
        "id": "awpgzOZ_miap",
        "outputId": "35befa5f-4ca5-420b-e4f5-3e53356e98ae"
      },
      "outputs": [
        {
          "output_type": "stream",
          "name": "stdout",
          "text": [
            "(1341617, 6)\n",
            "(1341617,)\n"
          ]
        }
      ],
      "source": [
        "print(X.shape)\n",
        "print(y.shape)"
      ]
    },
    {
      "cell_type": "code",
      "execution_count": 12,
      "metadata": {
        "colab": {
          "base_uri": "https://localhost:8080/"
        },
        "id": "QT9oJETM5htw",
        "outputId": "9a83f827-6b04-4977-91cf-88a1e3bbed06"
      },
      "outputs": [
        {
          "output_type": "stream",
          "name": "stdout",
          "text": [
            "(1341578, 40, 6)\n",
            "(1341578, 1)\n"
          ]
        }
      ],
      "source": [
        "print(X_data.shape)\n",
        "print(y_data.shape)"
      ]
    },
    {
      "cell_type": "code",
      "execution_count": 13,
      "metadata": {
        "id": "WmDxbsCVHxLb"
      },
      "outputs": [],
      "source": [
        "#X_data = np.expand_dims(X_data, axis=-1)"
      ]
    },
    {
      "cell_type": "code",
      "execution_count": 14,
      "metadata": {
        "id": "L8xWncnaIFju"
      },
      "outputs": [],
      "source": [
        "from imblearn.under_sampling import RandomUnderSampler\n",
        "from imblearn.over_sampling import SMOTE\n",
        "\n",
        "df_label = pd.DataFrame(y_data, columns=['label'])\n",
        "df_label['index_'] = df_label.index\n",
        "\n",
        "## Library for performing undersampling \n",
        "rus = RandomUnderSampler(sampling_strategy='not minority', random_state=1)\n",
        "df_balanced, balanced_labels = rus.fit_resample(df_label, df_label['label'])\n",
        "\n",
        "sos = SMOTE(sampling_strategy='not majority')\n",
        "df_balanced, balanced_labels  = sos.fit_resample(df_balanced, balanced_labels)\n",
        "\n",
        "df_balanced = pd.DataFrame(df_balanced, columns=['label', 'index_'])\n",
        "\n",
        "X_data = X_data[df_balanced['index_'].values]\n",
        "y_data = y_data[df_balanced['index_'].values]\n"
      ]
    },
    {
      "cell_type": "code",
      "execution_count": 15,
      "metadata": {
        "colab": {
          "base_uri": "https://localhost:8080/"
        },
        "id": "cjz4sJGTJukT",
        "outputId": "0388b350-c87b-4c1b-916e-c1376dba71c4"
      },
      "outputs": [
        {
          "output_type": "stream",
          "name": "stdout",
          "text": [
            "(219932, 40, 6)\n",
            "(219932, 1)\n"
          ]
        }
      ],
      "source": [
        "print(X_data.shape)\n",
        "print(y_data.shape)"
      ]
    },
    {
      "cell_type": "code",
      "execution_count": 16,
      "metadata": {
        "id": "-IOUXOo70qjx"
      },
      "outputs": [],
      "source": [
        "from sklearn.preprocessing import OneHotEncoder\n",
        "from sklearn.model_selection import train_test_split\n",
        "\n",
        "X_train, X_val, y_train, y_val = train_test_split(X_data, y_data, test_size=0.3, random_state=42)\n",
        "X_val, X_test, y_val, y_test = train_test_split(X_val, y_val, test_size=0.1, random_state=42)\n",
        "\n",
        "## Converting label to OneHot Encoding\n",
        "enc = OneHotEncoder(handle_unknown='ignore', sparse=False)\n",
        "enc = enc.fit(y_train)\n",
        "y_train = enc.transform(y_train)\n",
        "y_val = enc.transform(y_val)\n",
        "y_test = enc.transform(y_test)"
      ]
    },
    {
      "cell_type": "code",
      "execution_count": 17,
      "metadata": {
        "id": "K79dr4b_0Pt5"
      },
      "outputs": [],
      "source": [
        "X_train = np.asarray(X_train).astype('float32')\n",
        "X_val = np.asarray(X_val).astype('float32')\n",
        "X_test = np.array(X_test).astype('float32')"
      ]
    },
    {
      "cell_type": "code",
      "execution_count": 18,
      "metadata": {
        "id": "VH_UwvlX0P0c"
      },
      "outputs": [],
      "source": [
        "from tensorflow.keras.models import Sequential, load_model\n",
        "from tensorflow.keras.layers import Dense, Activation, Embedding, Dropout, TimeDistributed\n",
        "from tensorflow.keras.layers import LSTM, LSTM, SimpleRNN, GRU, Bidirectional, Conv2D, Reshape\n",
        "from tensorflow.keras.optimizers import Adam, SGD\n",
        "from tensorflow.keras.utils import to_categorical\n",
        "\n",
        "input_shape = (X_train.shape[1], X_train.shape[2], 1)\n",
        "output_dim = 4\n",
        "lr = 0.001\n",
        "\n",
        "model = Sequential()\n",
        "model.add(Conv2D(128, kernel_size=(6, 1), input_shape=input_shape))\n",
        "model.add(Activation(\"relu\"))\n",
        "\n",
        "model.add(Dropout(0.2))\n",
        "\n",
        "model.add(Conv2D(128, kernel_size=(6, 1)))\n",
        "model.add(Activation(\"relu\"))\n",
        "\n",
        "model.add(Reshape((30, 6*128)))\n",
        "\n",
        "model.add(LSTM(256, return_sequences=True))\n",
        "\n",
        "model.add(Dropout(0.5))\n",
        "\n",
        "model.add(LSTM(256))\n",
        "\n",
        "model.add(Dropout(0.5))\n",
        "model.add(Dense(output_dim))\n",
        "\n",
        "model.add(Activation(\"softmax\"))\n",
        "\n",
        "opt = Adam(\n",
        "    learning_rate=lr, beta_1=0.9, beta_2=0.999, epsilon=1e-07, amsgrad=False,\n",
        "    name='Adam'\n",
        ")\n",
        "model.compile(\n",
        "    loss=\"categorical_crossentropy\", optimizer=opt, metrics=[\"acc\"]\n",
        ")"
      ]
    },
    {
      "cell_type": "code",
      "execution_count": 19,
      "metadata": {
        "colab": {
          "base_uri": "https://localhost:8080/"
        },
        "id": "OG6WBGeBNQv4",
        "outputId": "d2f11a1c-dc1a-4fff-85ea-51b77485c9aa"
      },
      "outputs": [
        {
          "output_type": "stream",
          "name": "stdout",
          "text": [
            "Epoch 1/20\n",
            "2406/2406 [==============================] - 50s 15ms/step - loss: 0.2509 - acc: 0.9048 - val_loss: 0.1516 - val_acc: 0.9473\n",
            "Epoch 2/20\n",
            "2406/2406 [==============================] - 36s 15ms/step - loss: 0.1366 - acc: 0.9525 - val_loss: 0.1195 - val_acc: 0.9586\n",
            "Epoch 3/20\n",
            "2406/2406 [==============================] - 37s 15ms/step - loss: 0.1079 - acc: 0.9623 - val_loss: 0.0880 - val_acc: 0.9697\n",
            "Epoch 4/20\n",
            "2406/2406 [==============================] - 37s 16ms/step - loss: 0.0908 - acc: 0.9684 - val_loss: 0.0860 - val_acc: 0.9696\n",
            "Epoch 5/20\n",
            "2406/2406 [==============================] - 38s 16ms/step - loss: 0.0780 - acc: 0.9732 - val_loss: 0.0947 - val_acc: 0.9673\n",
            "Epoch 6/20\n",
            "2406/2406 [==============================] - 38s 16ms/step - loss: 0.0718 - acc: 0.9756 - val_loss: 0.0725 - val_acc: 0.9773\n",
            "Epoch 7/20\n",
            "2406/2406 [==============================] - 38s 16ms/step - loss: 0.0639 - acc: 0.9780 - val_loss: 0.0756 - val_acc: 0.9767\n",
            "Epoch 8/20\n",
            "2406/2406 [==============================] - 38s 16ms/step - loss: 0.0583 - acc: 0.9799 - val_loss: 0.0688 - val_acc: 0.9787\n",
            "Epoch 9/20\n",
            "2406/2406 [==============================] - 38s 16ms/step - loss: 0.0564 - acc: 0.9807 - val_loss: 0.0628 - val_acc: 0.9800\n",
            "Epoch 10/20\n",
            "2406/2406 [==============================] - 38s 16ms/step - loss: 0.0538 - acc: 0.9815 - val_loss: 0.0739 - val_acc: 0.9772\n",
            "Epoch 11/20\n",
            "2406/2406 [==============================] - 38s 16ms/step - loss: 0.0487 - acc: 0.9829 - val_loss: 0.0578 - val_acc: 0.9813\n",
            "Epoch 12/20\n",
            "2406/2406 [==============================] - 38s 16ms/step - loss: 0.0477 - acc: 0.9838 - val_loss: 0.0582 - val_acc: 0.9812\n",
            "Epoch 13/20\n",
            "2406/2406 [==============================] - 38s 16ms/step - loss: 0.0465 - acc: 0.9838 - val_loss: 0.0616 - val_acc: 0.9808\n",
            "Epoch 14/20\n",
            "2406/2406 [==============================] - 38s 16ms/step - loss: 0.0443 - acc: 0.9848 - val_loss: 0.0582 - val_acc: 0.9824\n",
            "Epoch 15/20\n",
            "2406/2406 [==============================] - 38s 16ms/step - loss: 0.0428 - acc: 0.9854 - val_loss: 0.0609 - val_acc: 0.9819\n",
            "Epoch 16/20\n",
            "2406/2406 [==============================] - 38s 16ms/step - loss: 0.0409 - acc: 0.9860 - val_loss: 0.0559 - val_acc: 0.9844\n",
            "Epoch 17/20\n",
            "2406/2406 [==============================] - 38s 16ms/step - loss: 0.0411 - acc: 0.9860 - val_loss: 0.0579 - val_acc: 0.9830\n",
            "Epoch 18/20\n",
            "2406/2406 [==============================] - 37s 16ms/step - loss: 0.0413 - acc: 0.9859 - val_loss: 0.0580 - val_acc: 0.9824\n",
            "Epoch 19/20\n",
            "2406/2406 [==============================] - 37s 16ms/step - loss: 0.0410 - acc: 0.9863 - val_loss: 0.0555 - val_acc: 0.9831\n",
            "Epoch 20/20\n",
            "2406/2406 [==============================] - 37s 16ms/step - loss: 0.0396 - acc: 0.9864 - val_loss: 0.0581 - val_acc: 0.9840\n"
          ]
        }
      ],
      "source": [
        "hist = model.fit(\n",
        "    X_train, y_train,\n",
        "    validation_data = (X_val, y_val),\n",
        "    epochs=20,\n",
        "    batch_size=64,\n",
        "    shuffle=True\n",
        ")"
      ]
    },
    {
      "cell_type": "code",
      "source": [
        "model.summary()"
      ],
      "metadata": {
        "colab": {
          "base_uri": "https://localhost:8080/"
        },
        "id": "PhSnOuA0637n",
        "outputId": "de10ab82-74ce-4897-dc00-a63cb9e68163"
      },
      "execution_count": 20,
      "outputs": [
        {
          "output_type": "stream",
          "name": "stdout",
          "text": [
            "Model: \"sequential\"\n",
            "_________________________________________________________________\n",
            " Layer (type)                Output Shape              Param #   \n",
            "=================================================================\n",
            " conv2d (Conv2D)             (None, 35, 6, 128)        896       \n",
            "                                                                 \n",
            " activation (Activation)     (None, 35, 6, 128)        0         \n",
            "                                                                 \n",
            " dropout (Dropout)           (None, 35, 6, 128)        0         \n",
            "                                                                 \n",
            " conv2d_1 (Conv2D)           (None, 30, 6, 128)        98432     \n",
            "                                                                 \n",
            " activation_1 (Activation)   (None, 30, 6, 128)        0         \n",
            "                                                                 \n",
            " reshape (Reshape)           (None, 30, 768)           0         \n",
            "                                                                 \n",
            " lstm (LSTM)                 (None, 30, 256)           1049600   \n",
            "                                                                 \n",
            " dropout_1 (Dropout)         (None, 30, 256)           0         \n",
            "                                                                 \n",
            " lstm_1 (LSTM)               (None, 256)               525312    \n",
            "                                                                 \n",
            " dropout_2 (Dropout)         (None, 256)               0         \n",
            "                                                                 \n",
            " dense (Dense)               (None, 4)                 1028      \n",
            "                                                                 \n",
            " activation_2 (Activation)   (None, 4)                 0         \n",
            "                                                                 \n",
            "=================================================================\n",
            "Total params: 1,675,268\n",
            "Trainable params: 1,675,268\n",
            "Non-trainable params: 0\n",
            "_________________________________________________________________\n"
          ]
        }
      ]
    },
    {
      "cell_type": "code",
      "execution_count": 21,
      "metadata": {
        "id": "-Tl0UBi30bnw",
        "colab": {
          "base_uri": "https://localhost:8080/",
          "height": 295
        },
        "outputId": "9921ad16-0efe-42be-ecf7-7979221a7a27"
      },
      "outputs": [
        {
          "output_type": "display_data",
          "data": {
            "text/plain": [
              "<Figure size 432x288 with 1 Axes>"
            ],
            "image/png": "[encoded data removed]"
          },
          "metadata": {
            "needs_background": "light"
          }
        }
      ],
      "source": [
        "plt.plot(hist.history['acc'])\n",
        "plt.plot(hist.history['val_acc'])\n",
        "plt.title('model accuracy')\n",
        "plt.ylabel('accuracy')\n",
        "plt.xlabel('epoch')\n",
        "plt.legend(['train', 'val'], loc='upper left')\n",
        "plt.show()"
      ]
    },
    {
      "cell_type": "code",
      "execution_count": 22,
      "metadata": {
        "id": "YhYiuQVv0bCX",
        "colab": {
          "base_uri": "https://localhost:8080/",
          "height": 295
        },
        "outputId": "c3695dea-5e0a-4709-dbd1-f1810ff860bb"
      },
      "outputs": [
        {
          "output_type": "display_data",
          "data": {
            "text/plain": [
              "<Figure size 432x288 with 1 Axes>"
            ],
            "image/png": "[encoded data removed]"
          },
          "metadata": {
            "needs_background": "light"
          }
        }
      ],
      "source": [
        "# summarize history for loss\n",
        "plt.plot(hist.history['loss'])\n",
        "plt.plot(hist.history['val_loss'])\n",
        "plt.title('model loss')\n",
        "plt.ylabel('loss')\n",
        "plt.xlabel('epoch')\n",
        "plt.legend(['train', 'val'], loc='upper left')\n",
        "plt.show()"
      ]
    },
    {
      "cell_type": "code",
      "execution_count": 23,
      "metadata": {
        "id": "YgblL8tQQZAR"
      },
      "outputs": [],
      "source": [
        "y_pred = model.predict(X_test)\n",
        "y_pred = np.argmax(y_pred, axis = 1)\n",
        "y_test = np.argmax(y_test, axis = 1)"
      ]
    },
    {
      "cell_type": "code",
      "execution_count": 24,
      "metadata": {
        "id": "DfNWI9v6QZCR",
        "colab": {
          "base_uri": "https://localhost:8080/"
        },
        "outputId": "d5620485-e583-45c5-d876-07a1ba735a00"
      },
      "outputs": [
        {
          "output_type": "stream",
          "name": "stdout",
          "text": [
            "              precision    recall  f1-score   support\n",
            "\n",
            "           0       0.98      0.95      0.97      1663\n",
            "           1       0.99      1.00      1.00      1661\n",
            "           2       0.99      1.00      0.99      1581\n",
            "           3       0.96      0.99      0.97      1693\n",
            "\n",
            "    accuracy                           0.98      6598\n",
            "   macro avg       0.98      0.98      0.98      6598\n",
            "weighted avg       0.98      0.98      0.98      6598\n",
            "\n"
          ]
        }
      ],
      "source": [
        "from sklearn.metrics import classification_report\n",
        "\n",
        "print(classification_report(y_test, y_pred))"
      ]
    },
    {
      "cell_type": "code",
      "execution_count": 25,
      "metadata": {
        "id": "RFdMlyHdemmo"
      },
      "outputs": [],
      "source": [
        "def create_test_windows(X, time_steps=1, step=1):\n",
        "  Xs = []\n",
        "  for i in range(0, len(X) - time_steps + 1, step):\n",
        "    v = X.iloc[i:(i + time_steps)].values\n",
        "    Xs.append(v)\n",
        "  return np.array(Xs)"
      ]
    },
    {
      "cell_type": "code",
      "execution_count": 26,
      "metadata": {
        "id": "OinH6hSntyQd"
      },
      "outputs": [],
      "source": [
        "def test_windows(X, time_steps, step):\n",
        "  Xs = []\n",
        "  n_records = X.shape[0]\n",
        "  remainder = (n_records - time_steps) % step\n",
        "  num_windows = 1 + int((n_records - time_steps - remainder) / step)\n",
        "  for k in range(num_windows):\n",
        "      Xs.append(X[k*step:time_steps-1+k*step+1])\n",
        "  return np.array(Xs)"
      ]
    },
    {
      "cell_type": "code",
      "execution_count": 27,
      "metadata": {
        "id": "K3q329AJv4Su",
        "colab": {
          "base_uri": "https://localhost:8080/"
        },
        "outputId": "eb210598-a509-4467-f6aa-6966dc9de88b"
      },
      "outputs": [
        {
          "output_type": "stream",
          "name": "stdout",
          "text": [
            "Original number of values:  (45319, 6)\n",
            "Number of windows:  45280\n",
            "11330 11330\n",
            "Original number of values:  (51761, 6)\n",
            "Number of windows:  51722\n",
            "12940 12941\n",
            "Original number of values:  (49081, 6)\n",
            "Number of windows:  49042\n",
            "12270 12271\n",
            "Original number of values:  (37991, 6)\n",
            "Number of windows:  37952\n",
            "9498 9498\n"
          ]
        }
      ],
      "source": [
        "filepath = 'TestData/'\n",
        "column_list = ['acc_x', 'acc_y', 'acc_z', 'gyro_x', 'gyro_y', 'gyro_z','subject', 'time']\n",
        "columns = ['acc_x', 'acc_y', 'acc_z', 'gyro_x', 'gyro_y', 'gyro_z']\n",
        "df_test_data = pd.DataFrame([], columns = column_list)\n",
        "\n",
        "## Reading prediction file \n",
        "for idx in glob.glob(filepath + '*.csv'):\n",
        "    df_type = idx.split('.')[0].split('__')[1]\n",
        "\n",
        "    if df_type == 'x':\n",
        "      subject_name = idx.split('.')[0].split('__')[0].split('/')[-1]\n",
        "      x_path = idx.split('.')[0].split('__')[0] + '__' + df_type + '.csv'\n",
        "      x_time_path = idx.split('.')[0].split('__')[0] + '__' + 'x_time' + '.csv'\n",
        "      y_time_path = idx.split('.')[0].split('__')[0] + '__' + 'y_time' + '.csv'\n",
        "      df_x = pd.read_csv(x_path, names=column_list[:6])\n",
        "      \n",
        "      print(\"Original number of values: \", df_x.shape)\n",
        "      ## Converting windows for test data \n",
        "      sampled_test = create_test_windows(df_x[columns],TIME_STEPS, STEP)\n",
        "      print(\"Number of windows: \", len(sampled_test))\n",
        "\n",
        "      ## Making inference on test data \n",
        "      pred_test = model.predict(sampled_test)\n",
        "      pred_test = np.argmax(pred_test, axis=1)\n",
        "      pred_test = list(pred_test)\n",
        "      pred_test = np.asarray(pred_test)\n",
        "      pred_test = np.concatenate([pred_test, np.asarray([pred_test[-1]]*40)])\n",
        "      pred_test = pd.DataFrame(pred_test, columns=['label'])\n",
        "\n",
        "      ## Sampling the prediction to match the test set sampling frequency. \n",
        "      df_mode = pred_test['label'].rolling(window=4, min_periods=1).apply(lambda x: int(stats.mode(x)[0]))[::4]\n",
        "\n",
        "      y_time = pd.read_csv(y_time_path, header=None).shape[0]\n",
        "      print(y_time, len(df_mode.values))\n",
        "    \n",
        "      pred_df = pd.DataFrame(df_mode.values)\n",
        "      pred_df = pred_df.astype('int64', copy=False)\n",
        "      pred_df.to_csv(subject_name + '__y.csv', index=False, columns=None)"
      ]
    },
    {
      "cell_type": "code",
      "source": [
        ""
      ],
      "metadata": {
        "id": "HmqN28scwop8"
      },
      "execution_count": 27,
      "outputs": []
    }
  ],
  "metadata": {
    "accelerator": "GPU",
    "colab": {
      "collapsed_sections": [],
      "name": "2dcnn+lstm.ipynb",
      "provenance": []
    },
    "kernelspec": {
      "display_name": "Python 3",
      "language": "python",
      "name": "python3"
    },
    "language_info": {
      "codemirror_mode": {
        "name": "ipython",
        "version": 3
      },
      "file_extension": ".py",
      "mimetype": "text/x-python",
      "name": "python",
      "nbconvert_exporter": "python",
      "pygments_lexer": "ipython3",
      "version": "3.8.8"
    }
  },
  "nbformat": 4,
  "nbformat_minor": 0
}