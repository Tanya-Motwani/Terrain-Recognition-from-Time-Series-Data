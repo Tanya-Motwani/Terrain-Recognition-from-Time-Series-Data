{
  "nbformat": 4,
  "nbformat_minor": 0,
  "metadata": {
    "colab": {
      "name": "weighted RF.ipynb",
      "provenance": [],
      "collapsed_sections": []
    },
    "kernelspec": {
      "name": "python3",
      "display_name": "Python 3"
    },
    "language_info": {
      "name": "python"
    }
  },
  "cells": [
    {
      "cell_type": "code",
      "execution_count": 1,
      "metadata": {
        "id": "GitahgEVEvfm"
      },
      "outputs": [],
      "source": [
        "import csv\n",
        "import os\n",
        "import pandas as pd\n",
        "import numpy as np\n",
        "import matplotlib.pyplot as plt\n",
        "import glob\n",
        "import imblearn\n",
        "import warnings\n",
        "warnings.filterwarnings('ignore')"
      ]
    },
    {
      "cell_type": "code",
      "source": [
        "from google.colab import drive\n",
        "drive.mount('/content/drive', force_remount=True)"
      ],
      "metadata": {
        "colab": {
          "base_uri": "https://localhost:8080/"
        },
        "id": "CrGBeXWoGG7h",
        "outputId": "3dec1bc2-c6d3-4171-da82-f377e8638385"
      },
      "execution_count": 2,
      "outputs": [
        {
          "output_type": "stream",
          "name": "stdout",
          "text": [
            "Mounted at /content/drive\n"
          ]
        }
      ]
    },
    {
      "cell_type": "code",
      "source": [
        "%cd drive/MyDrive/NN"
      ],
      "metadata": {
        "colab": {
          "base_uri": "https://localhost:8080/"
        },
        "id": "dxzR597LBzRH",
        "outputId": "b5d87b36-b87e-40aa-d938-d6eb0a0e4699"
      },
      "execution_count": 3,
      "outputs": [
        {
          "output_type": "stream",
          "name": "stdout",
          "text": [
            "/content/drive/MyDrive/NN\n"
          ]
        }
      ]
    },
    {
      "cell_type": "code",
      "source": [
        "def upsample_label(temp_x, temp_y):\n",
        "    y_time_list = temp_y['time'].values\n",
        "    y_label = temp_y['label'].values\n",
        "    jdx = 0\n",
        "    label_list = []\n",
        "    for index,row in temp_x.iterrows():\n",
        "        try:\n",
        "            if row['time'] > y_time_list[jdx]:\n",
        "                jdx+=1\n",
        "            label_list.append(y_label[jdx])\n",
        "        except:\n",
        "            label_list.append(y_label[jdx - 1])\n",
        "    return label_list"
      ],
      "metadata": {
        "id": "5zap0_k6FNyO"
      },
      "execution_count": 4,
      "outputs": []
    },
    {
      "cell_type": "code",
      "source": [
        "filepath = 'TrainingData/'\n",
        "column_list = ['acc_x', 'acc_y', 'acc_z', 'gyro_x', 'gyro_y', 'gyro_z','subject', 'time', 'label']\n",
        "final_df = pd.DataFrame([], columns = column_list)\n",
        "for i in glob.glob(filepath + '*.csv'):\n",
        "    df_type = i.split('.')[0].split('__')[1]\n",
        "    file_name = i.split('/')[1].split('__')[0]\n",
        "    if df_type == 'x':\n",
        "        x = open(filepath + file_name + '__x.csv')\n",
        "        x = pd.read_csv(x)\n",
        "        x['subject'] = [file_name] * x.shape[0]\n",
        "        \n",
        "        x_time = open(filepath + file_name + '__x_time.csv')\n",
        "        x_time = pd.read_csv(x_time)\n",
        "        x['time'] = x_time\n",
        "        \n",
        "        y = open(filepath + file_name + '__y.csv')\n",
        "        y = pd.read_csv(y)\n",
        "        y['subject'] = [file_name] * y.shape[0]\n",
        "        \n",
        "        y_time = open(filepath + file_name + '__y_time.csv')\n",
        "        y_time = pd.read_csv(y_time)\n",
        "        y['time'] = y_time\n",
        "        \n",
        "        y.columns = ['label', 'subject', 'time']\n",
        "        label_list = upsample_label(x, y)\n",
        "        x['label'] = label_list\n",
        "        x.columns = column_list\n",
        "        final_df = pd.concat([final_df, x], ignore_index=True)\n"
      ],
      "metadata": {
        "id": "xImsHMkiE1JA"
      },
      "execution_count": 5,
      "outputs": []
    },
    {
      "cell_type": "code",
      "source": [
        "final_df.shape"
      ],
      "metadata": {
        "colab": {
          "base_uri": "https://localhost:8080/"
        },
        "id": "XsS1OazfGMk0",
        "outputId": "31aaf74c-9102-47fa-fa4e-30863c9fe9fd"
      },
      "execution_count": 6,
      "outputs": [
        {
          "output_type": "execute_result",
          "data": {
            "text/plain": [
              "(1341617, 9)"
            ]
          },
          "metadata": {},
          "execution_count": 6
        }
      ]
    },
    {
      "cell_type": "code",
      "source": [
        "final_df.head(20)"
      ],
      "metadata": {
        "colab": {
          "base_uri": "https://localhost:8080/",
          "height": 676
        },
        "id": "aC-srk8ZGlOL",
        "outputId": "e4d160b5-311d-48e1-9db4-0c05d43f3555"
      },
      "execution_count": 7,
      "outputs": [
        {
          "output_type": "execute_result",
          "data": {
            "text/plain": [
              "       acc_x     acc_y     acc_z    gyro_x    gyro_y    gyro_z  \\\n",
              "0   4.186920  8.344455  2.908057  0.005771 -0.004480 -0.003345   \n",
              "1   4.544637  8.408659  2.890000  0.007967  0.022412  0.001159   \n",
              "2   4.849308  8.411614  2.900692  0.027778 -0.010670 -0.014223   \n",
              "3   4.509190  8.118649  2.847298  0.021577 -0.045498 -0.021111   \n",
              "4   4.226515  8.273807  2.851742  0.012534  0.000445 -0.016830   \n",
              "5   4.532063  8.398341  2.856682  0.014484  0.028769 -0.011091   \n",
              "6   4.433669  8.294719  2.823521  0.016340 -0.029434 -0.008998   \n",
              "7   4.160676  8.260676  2.827568  0.011222 -0.016748 -0.006027   \n",
              "8   4.432763  8.272613  2.790050 -0.002715  0.023094  0.012222   \n",
              "9   4.511362  8.256774  2.820538 -0.002248  0.001547  0.011137   \n",
              "10  4.098018  8.154184  2.901101 -0.010418 -0.042853  0.005031   \n",
              "11  3.931769  8.203628  2.958186 -0.015232 -0.006177  0.016877   \n",
              "12  4.524325  8.446963  2.874356 -0.003438  0.036310  0.045451   \n",
              "13  4.615744  8.385348  2.782674 -0.002790  0.012677  0.054444   \n",
              "14  4.392814  8.239121  2.830176  0.001527  0.015576  0.052817   \n",
              "15  4.633221  8.197211  2.872404 -0.006495  0.039828  0.040343   \n",
              "16  4.788242  8.201208  2.805275 -0.009608  0.032156  0.025749   \n",
              "17  4.751849  8.220000  2.847035 -0.012330  0.018727  0.017562   \n",
              "18  4.612801  8.290000  2.845603 -0.004444  0.005675  0.003214   \n",
              "19  4.603880  8.246231  2.876940 -0.000502  0.014905  0.001992   \n",
              "\n",
              "           subject   time label  \n",
              "0   subject_001_01  0.025     0  \n",
              "1   subject_001_01  0.050     0  \n",
              "2   subject_001_01  0.075     0  \n",
              "3   subject_001_01  0.100     0  \n",
              "4   subject_001_01  0.125     0  \n",
              "5   subject_001_01  0.150     0  \n",
              "6   subject_001_01  0.175     0  \n",
              "7   subject_001_01  0.200     0  \n",
              "8   subject_001_01  0.225     0  \n",
              "9   subject_001_01  0.250     0  \n",
              "10  subject_001_01  0.275     0  \n",
              "11  subject_001_01  0.300     0  \n",
              "12  subject_001_01  0.325     0  \n",
              "13  subject_001_01  0.350     0  \n",
              "14  subject_001_01  0.375     0  \n",
              "15  subject_001_01  0.400     0  \n",
              "16  subject_001_01  0.425     0  \n",
              "17  subject_001_01  0.450     0  \n",
              "18  subject_001_01  0.475     0  \n",
              "19  subject_001_01  0.500     0  "
            ],
            "text/html": [
              "\n",
              "  <div id=\"df-b0ae4577-ec14-4e03-8147-e8b5d7ce0e3c\">\n",
              "    <div class=\"colab-df-container\">\n",
              "      <div>\n",
              "<style scoped>\n",
              "    .dataframe tbody tr th:only-of-type {\n",
              "        vertical-align: middle;\n",
              "    }\n",
              "\n",
              "    .dataframe tbody tr th {\n",
              "        vertical-align: top;\n",
              "    }\n",
              "\n",
              "    .dataframe thead th {\n",
              "        text-align: right;\n",
              "    }\n",
              "</style>\n",
              "<table border=\"1\" class=\"dataframe\">\n",
              "  <thead>\n",
              "    <tr style=\"text-align: right;\">\n",
              "      <th></th>\n",
              "      <th>acc_x</th>\n",
              "      <th>acc_y</th>\n",
              "      <th>acc_z</th>\n",
              "      <th>gyro_x</th>\n",
              "      <th>gyro_y</th>\n",
              "      <th>gyro_z</th>\n",
              "      <th>subject</th>\n",
              "      <th>time</th>\n",
              "      <th>label</th>\n",
              "    </tr>\n",
              "  </thead>\n",
              "  <tbody>\n",
              "    <tr>\n",
              "      <th>0</th>\n",
              "      <td>4.186920</td>\n",
              "      <td>8.344455</td>\n",
              "      <td>2.908057</td>\n",
              "      <td>0.005771</td>\n",
              "      <td>-0.004480</td>\n",
              "      <td>-0.003345</td>\n",
              "      <td>subject_001_01</td>\n",
              "      <td>0.025</td>\n",
              "      <td>0</td>\n",
              "    </tr>\n",
              "    <tr>\n",
              "      <th>1</th>\n",
              "      <td>4.544637</td>\n",
              "      <td>8.408659</td>\n",
              "      <td>2.890000</td>\n",
              "      <td>0.007967</td>\n",
              "      <td>0.022412</td>\n",
              "      <td>0.001159</td>\n",
              "      <td>subject_001_01</td>\n",
              "      <td>0.050</td>\n",
              "      <td>0</td>\n",
              "    </tr>\n",
              "    <tr>\n",
              "      <th>2</th>\n",
              "      <td>4.849308</td>\n",
              "      <td>8.411614</td>\n",
              "      <td>2.900692</td>\n",
              "      <td>0.027778</td>\n",
              "      <td>-0.010670</td>\n",
              "      <td>-0.014223</td>\n",
              "      <td>subject_001_01</td>\n",
              "      <td>0.075</td>\n",
              "      <td>0</td>\n",
              "    </tr>\n",
              "    <tr>\n",
              "      <th>3</th>\n",
              "      <td>4.509190</td>\n",
              "      <td>8.118649</td>\n",
              "      <td>2.847298</td>\n",
              "      <td>0.021577</td>\n",
              "      <td>-0.045498</td>\n",
              "      <td>-0.021111</td>\n",
              "      <td>subject_001_01</td>\n",
              "      <td>0.100</td>\n",
              "      <td>0</td>\n",
              "    </tr>\n",
              "    <tr>\n",
              "      <th>4</th>\n",
              "      <td>4.226515</td>\n",
              "      <td>8.273807</td>\n",
              "      <td>2.851742</td>\n",
              "      <td>0.012534</td>\n",
              "      <td>0.000445</td>\n",
              "      <td>-0.016830</td>\n",
              "      <td>subject_001_01</td>\n",
              "      <td>0.125</td>\n",
              "      <td>0</td>\n",
              "    </tr>\n",
              "    <tr>\n",
              "      <th>5</th>\n",
              "      <td>4.532063</td>\n",
              "      <td>8.398341</td>\n",
              "      <td>2.856682</td>\n",
              "      <td>0.014484</td>\n",
              "      <td>0.028769</td>\n",
              "      <td>-0.011091</td>\n",
              "      <td>subject_001_01</td>\n",
              "      <td>0.150</td>\n",
              "      <td>0</td>\n",
              "    </tr>\n",
              "    <tr>\n",
              "      <th>6</th>\n",
              "      <td>4.433669</td>\n",
              "      <td>8.294719</td>\n",
              "      <td>2.823521</td>\n",
              "      <td>0.016340</td>\n",
              "      <td>-0.029434</td>\n",
              "      <td>-0.008998</td>\n",
              "      <td>subject_001_01</td>\n",
              "      <td>0.175</td>\n",
              "      <td>0</td>\n",
              "    </tr>\n",
              "    <tr>\n",
              "      <th>7</th>\n",
              "      <td>4.160676</td>\n",
              "      <td>8.260676</td>\n",
              "      <td>2.827568</td>\n",
              "      <td>0.011222</td>\n",
              "      <td>-0.016748</td>\n",
              "      <td>-0.006027</td>\n",
              "      <td>subject_001_01</td>\n",
              "      <td>0.200</td>\n",
              "      <td>0</td>\n",
              "    </tr>\n",
              "    <tr>\n",
              "      <th>8</th>\n",
              "      <td>4.432763</td>\n",
              "      <td>8.272613</td>\n",
              "      <td>2.790050</td>\n",
              "      <td>-0.002715</td>\n",
              "      <td>0.023094</td>\n",
              "      <td>0.012222</td>\n",
              "      <td>subject_001_01</td>\n",
              "      <td>0.225</td>\n",
              "      <td>0</td>\n",
              "    </tr>\n",
              "    <tr>\n",
              "      <th>9</th>\n",
              "      <td>4.511362</td>\n",
              "      <td>8.256774</td>\n",
              "      <td>2.820538</td>\n",
              "      <td>-0.002248</td>\n",
              "      <td>0.001547</td>\n",
              "      <td>0.011137</td>\n",
              "      <td>subject_001_01</td>\n",
              "      <td>0.250</td>\n",
              "      <td>0</td>\n",
              "    </tr>\n",
              "    <tr>\n",
              "      <th>10</th>\n",
              "      <td>4.098018</td>\n",
              "      <td>8.154184</td>\n",
              "      <td>2.901101</td>\n",
              "      <td>-0.010418</td>\n",
              "      <td>-0.042853</td>\n",
              "      <td>0.005031</td>\n",
              "      <td>subject_001_01</td>\n",
              "      <td>0.275</td>\n",
              "      <td>0</td>\n",
              "    </tr>\n",
              "    <tr>\n",
              "      <th>11</th>\n",
              "      <td>3.931769</td>\n",
              "      <td>8.203628</td>\n",
              "      <td>2.958186</td>\n",
              "      <td>-0.015232</td>\n",
              "      <td>-0.006177</td>\n",
              "      <td>0.016877</td>\n",
              "      <td>subject_001_01</td>\n",
              "      <td>0.300</td>\n",
              "      <td>0</td>\n",
              "    </tr>\n",
              "    <tr>\n",
              "      <th>12</th>\n",
              "      <td>4.524325</td>\n",
              "      <td>8.446963</td>\n",
              "      <td>2.874356</td>\n",
              "      <td>-0.003438</td>\n",
              "      <td>0.036310</td>\n",
              "      <td>0.045451</td>\n",
              "      <td>subject_001_01</td>\n",
              "      <td>0.325</td>\n",
              "      <td>0</td>\n",
              "    </tr>\n",
              "    <tr>\n",
              "      <th>13</th>\n",
              "      <td>4.615744</td>\n",
              "      <td>8.385348</td>\n",
              "      <td>2.782674</td>\n",
              "      <td>-0.002790</td>\n",
              "      <td>0.012677</td>\n",
              "      <td>0.054444</td>\n",
              "      <td>subject_001_01</td>\n",
              "      <td>0.350</td>\n",
              "      <td>0</td>\n",
              "    </tr>\n",
              "    <tr>\n",
              "      <th>14</th>\n",
              "      <td>4.392814</td>\n",
              "      <td>8.239121</td>\n",
              "      <td>2.830176</td>\n",
              "      <td>0.001527</td>\n",
              "      <td>0.015576</td>\n",
              "      <td>0.052817</td>\n",
              "      <td>subject_001_01</td>\n",
              "      <td>0.375</td>\n",
              "      <td>0</td>\n",
              "    </tr>\n",
              "    <tr>\n",
              "      <th>15</th>\n",
              "      <td>4.633221</td>\n",
              "      <td>8.197211</td>\n",
              "      <td>2.872404</td>\n",
              "      <td>-0.006495</td>\n",
              "      <td>0.039828</td>\n",
              "      <td>0.040343</td>\n",
              "      <td>subject_001_01</td>\n",
              "      <td>0.400</td>\n",
              "      <td>0</td>\n",
              "    </tr>\n",
              "    <tr>\n",
              "      <th>16</th>\n",
              "      <td>4.788242</td>\n",
              "      <td>8.201208</td>\n",
              "      <td>2.805275</td>\n",
              "      <td>-0.009608</td>\n",
              "      <td>0.032156</td>\n",
              "      <td>0.025749</td>\n",
              "      <td>subject_001_01</td>\n",
              "      <td>0.425</td>\n",
              "      <td>0</td>\n",
              "    </tr>\n",
              "    <tr>\n",
              "      <th>17</th>\n",
              "      <td>4.751849</td>\n",
              "      <td>8.220000</td>\n",
              "      <td>2.847035</td>\n",
              "      <td>-0.012330</td>\n",
              "      <td>0.018727</td>\n",
              "      <td>0.017562</td>\n",
              "      <td>subject_001_01</td>\n",
              "      <td>0.450</td>\n",
              "      <td>0</td>\n",
              "    </tr>\n",
              "    <tr>\n",
              "      <th>18</th>\n",
              "      <td>4.612801</td>\n",
              "      <td>8.290000</td>\n",
              "      <td>2.845603</td>\n",
              "      <td>-0.004444</td>\n",
              "      <td>0.005675</td>\n",
              "      <td>0.003214</td>\n",
              "      <td>subject_001_01</td>\n",
              "      <td>0.475</td>\n",
              "      <td>0</td>\n",
              "    </tr>\n",
              "    <tr>\n",
              "      <th>19</th>\n",
              "      <td>4.603880</td>\n",
              "      <td>8.246231</td>\n",
              "      <td>2.876940</td>\n",
              "      <td>-0.000502</td>\n",
              "      <td>0.014905</td>\n",
              "      <td>0.001992</td>\n",
              "      <td>subject_001_01</td>\n",
              "      <td>0.500</td>\n",
              "      <td>0</td>\n",
              "    </tr>\n",
              "  </tbody>\n",
              "</table>\n",
              "</div>\n",
              "      <button class=\"colab-df-convert\" onclick=\"convertToInteractive('df-b0ae4577-ec14-4e03-8147-e8b5d7ce0e3c')\"\n",
              "              title=\"Convert this dataframe to an interactive table.\"\n",
              "              style=\"display:none;\">\n",
              "        \n",
              "  <svg xmlns=\"http://www.w3.org/2000/svg\" height=\"24px\"viewBox=\"0 0 24 24\"\n",
              "       width=\"24px\">\n",
              "    <path d=\"M0 0h24v24H0V0z\" fill=\"none\"/>\n",
              "    <path d=\"M18.56 5.44l.94 2.06.94-2.06 2.06-.94-2.06-.94-.94-2.06-.94 2.06-2.06.94zm-11 1L8.5 8.5l.94-2.06 2.06-.94-2.06-.94L8.5 2.5l-.94 2.06-2.06.94zm10 10l.94 2.06.94-2.06 2.06-.94-2.06-.94-.94-2.06-.94 2.06-2.06.94z\"/><path d=\"M17.41 7.96l-1.37-1.37c-.4-.4-.92-.59-1.43-.59-.52 0-1.04.2-1.43.59L10.3 9.45l-7.72 7.72c-.78.78-.78 2.05 0 2.83L4 21.41c.39.39.9.59 1.41.59.51 0 1.02-.2 1.41-.59l7.78-7.78 2.81-2.81c.8-.78.8-2.07 0-2.86zM5.41 20L4 18.59l7.72-7.72 1.47 1.35L5.41 20z\"/>\n",
              "  </svg>\n",
              "      </button>\n",
              "      \n",
              "  <style>\n",
              "    .colab-df-container {\n",
              "      display:flex;\n",
              "      flex-wrap:wrap;\n",
              "      gap: 12px;\n",
              "    }\n",
              "\n",
              "    .colab-df-convert {\n",
              "      background-color: #E8F0FE;\n",
              "      border: none;\n",
              "      border-radius: 50%;\n",
              "      cursor: pointer;\n",
              "      display: none;\n",
              "      fill: #1967D2;\n",
              "      height: 32px;\n",
              "      padding: 0 0 0 0;\n",
              "      width: 32px;\n",
              "    }\n",
              "\n",
              "    .colab-df-convert:hover {\n",
              "      background-color: #E2EBFA;\n",
              "      box-shadow: 0px 1px 2px rgba(60, 64, 67, 0.3), 0px 1px 3px 1px rgba(60, 64, 67, 0.15);\n",
              "      fill: #174EA6;\n",
              "    }\n",
              "\n",
              "    [theme=dark] .colab-df-convert {\n",
              "      background-color: #3B4455;\n",
              "      fill: #D2E3FC;\n",
              "    }\n",
              "\n",
              "    [theme=dark] .colab-df-convert:hover {\n",
              "      background-color: #434B5C;\n",
              "      box-shadow: 0px 1px 3px 1px rgba(0, 0, 0, 0.15);\n",
              "      filter: drop-shadow(0px 1px 2px rgba(0, 0, 0, 0.3));\n",
              "      fill: #FFFFFF;\n",
              "    }\n",
              "  </style>\n",
              "\n",
              "      <script>\n",
              "        const buttonEl =\n",
              "          document.querySelector('#df-b0ae4577-ec14-4e03-8147-e8b5d7ce0e3c button.colab-df-convert');\n",
              "        buttonEl.style.display =\n",
              "          google.colab.kernel.accessAllowed ? 'block' : 'none';\n",
              "\n",
              "        async function convertToInteractive(key) {\n",
              "          const element = document.querySelector('#df-b0ae4577-ec14-4e03-8147-e8b5d7ce0e3c');\n",
              "          const dataTable =\n",
              "            await google.colab.kernel.invokeFunction('convertToInteractive',\n",
              "                                                     [key], {});\n",
              "          if (!dataTable) return;\n",
              "\n",
              "          const docLinkHtml = 'Like what you see? Visit the ' +\n",
              "            '<a target=\"_blank\" href=https://colab.research.google.com/notebooks/data_table.ipynb>data table notebook</a>'\n",
              "            + ' to learn more about interactive tables.';\n",
              "          element.innerHTML = '';\n",
              "          dataTable['output_type'] = 'display_data';\n",
              "          await google.colab.output.renderOutput(dataTable, element);\n",
              "          const docLink = document.createElement('div');\n",
              "          docLink.innerHTML = docLinkHtml;\n",
              "          element.appendChild(docLink);\n",
              "        }\n",
              "      </script>\n",
              "    </div>\n",
              "  </div>\n",
              "  "
            ]
          },
          "metadata": {},
          "execution_count": 7
        }
      ]
    },
    {
      "cell_type": "code",
      "source": [
        "x_label = ['0', '1', '2', '3']\n",
        "y_label = []\n",
        "for i in range(4):\n",
        "    y_label.append(final_df['label'].value_counts()[i])\n",
        "fig = plt.figure()\n",
        "ax = fig.add_axes([0,0,1,1])\n",
        "ax.bar(x_label, y_label)\n",
        "plt.show()"
      ],
      "metadata": {
        "id": "YVSWvDDBGpf1",
        "colab": {
          "base_uri": "https://localhost:8080/",
          "height": 347
        },
        "outputId": "f050385e-fa15-4c90-f456-c10b5a3215e4"
      },
      "execution_count": 8,
      "outputs": [
        {
          "output_type": "display_data",
          "data": {
            "text/plain": [
              "<Figure size 432x288 with 1 Axes>"
            ],
            "image/png": "[encoded data removed]"
          },
          "metadata": {
            "needs_background": "light"
          }
        }
      ]
    },
    {
      "cell_type": "code",
      "source": [
        "print(final_df['label'].value_counts())"
      ],
      "metadata": {
        "colab": {
          "base_uri": "https://localhost:8080/"
        },
        "id": "srkukiG9CTcq",
        "outputId": "d62040cd-bfc3-4a7e-e059-25eff087620a"
      },
      "execution_count": 9,
      "outputs": [
        {
          "output_type": "stream",
          "name": "stdout",
          "text": [
            "0    1006897\n",
            "3     206436\n",
            "2      73068\n",
            "1      55216\n",
            "Name: label, dtype: int64\n"
          ]
        }
      ]
    },
    {
      "cell_type": "code",
      "source": [
        "class_0 = (1/(final_df['label'].value_counts()[0]/final_df.shape[0])).round(3)\n",
        "class_1 = (1/(final_df['label'].value_counts()[1]/final_df.shape[0])).round(3)\n",
        "class_2 = (1/(final_df['label'].value_counts()[2]/final_df.shape[0])).round(3)\n",
        "class_3 = (1/(final_df['label'].value_counts()[3]/final_df.shape[0])).round(3)\n",
        "\n",
        "print(class_0, class_1, class_2, class_3)"
      ],
      "metadata": {
        "colab": {
          "base_uri": "https://localhost:8080/"
        },
        "id": "uI3wSjwTDMfS",
        "outputId": "c9e62127-24eb-4300-b4ef-1726539f65d6"
      },
      "execution_count": 10,
      "outputs": [
        {
          "output_type": "stream",
          "name": "stdout",
          "text": [
            "1.332 24.298 18.361 6.499\n"
          ]
        }
      ]
    },
    {
      "cell_type": "code",
      "source": [
        "from sklearn.preprocessing import LabelEncoder\n",
        "from sklearn.model_selection import train_test_split\n",
        "\n",
        "label_encoder = LabelEncoder()\n",
        "y = label_encoder.fit_transform(final_df['label'])\n",
        "X = final_df[['acc_x', 'acc_y', 'acc_z', 'gyro_x', 'gyro_y', 'gyro_z']]\n",
        "\n",
        "X_train, X_test, y_train, y_test = train_test_split(X, y, test_size=0.3, random_state=42)"
      ],
      "metadata": {
        "id": "u1A-klI6Kgau"
      },
      "execution_count": 11,
      "outputs": []
    },
    {
      "cell_type": "code",
      "source": [
        "# random forest with class weight on an imbalanced classification dataset\n",
        "from numpy import mean\n",
        "from sklearn.model_selection import cross_val_score\n",
        "from sklearn.model_selection import RepeatedStratifiedKFold\n",
        "from sklearn.ensemble import RandomForestClassifier\n",
        "\n",
        "weights = {0:class_0, 1:class_1, 2:class_2, 3:class_3}\n",
        "model = RandomForestClassifier(n_estimators=10, class_weight=weights)\n",
        "\n",
        "model.fit(X_train, y_train)\n",
        "y_preds = model.predict(X_test)\n",
        "\n",
        "print('Test Accuracy : %.3f'%(y_preds == y_test).mean())\n",
        "print('Test Accuracy : %.3f'%model.score(X_test, y_test)) ## Score method also evaluates accuracy for classification models.\n",
        "print('Training Accuracy : %.3f'%model.score(X_train, y_train))\n"
      ],
      "metadata": {
        "id": "7La2-LxKCWlL",
        "colab": {
          "base_uri": "https://localhost:8080/"
        },
        "outputId": "a8773cf7-efc7-4dc3-e773-c7208b031f71"
      },
      "execution_count": 12,
      "outputs": [
        {
          "output_type": "stream",
          "name": "stdout",
          "text": [
            "Test Accuracy : 0.787\n",
            "Test Accuracy : 0.787\n",
            "Training Accuracy : 0.980\n"
          ]
        }
      ]
    },
    {
      "cell_type": "code",
      "source": [
        "from sklearn.metrics import confusion_matrix, classification_report\n",
        "\n",
        "print(confusion_matrix(y_test, y_preds))"
      ],
      "metadata": {
        "id": "u0KDxmkNNsRk",
        "colab": {
          "base_uri": "https://localhost:8080/"
        },
        "outputId": "efcde83a-52d9-45ce-b7d3-b7e2261b1577"
      },
      "execution_count": 15,
      "outputs": [
        {
          "output_type": "execute_result",
          "data": {
            "text/plain": [
              "array([[290758,   1840,   2746,   6808],\n",
              "       [ 10981,   4544,    454,    698],\n",
              "       [  8879,    284,  12241,    302],\n",
              "       [ 51588,    747,    581,   9035]])"
            ]
          },
          "metadata": {},
          "execution_count": 15
        }
      ]
    },
    {
      "cell_type": "code",
      "source": [
        "print(classification_report(y_test, y_preds))"
      ],
      "metadata": {
        "colab": {
          "base_uri": "https://localhost:8080/"
        },
        "id": "rKL6LeSNLBAL",
        "outputId": "52d9e1fd-8c5c-4136-8054-e69b1ab85df3"
      },
      "execution_count": 17,
      "outputs": [
        {
          "output_type": "stream",
          "name": "stdout",
          "text": [
            "              precision    recall  f1-score   support\n",
            "\n",
            "           0       0.80      0.96      0.88    302152\n",
            "           1       0.61      0.27      0.38     16677\n",
            "           2       0.76      0.56      0.65     21706\n",
            "           3       0.54      0.15      0.23     61951\n",
            "\n",
            "    accuracy                           0.79    402486\n",
            "   macro avg       0.68      0.49      0.53    402486\n",
            "weighted avg       0.75      0.79      0.74    402486\n",
            "\n"
          ]
        }
      ]
    },
    {
      "cell_type": "code",
      "source": [
        ""
      ],
      "metadata": {
        "id": "9EvuYCluLk0t"
      },
      "execution_count": null,
      "outputs": []
    }
  ]
}