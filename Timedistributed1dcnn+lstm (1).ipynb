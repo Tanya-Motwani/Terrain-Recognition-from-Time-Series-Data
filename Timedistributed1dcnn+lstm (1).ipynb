{
  "cells": [
    {
      "cell_type": "code",
      "execution_count": 1,
      "metadata": {
        "id": "GitahgEVEvfm"
      },
      "outputs": [],
      "source": [
        "import csv\n",
        "import os\n",
        "import pandas as pd\n",
        "import numpy as np\n",
        "import matplotlib.pyplot as plt\n",
        "import glob\n",
        "import imblearn\n",
        "import warnings\n",
        "warnings.filterwarnings('ignore')"
      ]
    },
    {
      "cell_type": "code",
      "execution_count": 2,
      "metadata": {
        "id": "CrGBeXWoGG7h",
        "colab": {
          "base_uri": "https://localhost:8080/"
        },
        "outputId": "903c1a4b-069f-4e3b-eaa2-87179948d856"
      },
      "outputs": [
        {
          "output_type": "stream",
          "name": "stdout",
          "text": [
            "Mounted at /content/drive\n"
          ]
        }
      ],
      "source": [
        "from google.colab import drive\n",
        "drive.mount('/content/drive', force_remount=True)"
      ]
    },
    {
      "cell_type": "code",
      "execution_count": 3,
      "metadata": {
        "id": "dxzR597LBzRH",
        "colab": {
          "base_uri": "https://localhost:8080/"
        },
        "outputId": "0f71194a-bd23-4e08-a765-451dcc9ab08c"
      },
      "outputs": [
        {
          "output_type": "stream",
          "name": "stdout",
          "text": [
            "/content/drive/MyDrive/NN\n"
          ]
        }
      ],
      "source": [
        "cd drive/MyDrive/NN"
      ]
    },
    {
      "cell_type": "code",
      "execution_count": 4,
      "metadata": {
        "id": "5zap0_k6FNyO"
      },
      "outputs": [],
      "source": [
        "def upsample_label(temp_x, temp_y):\n",
        "    y_time_list = temp_y['time'].values\n",
        "    y_label = temp_y['label'].values\n",
        "    jdx = 0\n",
        "    label_list = []\n",
        "    for index,row in temp_x.iterrows():\n",
        "        try:\n",
        "            if row['time'] > y_time_list[jdx]:\n",
        "                jdx+=1\n",
        "            label_list.append(y_label[jdx])\n",
        "        except:\n",
        "            label_list.append(y_label[jdx - 1])\n",
        "    return label_list"
      ]
    },
    {
      "cell_type": "code",
      "execution_count": 5,
      "metadata": {
        "id": "xImsHMkiE1JA"
      },
      "outputs": [],
      "source": [
        "filepath = 'TrainingData/'\n",
        "column_list = ['acc_x', 'acc_y', 'acc_z', 'gyro_x', 'gyro_y', 'gyro_z','subject', 'time', 'label']\n",
        "final_df = pd.DataFrame([], columns = column_list)\n",
        "for i in glob.glob(filepath + '*.csv'):\n",
        "    df_type = i.split('.')[0].split('__')[1]\n",
        "    file_name = i.split('/')[1].split('__')[0]\n",
        "    if df_type == 'x':\n",
        "        x = open(filepath + file_name + '__x.csv')\n",
        "        x = pd.read_csv(x)\n",
        "        x['subject'] = [file_name] * x.shape[0]\n",
        "        \n",
        "        x_time = open(filepath + file_name + '__x_time.csv')\n",
        "        x_time = pd.read_csv(x_time)\n",
        "        x['time'] = x_time\n",
        "        \n",
        "        y = open(filepath + file_name + '__y.csv')\n",
        "        y = pd.read_csv(y)\n",
        "        y['subject'] = [file_name] * y.shape[0]\n",
        "        \n",
        "        y_time = open(filepath + file_name + '__y_time.csv')\n",
        "        y_time = pd.read_csv(y_time)\n",
        "        y['time'] = y_time\n",
        "        \n",
        "        y.columns = ['label', 'subject', 'time']\n",
        "        label_list = upsample_label(x, y)\n",
        "        x['label'] = label_list\n",
        "        x.columns = column_list\n",
        "        final_df = pd.concat([final_df, x], ignore_index=True)\n"
      ]
    },
    {
      "cell_type": "code",
      "execution_count": 6,
      "metadata": {
        "colab": {
          "base_uri": "https://localhost:8080/"
        },
        "id": "XsS1OazfGMk0",
        "outputId": "aabb4c81-cf02-4836-c0f6-c2570702e9b5"
      },
      "outputs": [
        {
          "output_type": "execute_result",
          "data": {
            "text/plain": [
              "(1341617, 9)"
            ]
          },
          "metadata": {},
          "execution_count": 6
        }
      ],
      "source": [
        "final_df.shape"
      ]
    },
    {
      "cell_type": "code",
      "execution_count": 7,
      "metadata": {
        "id": "Kq9C7agWMBw1"
      },
      "outputs": [],
      "source": [
        "final_df.to_csv('final_dataset.csv')"
      ]
    },
    {
      "cell_type": "code",
      "execution_count": 8,
      "metadata": {
        "colab": {
          "base_uri": "https://localhost:8080/",
          "height": 676
        },
        "id": "aC-srk8ZGlOL",
        "outputId": "b7fa6d05-9125-4842-9a1c-b2a12b8307f0"
      },
      "outputs": [
        {
          "output_type": "execute_result",
          "data": {
            "text/plain": [
              "       acc_x     acc_y     acc_z    gyro_x    gyro_y    gyro_z  \\\n",
              "0   4.186920  8.344455  2.908057  0.005771 -0.004480 -0.003345   \n",
              "1   4.544637  8.408659  2.890000  0.007967  0.022412  0.001159   \n",
              "2   4.849308  8.411614  2.900692  0.027778 -0.010670 -0.014223   \n",
              "3   4.509190  8.118649  2.847298  0.021577 -0.045498 -0.021111   \n",
              "4   4.226515  8.273807  2.851742  0.012534  0.000445 -0.016830   \n",
              "5   4.532063  8.398341  2.856682  0.014484  0.028769 -0.011091   \n",
              "6   4.433669  8.294719  2.823521  0.016340 -0.029434 -0.008998   \n",
              "7   4.160676  8.260676  2.827568  0.011222 -0.016748 -0.006027   \n",
              "8   4.432763  8.272613  2.790050 -0.002715  0.023094  0.012222   \n",
              "9   4.511362  8.256774  2.820538 -0.002248  0.001547  0.011137   \n",
              "10  4.098018  8.154184  2.901101 -0.010418 -0.042853  0.005031   \n",
              "11  3.931769  8.203628  2.958186 -0.015232 -0.006177  0.016877   \n",
              "12  4.524325  8.446963  2.874356 -0.003438  0.036310  0.045451   \n",
              "13  4.615744  8.385348  2.782674 -0.002790  0.012677  0.054444   \n",
              "14  4.392814  8.239121  2.830176  0.001527  0.015576  0.052817   \n",
              "15  4.633221  8.197211  2.872404 -0.006495  0.039828  0.040343   \n",
              "16  4.788242  8.201208  2.805275 -0.009608  0.032156  0.025749   \n",
              "17  4.751849  8.220000  2.847035 -0.012330  0.018727  0.017562   \n",
              "18  4.612801  8.290000  2.845603 -0.004444  0.005675  0.003214   \n",
              "19  4.603880  8.246231  2.876940 -0.000502  0.014905  0.001992   \n",
              "\n",
              "           subject   time label  \n",
              "0   subject_001_01  0.025     0  \n",
              "1   subject_001_01  0.050     0  \n",
              "2   subject_001_01  0.075     0  \n",
              "3   subject_001_01  0.100     0  \n",
              "4   subject_001_01  0.125     0  \n",
              "5   subject_001_01  0.150     0  \n",
              "6   subject_001_01  0.175     0  \n",
              "7   subject_001_01  0.200     0  \n",
              "8   subject_001_01  0.225     0  \n",
              "9   subject_001_01  0.250     0  \n",
              "10  subject_001_01  0.275     0  \n",
              "11  subject_001_01  0.300     0  \n",
              "12  subject_001_01  0.325     0  \n",
              "13  subject_001_01  0.350     0  \n",
              "14  subject_001_01  0.375     0  \n",
              "15  subject_001_01  0.400     0  \n",
              "16  subject_001_01  0.425     0  \n",
              "17  subject_001_01  0.450     0  \n",
              "18  subject_001_01  0.475     0  \n",
              "19  subject_001_01  0.500     0  "
            ],
            "text/html": [
              "\n",
              "  <div id=\"df-dead423d-8b40-4dd3-a337-23bc8ad1872a\">\n",
              "    <div class=\"colab-df-container\">\n",
              "      <div>\n",
              "<style scoped>\n",
              "    .dataframe tbody tr th:only-of-type {\n",
              "        vertical-align: middle;\n",
              "    }\n",
              "\n",
              "    .dataframe tbody tr th {\n",
              "        vertical-align: top;\n",
              "    }\n",
              "\n",
              "    .dataframe thead th {\n",
              "        text-align: right;\n",
              "    }\n",
              "</style>\n",
              "<table border=\"1\" class=\"dataframe\">\n",
              "  <thead>\n",
              "    <tr style=\"text-align: right;\">\n",
              "      <th></th>\n",
              "      <th>acc_x</th>\n",
              "      <th>acc_y</th>\n",
              "      <th>acc_z</th>\n",
              "      <th>gyro_x</th>\n",
              "      <th>gyro_y</th>\n",
              "      <th>gyro_z</th>\n",
              "      <th>subject</th>\n",
              "      <th>time</th>\n",
              "      <th>label</th>\n",
              "    </tr>\n",
              "  </thead>\n",
              "  <tbody>\n",
              "    <tr>\n",
              "      <th>0</th>\n",
              "      <td>4.186920</td>\n",
              "      <td>8.344455</td>\n",
              "      <td>2.908057</td>\n",
              "      <td>0.005771</td>\n",
              "      <td>-0.004480</td>\n",
              "      <td>-0.003345</td>\n",
              "      <td>subject_001_01</td>\n",
              "      <td>0.025</td>\n",
              "      <td>0</td>\n",
              "    </tr>\n",
              "    <tr>\n",
              "      <th>1</th>\n",
              "      <td>4.544637</td>\n",
              "      <td>8.408659</td>\n",
              "      <td>2.890000</td>\n",
              "      <td>0.007967</td>\n",
              "      <td>0.022412</td>\n",
              "      <td>0.001159</td>\n",
              "      <td>subject_001_01</td>\n",
              "      <td>0.050</td>\n",
              "      <td>0</td>\n",
              "    </tr>\n",
              "    <tr>\n",
              "      <th>2</th>\n",
              "      <td>4.849308</td>\n",
              "      <td>8.411614</td>\n",
              "      <td>2.900692</td>\n",
              "      <td>0.027778</td>\n",
              "      <td>-0.010670</td>\n",
              "      <td>-0.014223</td>\n",
              "      <td>subject_001_01</td>\n",
              "      <td>0.075</td>\n",
              "      <td>0</td>\n",
              "    </tr>\n",
              "    <tr>\n",
              "      <th>3</th>\n",
              "      <td>4.509190</td>\n",
              "      <td>8.118649</td>\n",
              "      <td>2.847298</td>\n",
              "      <td>0.021577</td>\n",
              "      <td>-0.045498</td>\n",
              "      <td>-0.021111</td>\n",
              "      <td>subject_001_01</td>\n",
              "      <td>0.100</td>\n",
              "      <td>0</td>\n",
              "    </tr>\n",
              "    <tr>\n",
              "      <th>4</th>\n",
              "      <td>4.226515</td>\n",
              "      <td>8.273807</td>\n",
              "      <td>2.851742</td>\n",
              "      <td>0.012534</td>\n",
              "      <td>0.000445</td>\n",
              "      <td>-0.016830</td>\n",
              "      <td>subject_001_01</td>\n",
              "      <td>0.125</td>\n",
              "      <td>0</td>\n",
              "    </tr>\n",
              "    <tr>\n",
              "      <th>5</th>\n",
              "      <td>4.532063</td>\n",
              "      <td>8.398341</td>\n",
              "      <td>2.856682</td>\n",
              "      <td>0.014484</td>\n",
              "      <td>0.028769</td>\n",
              "      <td>-0.011091</td>\n",
              "      <td>subject_001_01</td>\n",
              "      <td>0.150</td>\n",
              "      <td>0</td>\n",
              "    </tr>\n",
              "    <tr>\n",
              "      <th>6</th>\n",
              "      <td>4.433669</td>\n",
              "      <td>8.294719</td>\n",
              "      <td>2.823521</td>\n",
              "      <td>0.016340</td>\n",
              "      <td>-0.029434</td>\n",
              "      <td>-0.008998</td>\n",
              "      <td>subject_001_01</td>\n",
              "      <td>0.175</td>\n",
              "      <td>0</td>\n",
              "    </tr>\n",
              "    <tr>\n",
              "      <th>7</th>\n",
              "      <td>4.160676</td>\n",
              "      <td>8.260676</td>\n",
              "      <td>2.827568</td>\n",
              "      <td>0.011222</td>\n",
              "      <td>-0.016748</td>\n",
              "      <td>-0.006027</td>\n",
              "      <td>subject_001_01</td>\n",
              "      <td>0.200</td>\n",
              "      <td>0</td>\n",
              "    </tr>\n",
              "    <tr>\n",
              "      <th>8</th>\n",
              "      <td>4.432763</td>\n",
              "      <td>8.272613</td>\n",
              "      <td>2.790050</td>\n",
              "      <td>-0.002715</td>\n",
              "      <td>0.023094</td>\n",
              "      <td>0.012222</td>\n",
              "      <td>subject_001_01</td>\n",
              "      <td>0.225</td>\n",
              "      <td>0</td>\n",
              "    </tr>\n",
              "    <tr>\n",
              "      <th>9</th>\n",
              "      <td>4.511362</td>\n",
              "      <td>8.256774</td>\n",
              "      <td>2.820538</td>\n",
              "      <td>-0.002248</td>\n",
              "      <td>0.001547</td>\n",
              "      <td>0.011137</td>\n",
              "      <td>subject_001_01</td>\n",
              "      <td>0.250</td>\n",
              "      <td>0</td>\n",
              "    </tr>\n",
              "    <tr>\n",
              "      <th>10</th>\n",
              "      <td>4.098018</td>\n",
              "      <td>8.154184</td>\n",
              "      <td>2.901101</td>\n",
              "      <td>-0.010418</td>\n",
              "      <td>-0.042853</td>\n",
              "      <td>0.005031</td>\n",
              "      <td>subject_001_01</td>\n",
              "      <td>0.275</td>\n",
              "      <td>0</td>\n",
              "    </tr>\n",
              "    <tr>\n",
              "      <th>11</th>\n",
              "      <td>3.931769</td>\n",
              "      <td>8.203628</td>\n",
              "      <td>2.958186</td>\n",
              "      <td>-0.015232</td>\n",
              "      <td>-0.006177</td>\n",
              "      <td>0.016877</td>\n",
              "      <td>subject_001_01</td>\n",
              "      <td>0.300</td>\n",
              "      <td>0</td>\n",
              "    </tr>\n",
              "    <tr>\n",
              "      <th>12</th>\n",
              "      <td>4.524325</td>\n",
              "      <td>8.446963</td>\n",
              "      <td>2.874356</td>\n",
              "      <td>-0.003438</td>\n",
              "      <td>0.036310</td>\n",
              "      <td>0.045451</td>\n",
              "      <td>subject_001_01</td>\n",
              "      <td>0.325</td>\n",
              "      <td>0</td>\n",
              "    </tr>\n",
              "    <tr>\n",
              "      <th>13</th>\n",
              "      <td>4.615744</td>\n",
              "      <td>8.385348</td>\n",
              "      <td>2.782674</td>\n",
              "      <td>-0.002790</td>\n",
              "      <td>0.012677</td>\n",
              "      <td>0.054444</td>\n",
              "      <td>subject_001_01</td>\n",
              "      <td>0.350</td>\n",
              "      <td>0</td>\n",
              "    </tr>\n",
              "    <tr>\n",
              "      <th>14</th>\n",
              "      <td>4.392814</td>\n",
              "      <td>8.239121</td>\n",
              "      <td>2.830176</td>\n",
              "      <td>0.001527</td>\n",
              "      <td>0.015576</td>\n",
              "      <td>0.052817</td>\n",
              "      <td>subject_001_01</td>\n",
              "      <td>0.375</td>\n",
              "      <td>0</td>\n",
              "    </tr>\n",
              "    <tr>\n",
              "      <th>15</th>\n",
              "      <td>4.633221</td>\n",
              "      <td>8.197211</td>\n",
              "      <td>2.872404</td>\n",
              "      <td>-0.006495</td>\n",
              "      <td>0.039828</td>\n",
              "      <td>0.040343</td>\n",
              "      <td>subject_001_01</td>\n",
              "      <td>0.400</td>\n",
              "      <td>0</td>\n",
              "    </tr>\n",
              "    <tr>\n",
              "      <th>16</th>\n",
              "      <td>4.788242</td>\n",
              "      <td>8.201208</td>\n",
              "      <td>2.805275</td>\n",
              "      <td>-0.009608</td>\n",
              "      <td>0.032156</td>\n",
              "      <td>0.025749</td>\n",
              "      <td>subject_001_01</td>\n",
              "      <td>0.425</td>\n",
              "      <td>0</td>\n",
              "    </tr>\n",
              "    <tr>\n",
              "      <th>17</th>\n",
              "      <td>4.751849</td>\n",
              "      <td>8.220000</td>\n",
              "      <td>2.847035</td>\n",
              "      <td>-0.012330</td>\n",
              "      <td>0.018727</td>\n",
              "      <td>0.017562</td>\n",
              "      <td>subject_001_01</td>\n",
              "      <td>0.450</td>\n",
              "      <td>0</td>\n",
              "    </tr>\n",
              "    <tr>\n",
              "      <th>18</th>\n",
              "      <td>4.612801</td>\n",
              "      <td>8.290000</td>\n",
              "      <td>2.845603</td>\n",
              "      <td>-0.004444</td>\n",
              "      <td>0.005675</td>\n",
              "      <td>0.003214</td>\n",
              "      <td>subject_001_01</td>\n",
              "      <td>0.475</td>\n",
              "      <td>0</td>\n",
              "    </tr>\n",
              "    <tr>\n",
              "      <th>19</th>\n",
              "      <td>4.603880</td>\n",
              "      <td>8.246231</td>\n",
              "      <td>2.876940</td>\n",
              "      <td>-0.000502</td>\n",
              "      <td>0.014905</td>\n",
              "      <td>0.001992</td>\n",
              "      <td>subject_001_01</td>\n",
              "      <td>0.500</td>\n",
              "      <td>0</td>\n",
              "    </tr>\n",
              "  </tbody>\n",
              "</table>\n",
              "</div>\n",
              "      <button class=\"colab-df-convert\" onclick=\"convertToInteractive('df-dead423d-8b40-4dd3-a337-23bc8ad1872a')\"\n",
              "              title=\"Convert this dataframe to an interactive table.\"\n",
              "              style=\"display:none;\">\n",
              "        \n",
              "  <svg xmlns=\"http://www.w3.org/2000/svg\" height=\"24px\"viewBox=\"0 0 24 24\"\n",
              "       width=\"24px\">\n",
              "    <path d=\"M0 0h24v24H0V0z\" fill=\"none\"/>\n",
              "    <path d=\"M18.56 5.44l.94 2.06.94-2.06 2.06-.94-2.06-.94-.94-2.06-.94 2.06-2.06.94zm-11 1L8.5 8.5l.94-2.06 2.06-.94-2.06-.94L8.5 2.5l-.94 2.06-2.06.94zm10 10l.94 2.06.94-2.06 2.06-.94-2.06-.94-.94-2.06-.94 2.06-2.06.94z\"/><path d=\"M17.41 7.96l-1.37-1.37c-.4-.4-.92-.59-1.43-.59-.52 0-1.04.2-1.43.59L10.3 9.45l-7.72 7.72c-.78.78-.78 2.05 0 2.83L4 21.41c.39.39.9.59 1.41.59.51 0 1.02-.2 1.41-.59l7.78-7.78 2.81-2.81c.8-.78.8-2.07 0-2.86zM5.41 20L4 18.59l7.72-7.72 1.47 1.35L5.41 20z\"/>\n",
              "  </svg>\n",
              "      </button>\n",
              "      \n",
              "  <style>\n",
              "    .colab-df-container {\n",
              "      display:flex;\n",
              "      flex-wrap:wrap;\n",
              "      gap: 12px;\n",
              "    }\n",
              "\n",
              "    .colab-df-convert {\n",
              "      background-color: #E8F0FE;\n",
              "      border: none;\n",
              "      border-radius: 50%;\n",
              "      cursor: pointer;\n",
              "      display: none;\n",
              "      fill: #1967D2;\n",
              "      height: 32px;\n",
              "      padding: 0 0 0 0;\n",
              "      width: 32px;\n",
              "    }\n",
              "\n",
              "    .colab-df-convert:hover {\n",
              "      background-color: #E2EBFA;\n",
              "      box-shadow: 0px 1px 2px rgba(60, 64, 67, 0.3), 0px 1px 3px 1px rgba(60, 64, 67, 0.15);\n",
              "      fill: #174EA6;\n",
              "    }\n",
              "\n",
              "    [theme=dark] .colab-df-convert {\n",
              "      background-color: #3B4455;\n",
              "      fill: #D2E3FC;\n",
              "    }\n",
              "\n",
              "    [theme=dark] .colab-df-convert:hover {\n",
              "      background-color: #434B5C;\n",
              "      box-shadow: 0px 1px 3px 1px rgba(0, 0, 0, 0.15);\n",
              "      filter: drop-shadow(0px 1px 2px rgba(0, 0, 0, 0.3));\n",
              "      fill: #FFFFFF;\n",
              "    }\n",
              "  </style>\n",
              "\n",
              "      <script>\n",
              "        const buttonEl =\n",
              "          document.querySelector('#df-dead423d-8b40-4dd3-a337-23bc8ad1872a button.colab-df-convert');\n",
              "        buttonEl.style.display =\n",
              "          google.colab.kernel.accessAllowed ? 'block' : 'none';\n",
              "\n",
              "        async function convertToInteractive(key) {\n",
              "          const element = document.querySelector('#df-dead423d-8b40-4dd3-a337-23bc8ad1872a');\n",
              "          const dataTable =\n",
              "            await google.colab.kernel.invokeFunction('convertToInteractive',\n",
              "                                                     [key], {});\n",
              "          if (!dataTable) return;\n",
              "\n",
              "          const docLinkHtml = 'Like what you see? Visit the ' +\n",
              "            '<a target=\"_blank\" href=https://colab.research.google.com/notebooks/data_table.ipynb>data table notebook</a>'\n",
              "            + ' to learn more about interactive tables.';\n",
              "          element.innerHTML = '';\n",
              "          dataTable['output_type'] = 'display_data';\n",
              "          await google.colab.output.renderOutput(dataTable, element);\n",
              "          const docLink = document.createElement('div');\n",
              "          docLink.innerHTML = docLinkHtml;\n",
              "          element.appendChild(docLink);\n",
              "        }\n",
              "      </script>\n",
              "    </div>\n",
              "  </div>\n",
              "  "
            ]
          },
          "metadata": {},
          "execution_count": 8
        }
      ],
      "source": [
        "final_df.head(20)"
      ]
    },
    {
      "cell_type": "code",
      "source": [
        "from scipy import stats\n",
        "\n",
        "def create_windows(X, y, time_steps=1, step=1):\n",
        "    Xs, ys = [], []\n",
        "      \n",
        "    for i in range(0, len(X) - time_steps + 1, step):\n",
        "        v = X.iloc[i:(i + time_steps)].values\n",
        "        labels = y.iloc[i: i + time_steps]\n",
        "        Xs.append(v)\n",
        "        ys.append(stats.mode(labels)[0][0])\n",
        "\n",
        "    return np.array(Xs), np.array(ys).reshape(-1, 1)"
      ],
      "metadata": {
        "id": "WADScD094VYa"
      },
      "execution_count": 9,
      "outputs": []
    },
    {
      "cell_type": "code",
      "source": [
        "X = final_df[['acc_x', 'acc_y', 'acc_z', 'gyro_x', 'gyro_y', 'gyro_z']]\n",
        "y = final_df['label']\n",
        "\n",
        "TIME_STEPS = 40  # Window Size\n",
        "STEP = 1\n",
        "\n",
        "X_data, y_data = create_windows(X, y, time_steps=TIME_STEPS,step=STEP)"
      ],
      "metadata": {
        "id": "KfaxIGB-4s8-"
      },
      "execution_count": 10,
      "outputs": []
    },
    {
      "cell_type": "code",
      "source": [
        "print(X.shape)\n",
        "print(y.shape)"
      ],
      "metadata": {
        "colab": {
          "base_uri": "https://localhost:8080/"
        },
        "id": "awpgzOZ_miap",
        "outputId": "6faed6cf-6e32-4dbe-e2b0-f26afdef4a4f"
      },
      "execution_count": 11,
      "outputs": [
        {
          "output_type": "stream",
          "name": "stdout",
          "text": [
            "(1341617, 6)\n",
            "(1341617,)\n"
          ]
        }
      ]
    },
    {
      "cell_type": "code",
      "source": [
        "print(X_data.shape)\n",
        "print(y_data.shape)"
      ],
      "metadata": {
        "colab": {
          "base_uri": "https://localhost:8080/"
        },
        "id": "QT9oJETM5htw",
        "outputId": "bf682d09-b47a-49f5-fcc6-2f8998ce6024"
      },
      "execution_count": 12,
      "outputs": [
        {
          "output_type": "stream",
          "name": "stdout",
          "text": [
            "(1341578, 40, 6)\n",
            "(1341578, 1)\n"
          ]
        }
      ]
    },
    {
      "cell_type": "code",
      "source": [
        "X_data = np.expand_dims(X_data, axis=-1)"
      ],
      "metadata": {
        "id": "WmDxbsCVHxLb"
      },
      "execution_count": 13,
      "outputs": []
    },
    {
      "cell_type": "code",
      "source": [
        "from imblearn.under_sampling import RandomUnderSampler\n",
        "from imblearn.over_sampling import SMOTE\n",
        "\n",
        "df_label = pd.DataFrame(y_data, columns=['label'])\n",
        "df_label['index_'] = df_label.index\n",
        "\n",
        "## Library for performing undersampling \n",
        "rus = RandomUnderSampler(sampling_strategy='not minority', random_state=1)\n",
        "df_balanced, balanced_labels = rus.fit_resample(df_label, df_label['label'])\n",
        "\n",
        "sos = SMOTE(sampling_strategy='not majority')\n",
        "df_balanced, balanced_labels  = sos.fit_resample(df_balanced, balanced_labels)\n",
        "\n",
        "df_balanced = pd.DataFrame(df_balanced, columns=['label', 'index_'])\n",
        "\n",
        "X_data = X_data[df_balanced['index_'].values]\n",
        "y_data = y_data[df_balanced['index_'].values]\n"
      ],
      "metadata": {
        "id": "L8xWncnaIFju"
      },
      "execution_count": 14,
      "outputs": []
    },
    {
      "cell_type": "code",
      "source": [
        "print(X_data.shape)\n",
        "print(y_data.shape)"
      ],
      "metadata": {
        "colab": {
          "base_uri": "https://localhost:8080/"
        },
        "id": "cjz4sJGTJukT",
        "outputId": "fd0ac771-c5b3-42e4-9e91-2c8b83d5cae8"
      },
      "execution_count": 15,
      "outputs": [
        {
          "output_type": "stream",
          "name": "stdout",
          "text": [
            "(219932, 40, 6, 1)\n",
            "(219932, 1)\n"
          ]
        }
      ]
    },
    {
      "cell_type": "code",
      "source": [
        "from sklearn.preprocessing import OneHotEncoder\n",
        "from sklearn.model_selection import train_test_split\n",
        "\n",
        "X_train, X_val, y_train, y_val = train_test_split(X_data, y_data, test_size=0.3, random_state=42)\n",
        "X_val, X_test, y_val, y_test = train_test_split(X_val, y_val, test_size=0.1, random_state=42)\n",
        "\n",
        "## Converting label to OneHot Encoding\n",
        "enc = OneHotEncoder(handle_unknown='ignore', sparse=False)\n",
        "enc = enc.fit(y_train)\n",
        "y_train = enc.transform(y_train)\n",
        "y_val = enc.transform(y_val)\n",
        "y_test = enc.transform(y_test)"
      ],
      "metadata": {
        "id": "-IOUXOo70qjx"
      },
      "execution_count": 16,
      "outputs": []
    },
    {
      "cell_type": "code",
      "source": [
        "X_train = np.asarray(X_train).astype('float32')\n",
        "X_val = np.asarray(X_val).astype('float32')"
      ],
      "metadata": {
        "id": "K79dr4b_0Pt5"
      },
      "execution_count": 17,
      "outputs": []
    },
    {
      "cell_type": "code",
      "source": [
        "from tensorflow.keras.models import Sequential, load_model\n",
        "from tensorflow.keras.layers import Dense, Activation, Embedding, Dropout, TimeDistributed, Flatten\n",
        "from tensorflow.keras.layers import LSTM, LSTM, SimpleRNN, GRU, Bidirectional, Conv2D, Reshape, Conv1D, MaxPooling1D\n",
        "from tensorflow.keras.optimizers import Adam, SGD\n",
        "from tensorflow.keras.utils import to_categorical\n",
        "\n",
        "input_shape = (X_train.shape[1], X_train.shape[2], 1)\n",
        "output_dim = 4\n",
        "lr = 0.001\n",
        "\n",
        "model = Sequential()\n",
        "model.add(TimeDistributed(Conv1D(128, kernel_size=(6, ), input_shape=input_shape, name='conv1d1')))\n",
        "model.add(Activation(\"relu\"))\n",
        "model.add(Dropout(0.2))\n",
        "\n",
        "model.add(TimeDistributed(Flatten()))\n",
        "\n",
        "model.add(LSTM(256, return_sequences=True))\n",
        "\n",
        "model.add(LSTM(256))\n",
        "model.add(Dropout(0.5))\n",
        "\n",
        "model.add(Dense(output_dim))\n",
        "\n",
        "model.add(Activation(\"softmax\"))\n",
        "\n",
        "opt = Adam(\n",
        "    learning_rate=lr, beta_1=0.9, beta_2=0.999, epsilon=1e-07, amsgrad=False,\n",
        "    name='Adam'\n",
        ")\n",
        "model.compile(\n",
        "    loss=\"categorical_crossentropy\", optimizer=opt, metrics=[\"acc\"]\n",
        ")"
      ],
      "metadata": {
        "id": "VH_UwvlX0P0c"
      },
      "execution_count": 18,
      "outputs": []
    },
    {
      "cell_type": "code",
      "source": [
        "hist = model.fit(\n",
        "    X_train, y_train,\n",
        "    validation_data = (X_val, y_val),\n",
        "    epochs=20,\n",
        "    batch_size=64,\n",
        "    shuffle=True\n",
        ")"
      ],
      "metadata": {
        "colab": {
          "base_uri": "https://localhost:8080/"
        },
        "id": "OG6WBGeBNQv4",
        "outputId": "dd99b809-43bf-4891-af26-1ffb8404a97f"
      },
      "execution_count": 19,
      "outputs": [
        {
          "output_type": "stream",
          "name": "stdout",
          "text": [
            "Epoch 1/20\n",
            "2406/2406 [==============================] - 90s 35ms/step - loss: 0.2897 - acc: 0.8895 - val_loss: 0.1799 - val_acc: 0.9351\n",
            "Epoch 2/20\n",
            "2406/2406 [==============================] - 83s 34ms/step - loss: 0.1555 - acc: 0.9443 - val_loss: 0.1355 - val_acc: 0.9529\n",
            "Epoch 3/20\n",
            "2406/2406 [==============================] - 83s 34ms/step - loss: 0.1180 - acc: 0.9584 - val_loss: 0.1059 - val_acc: 0.9634\n",
            "Epoch 4/20\n",
            "2406/2406 [==============================] - 83s 34ms/step - loss: 0.0970 - acc: 0.9657 - val_loss: 0.0959 - val_acc: 0.9664\n",
            "Epoch 5/20\n",
            "2406/2406 [==============================] - 83s 34ms/step - loss: 0.0842 - acc: 0.9706 - val_loss: 0.0875 - val_acc: 0.9700\n",
            "Epoch 6/20\n",
            "2406/2406 [==============================] - 83s 35ms/step - loss: 0.0725 - acc: 0.9749 - val_loss: 0.0728 - val_acc: 0.9754\n",
            "Epoch 7/20\n",
            "2406/2406 [==============================] - 83s 35ms/step - loss: 0.0642 - acc: 0.9780 - val_loss: 0.0732 - val_acc: 0.9763\n",
            "Epoch 8/20\n",
            "2406/2406 [==============================] - 84s 35ms/step - loss: 0.0582 - acc: 0.9801 - val_loss: 0.0580 - val_acc: 0.9811\n",
            "Epoch 9/20\n",
            "2406/2406 [==============================] - 83s 34ms/step - loss: 0.0527 - acc: 0.9818 - val_loss: 0.0716 - val_acc: 0.9768\n",
            "Epoch 10/20\n",
            "2406/2406 [==============================] - 83s 34ms/step - loss: 0.0490 - acc: 0.9835 - val_loss: 0.0619 - val_acc: 0.9817\n",
            "Epoch 11/20\n",
            "2406/2406 [==============================] - 83s 34ms/step - loss: 0.0454 - acc: 0.9842 - val_loss: 0.0575 - val_acc: 0.9830\n",
            "Epoch 12/20\n",
            "2406/2406 [==============================] - 83s 34ms/step - loss: 0.0419 - acc: 0.9856 - val_loss: 0.0589 - val_acc: 0.9822\n",
            "Epoch 13/20\n",
            "2406/2406 [==============================] - 84s 35ms/step - loss: 0.0427 - acc: 0.9855 - val_loss: 0.0525 - val_acc: 0.9840\n",
            "Epoch 14/20\n",
            "2406/2406 [==============================] - 83s 35ms/step - loss: 0.0389 - acc: 0.9866 - val_loss: 0.0533 - val_acc: 0.9838\n",
            "Epoch 15/20\n",
            "2406/2406 [==============================] - 83s 34ms/step - loss: 0.0367 - acc: 0.9874 - val_loss: 0.0507 - val_acc: 0.9848\n",
            "Epoch 16/20\n",
            "2406/2406 [==============================] - 83s 34ms/step - loss: 0.0368 - acc: 0.9876 - val_loss: 0.0571 - val_acc: 0.9830\n",
            "Epoch 17/20\n",
            "2406/2406 [==============================] - 83s 34ms/step - loss: 0.0339 - acc: 0.9883 - val_loss: 0.0527 - val_acc: 0.9845\n",
            "Epoch 18/20\n",
            "2406/2406 [==============================] - 83s 34ms/step - loss: 0.0342 - acc: 0.9881 - val_loss: 0.0589 - val_acc: 0.9828\n",
            "Epoch 19/20\n",
            "2406/2406 [==============================] - 83s 34ms/step - loss: 0.0326 - acc: 0.9887 - val_loss: 0.0500 - val_acc: 0.9854\n",
            "Epoch 20/20\n",
            "2406/2406 [==============================] - 83s 34ms/step - loss: 0.0313 - acc: 0.9890 - val_loss: 0.0557 - val_acc: 0.9839\n"
          ]
        }
      ]
    },
    {
      "cell_type": "code",
      "source": [
        "model.summary()"
      ],
      "metadata": {
        "colab": {
          "base_uri": "https://localhost:8080/"
        },
        "id": "FS8AjuzSVwk-",
        "outputId": "fafb88e4-bc63-4b8d-cdeb-dbbef2319524"
      },
      "execution_count": 20,
      "outputs": [
        {
          "output_type": "stream",
          "name": "stdout",
          "text": [
            "Model: \"sequential\"\n",
            "_________________________________________________________________\n",
            " Layer (type)                Output Shape              Param #   \n",
            "=================================================================\n",
            " time_distributed (TimeDistr  (None, 40, 1, 128)       896       \n",
            " ibuted)                                                         \n",
            "                                                                 \n",
            " activation (Activation)     (None, 40, 1, 128)        0         \n",
            "                                                                 \n",
            " dropout (Dropout)           (None, 40, 1, 128)        0         \n",
            "                                                                 \n",
            " time_distributed_1 (TimeDis  (None, 40, 128)          0         \n",
            " tributed)                                                       \n",
            "                                                                 \n",
            " lstm (LSTM)                 (None, 40, 256)           394240    \n",
            "                                                                 \n",
            " lstm_1 (LSTM)               (None, 256)               525312    \n",
            "                                                                 \n",
            " dropout_1 (Dropout)         (None, 256)               0         \n",
            "                                                                 \n",
            " dense (Dense)               (None, 4)                 1028      \n",
            "                                                                 \n",
            " activation_1 (Activation)   (None, 4)                 0         \n",
            "                                                                 \n",
            "=================================================================\n",
            "Total params: 921,476\n",
            "Trainable params: 921,476\n",
            "Non-trainable params: 0\n",
            "_________________________________________________________________\n"
          ]
        }
      ]
    },
    {
      "cell_type": "code",
      "source": [
        "plt.plot(hist.history['acc'])\n",
        "plt.plot(hist.history['val_acc'])\n",
        "plt.title('model accuracy')\n",
        "plt.ylabel('accuracy')\n",
        "plt.xlabel('epoch')\n",
        "plt.legend(['train', 'val'], loc='upper left')\n",
        "plt.show()"
      ],
      "metadata": {
        "colab": {
          "base_uri": "https://localhost:8080/",
          "height": 295
        },
        "id": "eDCjTGyXZZ3M",
        "outputId": "adbe7d37-d4f2-4234-ba72-9e270f7048e0"
      },
      "execution_count": 21,
      "outputs": [
        {
          "output_type": "display_data",
          "data": {
            "text/plain": [
              "<Figure size 432x288 with 1 Axes>"
            ],
            "image/png": "[encoded data removed]"
          },
          "metadata": {
            "needs_background": "light"
          }
        }
      ]
    },
    {
      "cell_type": "code",
      "source": [
        "# summarize history for loss\n",
        "plt.plot(hist.history['loss'])\n",
        "plt.plot(hist.history['val_loss'])\n",
        "plt.title('model loss')\n",
        "plt.ylabel('loss')\n",
        "plt.xlabel('epoch')\n",
        "plt.legend(['train', 'val'], loc='upper left')\n",
        "plt.show()"
      ],
      "metadata": {
        "colab": {
          "base_uri": "https://localhost:8080/",
          "height": 295
        },
        "id": "OAkSFM9cZfrZ",
        "outputId": "7fe7812c-692c-4791-baa3-7833bab03a0c"
      },
      "execution_count": 22,
      "outputs": [
        {
          "output_type": "display_data",
          "data": {
            "text/plain": [
              "<Figure size 432x288 with 1 Axes>"
            ],
            "image/png": "[encoded data removed]"
          },
          "metadata": {
            "needs_background": "light"
          }
        }
      ]
    },
    {
      "cell_type": "code",
      "source": [
        "y_pred = model.predict(X_test)\n",
        "y_pred = np.argmax(y_pred, axis = 1)\n",
        "y_test = np.argmax(y_test, axis = 1)"
      ],
      "metadata": {
        "id": "YgblL8tQQZAR"
      },
      "execution_count": 23,
      "outputs": []
    },
    {
      "cell_type": "code",
      "source": [
        "from sklearn.metrics import classification_report\n",
        "\n",
        "print(classification_report(y_test, y_pred))"
      ],
      "metadata": {
        "colab": {
          "base_uri": "https://localhost:8080/"
        },
        "id": "DfNWI9v6QZCR",
        "outputId": "ea039e2c-c875-4a8e-f0c6-8541bae4bb4e"
      },
      "execution_count": 24,
      "outputs": [
        {
          "output_type": "stream",
          "name": "stdout",
          "text": [
            "              precision    recall  f1-score   support\n",
            "\n",
            "           0       0.98      0.95      0.97      1663\n",
            "           1       0.99      1.00      0.99      1661\n",
            "           2       0.99      1.00      1.00      1581\n",
            "           3       0.97      0.98      0.97      1693\n",
            "\n",
            "    accuracy                           0.98      6598\n",
            "   macro avg       0.98      0.98      0.98      6598\n",
            "weighted avg       0.98      0.98      0.98      6598\n",
            "\n"
          ]
        }
      ]
    },
    {
      "cell_type": "code",
      "source": [
        "def create_test_windows(X, time_steps=1, step=1):\n",
        "  Xs = []\n",
        "  for i in range(0, len(X) - time_steps + 1, step):\n",
        "    v = X.iloc[i:(i + time_steps)].values\n",
        "    Xs.append(v)\n",
        "  return np.array(Xs)"
      ],
      "metadata": {
        "id": "RFdMlyHdemmo"
      },
      "execution_count": 25,
      "outputs": []
    },
    {
      "cell_type": "code",
      "source": [
        "def test_windows(X, time_steps, step):\n",
        "  Xs = []\n",
        "  n_records = X.shape[0]\n",
        "  remainder = (n_records - time_steps) % step\n",
        "  num_windows = 1 + int((n_records - time_steps - remainder) / step)\n",
        "  for k in range(num_windows):\n",
        "      Xs.append(X[k*step:time_steps-1+k*step+1])\n",
        "  return np.array(Xs)"
      ],
      "metadata": {
        "id": "OinH6hSntyQd"
      },
      "execution_count": 26,
      "outputs": []
    },
    {
      "cell_type": "code",
      "execution_count": 27,
      "metadata": {
        "id": "K3q329AJv4Su",
        "colab": {
          "base_uri": "https://localhost:8080/"
        },
        "outputId": "859452ac-e84e-44a2-be23-463941cfd270"
      },
      "outputs": [
        {
          "output_type": "stream",
          "name": "stdout",
          "text": [
            "Original number of values:  (45319, 6)\n",
            "Number of windows:  45280\n",
            "11330 11330\n",
            "Original number of values:  (51761, 6)\n",
            "Number of windows:  51722\n",
            "12940 12941\n",
            "Original number of values:  (49081, 6)\n",
            "Number of windows:  49042\n",
            "12270 12271\n",
            "Original number of values:  (37991, 6)\n",
            "Number of windows:  37952\n",
            "9498 9498\n"
          ]
        }
      ],
      "source": [
        "filepath = 'TestData/'\n",
        "column_list = ['acc_x', 'acc_y', 'acc_z', 'gyro_x', 'gyro_y', 'gyro_z','subject', 'time']\n",
        "columns = ['acc_x', 'acc_y', 'acc_z', 'gyro_x', 'gyro_y', 'gyro_z']\n",
        "df_test_data = pd.DataFrame([], columns = column_list)\n",
        "\n",
        "## Reading prediction file \n",
        "for idx in glob.glob(filepath + '*.csv'):\n",
        "    df_type = idx.split('.')[0].split('__')[1]\n",
        "\n",
        "    if df_type == 'x':\n",
        "      subject_name = idx.split('.')[0].split('__')[0].split('/')[-1]\n",
        "      x_path = idx.split('.')[0].split('__')[0] + '__' + df_type + '.csv'\n",
        "      x_time_path = idx.split('.')[0].split('__')[0] + '__' + 'x_time' + '.csv'\n",
        "      y_time_path = idx.split('.')[0].split('__')[0] + '__' + 'y_time' + '.csv'\n",
        "      df_x = pd.read_csv(x_path, names=column_list[:6])\n",
        "      \n",
        "      print(\"Original number of values: \", df_x.shape)\n",
        "      ## Converting windows for test data \n",
        "      sampled_test = create_test_windows(df_x[columns],TIME_STEPS, STEP)\n",
        "      print(\"Number of windows: \", len(sampled_test))\n",
        "\n",
        "      ## Making inference on test data \n",
        "      pred_test = model.predict(sampled_test)\n",
        "      pred_test = np.argmax(pred_test, axis=1)\n",
        "      pred_test = list(pred_test)\n",
        "      pred_test = np.asarray(pred_test)\n",
        "      pred_test = np.concatenate([pred_test, np.asarray([pred_test[-1]]*40)])\n",
        "      pred_test = pd.DataFrame(pred_test, columns=['label'])\n",
        "\n",
        "      ## Sampling the prediction to match the test set sampling frequency. \n",
        "      df_mode = pred_test['label'].rolling(window=4, min_periods=1).apply(lambda x: int(stats.mode(x)[0]))[::4]\n",
        "\n",
        "      y_time = pd.read_csv(y_time_path, header=None).shape[0]\n",
        "      print(y_time, len(df_mode.values))\n",
        "    \n",
        "      pred_df = pd.DataFrame(df_mode.values)\n",
        "      pred_df = pred_df.astype('int64', copy=False)\n",
        "      pred_df.to_csv(subject_name + '__y.csv', index=False, columns=None)"
      ]
    },
    {
      "cell_type": "code",
      "source": [
        ""
      ],
      "metadata": {
        "id": "D75qZWCTzu52"
      },
      "execution_count": 27,
      "outputs": []
    }
  ],
  "metadata": {
    "colab": {
      "collapsed_sections": [],
      "name": "Timedistributed1dcnn+lstm.ipynb",
      "provenance": []
    },
    "kernelspec": {
      "display_name": "Python 3",
      "language": "python",
      "name": "python3"
    },
    "language_info": {
      "codemirror_mode": {
        "name": "ipython",
        "version": 3
      },
      "file_extension": ".py",
      "mimetype": "text/x-python",
      "name": "python",
      "nbconvert_exporter": "python",
      "pygments_lexer": "ipython3",
      "version": "3.8.8"
    },
    "accelerator": "GPU"
  },
  "nbformat": 4,
  "nbformat_minor": 0
}