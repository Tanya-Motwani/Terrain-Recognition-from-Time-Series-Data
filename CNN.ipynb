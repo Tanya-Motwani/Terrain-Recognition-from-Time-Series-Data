{
 "cells": [
  {
   "cell_type": "code",
   "execution_count": 49,
   "id": "90cc271b",
   "metadata": {},
   "outputs": [],
   "source": [
    "import csv\n",
    "import os\n",
    "import pandas as pd\n",
    "import numpy as np\n",
    "import matplotlib.pyplot as plt\n",
    "import glob\n",
    "import imblearn\n",
    "import warnings\n",
    "warnings.filterwarnings('ignore')"
   ]
  },
  {
   "cell_type": "code",
   "execution_count": 50,
   "id": "e934a331",
   "metadata": {},
   "outputs": [],
   "source": [
    "# from google.colab import drive\n",
    "# drive.mount('/content/drive', force_remount=True)"
   ]
  },
  {
   "cell_type": "code",
   "execution_count": 51,
   "id": "41fe9d0b",
   "metadata": {},
   "outputs": [],
   "source": [
    "# cd drive/MyDrive/NN"
   ]
  },
  {
   "cell_type": "code",
   "execution_count": 52,
   "id": "4e102ab1",
   "metadata": {},
   "outputs": [],
   "source": [
    "def upsample_label(temp_x, temp_y):\n",
    "    y_time_list = temp_y['time'].values\n",
    "    y_label = temp_y['label'].values\n",
    "    jdx = 0\n",
    "    label_list = []\n",
    "    for index,row in temp_x.iterrows():\n",
    "        try:\n",
    "            if row['time'] > y_time_list[jdx]:\n",
    "                jdx+=1\n",
    "            label_list.append(y_label[jdx])\n",
    "        except:\n",
    "            label_list.append(y_label[jdx - 1])\n",
    "    return label_list"
   ]
  },
  {
   "cell_type": "code",
   "execution_count": 53,
   "id": "61fe8e6d",
   "metadata": {},
   "outputs": [],
   "source": [
    "filepath = 'TrainingData/'\n",
    "column_list = ['acc_x', 'acc_y', 'acc_z', 'gyro_x', 'gyro_y', 'gyro_z','subject', 'time', 'label']\n",
    "final_df = pd.DataFrame([], columns = column_list)\n",
    "for i in glob.glob(filepath + '*.csv'):\n",
    "    df_type = i.split('.')[0].split('__')[1]\n",
    "    file_name = i.split(\"\\\\\")[1].split(\"__\")[0]\n",
    "#     file_name = i.split('/')[1].split('__')[0]\n",
    "    if df_type == 'x':\n",
    "        x = open(filepath + file_name + '__x.csv')\n",
    "        x = pd.read_csv(x)\n",
    "        x['subject'] = [file_name] * x.shape[0]\n",
    "        \n",
    "        x_time = open(filepath + file_name + '__x_time.csv')\n",
    "        x_time = pd.read_csv(x_time)\n",
    "        x['time'] = x_time\n",
    "        \n",
    "        y = open(filepath + file_name + '__y.csv')\n",
    "        y = pd.read_csv(y)\n",
    "        y['subject'] = [file_name] * y.shape[0]\n",
    "        \n",
    "        y_time = open(filepath + file_name + '__y_time.csv')\n",
    "        y_time = pd.read_csv(y_time)\n",
    "        y['time'] = y_time\n",
    "        \n",
    "        y.columns = ['label', 'subject', 'time']\n",
    "        label_list = upsample_label(x, y)\n",
    "        x['label'] = label_list\n",
    "        x.columns = column_list\n",
    "        final_df = pd.concat([final_df, x], ignore_index=True)"
   ]
  },
  {
   "cell_type": "code",
   "execution_count": 54,
   "id": "b54a0399",
   "metadata": {},
   "outputs": [],
   "source": [
    "from scipy import stats\n",
    "\n",
    "def create_windows(X, y, time_steps=1, step=1):\n",
    "    Xs, ys = [], []\n",
    "      \n",
    "    for i in range(0, len(X) - time_steps + 1, step):\n",
    "        v = X.iloc[i:(i + time_steps)].values\n",
    "        labels = y.iloc[i: i + time_steps]\n",
    "        Xs.append(v)\n",
    "        ys.append(stats.mode(labels)[0][0])\n",
    "\n",
    "    return np.array(Xs), np.array(ys).reshape(-1, 1)"
   ]
  },
  {
   "cell_type": "code",
   "execution_count": 55,
   "id": "6d2a73f5",
   "metadata": {},
   "outputs": [],
   "source": [
    "X = final_df[['acc_x', 'acc_y', 'acc_z', 'gyro_x', 'gyro_y', 'gyro_z']]\n",
    "y = final_df['label']\n",
    "\n",
    "TIME_STEPS = 40\n",
    "STEP = 1\n",
    "\n",
    "X_data, y_data = create_windows(X, y, time_steps=TIME_STEPS,step=STEP)"
   ]
  },
  {
   "cell_type": "code",
   "execution_count": 56,
   "id": "b74853cb",
   "metadata": {},
   "outputs": [
    {
     "name": "stdout",
     "output_type": "stream",
     "text": [
      "(1341617, 6) (1341578, 40, 6)\n",
      "(1341617,) (1341578, 1)\n"
     ]
    }
   ],
   "source": [
    "print(X.shape, X_data.shape)\n",
    "print(y.shape, y_data.shape)"
   ]
  },
  {
   "cell_type": "code",
   "execution_count": 57,
   "id": "a318cade",
   "metadata": {},
   "outputs": [],
   "source": [
    "from imblearn.under_sampling import RandomUnderSampler\n",
    "from imblearn.over_sampling import SMOTE\n",
    "\n",
    "df_label = pd.DataFrame(y_data, columns=['label'])\n",
    "df_label['index_'] = df_label.index\n",
    "\n",
    "## Library for performing undersampling\n",
    "rus = RandomUnderSampler(sampling_strategy='not minority', random_state=1)\n",
    "df_balanced, balanced_labels = rus.fit_resample(df_label, df_label['label'])\n",
    "\n",
    "sos = SMOTE(sampling_strategy='not majority')\n",
    "df_balanced, balanced_labels  = sos.fit_resample(df_balanced, balanced_labels)\n",
    "\n",
    "df_balanced = pd.DataFrame(df_balanced, columns=['label', 'index_'])\n",
    "\n",
    "X_data = X_data[df_balanced['index_'].values]\n",
    "y_data = y_data[df_balanced['index_'].values]"
   ]
  },
  {
   "cell_type": "code",
   "execution_count": 58,
   "id": "ce4d88bf",
   "metadata": {},
   "outputs": [],
   "source": [
    "from sklearn.preprocessing import OneHotEncoder\n",
    "from sklearn.model_selection import train_test_split\n",
    "\n",
    "X_train, X_val, y_train, y_val = train_test_split(X_data, y_data, test_size=0.3, random_state=42)\n",
    "\n",
    "## Converting label to OneHot Encoding\n",
    "enc = OneHotEncoder(handle_unknown='ignore', sparse=False)\n",
    "enc = enc.fit(y_train)\n",
    "y_train = enc.transform(y_train)\n",
    "y_val = enc.transform(y_val)"
   ]
  },
  {
   "cell_type": "code",
   "execution_count": 59,
   "id": "4c173892",
   "metadata": {},
   "outputs": [],
   "source": [
    "X_train = np.asarray(X_train).astype('float32')\n",
    "X_val = np.asarray(X_val).astype('float32')"
   ]
  },
  {
   "cell_type": "code",
   "execution_count": 60,
   "id": "41fe211d",
   "metadata": {},
   "outputs": [
    {
     "name": "stdout",
     "output_type": "stream",
     "text": [
      "(65980, 40, 6) (65980, 4)\n"
     ]
    }
   ],
   "source": [
    "print(X_val.shape, y_val.shape)"
   ]
  },
  {
   "cell_type": "code",
   "execution_count": 61,
   "id": "ec5f3101",
   "metadata": {},
   "outputs": [],
   "source": [
    "from tensorflow.keras.models import Sequential, load_model\n",
    "from tensorflow.keras.layers import Dense, Activation, Embedding, Dropout, TimeDistributed\n",
    "from tensorflow.keras.layers import Conv1D, MaxPool1D, Flatten, Dense\n",
    "from tensorflow.keras.optimizers import Adam, SGD\n",
    "from tensorflow.keras.utils import to_categorical\n",
    "\n",
    "model = Sequential()\n",
    "model.add(Conv1D(filters=32, kernel_size=3, activation='relu', input_shape=(40, 6)))\n",
    "model.add(Conv1D(filters=64, kernel_size=3, activation='relu'))\n",
    "model.add(Conv1D(filters=64, kernel_size=3, activation='relu'))\n",
    "model.add(Conv1D(filters=32, kernel_size=3, activation='relu'))\n",
    "model.add(Dropout(0.5))\n",
    "model.add(MaxPool1D(pool_size=2))\n",
    "model.add(Flatten())\n",
    "model.add(Dense(100, activation='relu'))\n",
    "model.add(Dense(4, activation='softmax'))\n",
    "\n",
    "model.compile(optimizer=Adam(learning_rate=0.001),  loss='categorical_crossentropy')"
   ]
  },
  {
   "cell_type": "code",
   "execution_count": 62,
   "id": "820d158f",
   "metadata": {},
   "outputs": [
    {
     "name": "stdout",
     "output_type": "stream",
     "text": [
      "Epoch 1/50\n",
      "4811/4811 [==============================] - 24s 5ms/step - loss: 0.3021\n",
      "Epoch 2/50\n",
      "4811/4811 [==============================] - 23s 5ms/step - loss: 0.1800\n",
      "Epoch 3/50\n",
      "4811/4811 [==============================] - 23s 5ms/step - loss: 0.1486\n",
      "Epoch 4/50\n",
      "4811/4811 [==============================] - 24s 5ms/step - loss: 0.1288\n",
      "Epoch 5/50\n",
      "4811/4811 [==============================] - 23s 5ms/step - loss: 0.1157\n",
      "Epoch 6/50\n",
      "4811/4811 [==============================] - 24s 5ms/step - loss: 0.1070\n",
      "Epoch 7/50\n",
      "4811/4811 [==============================] - 23s 5ms/step - loss: 0.1000\n",
      "Epoch 8/50\n",
      "4811/4811 [==============================] - 25s 5ms/step - loss: 0.0937\n",
      "Epoch 9/50\n",
      "4811/4811 [==============================] - 25s 5ms/step - loss: 0.0898\n",
      "Epoch 10/50\n",
      "4811/4811 [==============================] - 25s 5ms/step - loss: 0.0851\n",
      "Epoch 11/50\n",
      "4811/4811 [==============================] - 24s 5ms/step - loss: 0.0820\n",
      "Epoch 12/50\n",
      "4811/4811 [==============================] - 25s 5ms/step - loss: 0.0786\n",
      "Epoch 13/50\n",
      "4811/4811 [==============================] - 25s 5ms/step - loss: 0.0749\n",
      "Epoch 14/50\n",
      "4811/4811 [==============================] - 25s 5ms/step - loss: 0.0739\n",
      "Epoch 15/50\n",
      "4811/4811 [==============================] - 25s 5ms/step - loss: 0.0711\n",
      "Epoch 16/50\n",
      "4811/4811 [==============================] - 25s 5ms/step - loss: 0.0704\n",
      "Epoch 17/50\n",
      "4811/4811 [==============================] - 25s 5ms/step - loss: 0.0694\n",
      "Epoch 18/50\n",
      "4811/4811 [==============================] - 25s 5ms/step - loss: 0.0674\n",
      "Epoch 19/50\n",
      "4811/4811 [==============================] - 25s 5ms/step - loss: 0.0682\n",
      "Epoch 20/50\n",
      "4811/4811 [==============================] - 25s 5ms/step - loss: 0.0646\n",
      "Epoch 21/50\n",
      "4811/4811 [==============================] - 25s 5ms/step - loss: 0.0649\n",
      "Epoch 22/50\n",
      "4811/4811 [==============================] - 25s 5ms/step - loss: 0.0606\n",
      "Epoch 23/50\n",
      "4811/4811 [==============================] - 25s 5ms/step - loss: 0.0611\n",
      "Epoch 24/50\n",
      "4811/4811 [==============================] - 25s 5ms/step - loss: 0.0602\n",
      "Epoch 25/50\n",
      "4811/4811 [==============================] - 25s 5ms/step - loss: 0.0607\n",
      "Epoch 26/50\n",
      "4811/4811 [==============================] - 24s 5ms/step - loss: 0.0590\n",
      "Epoch 27/50\n",
      "4811/4811 [==============================] - 25s 5ms/step - loss: 0.0578\n",
      "Epoch 28/50\n",
      "4811/4811 [==============================] - 25s 5ms/step - loss: 0.0582\n",
      "Epoch 29/50\n",
      "4811/4811 [==============================] - 25s 5ms/step - loss: 0.0565\n",
      "Epoch 30/50\n",
      "4811/4811 [==============================] - 25s 5ms/step - loss: 0.0551\n",
      "Epoch 31/50\n",
      "4811/4811 [==============================] - 24s 5ms/step - loss: 0.0558\n",
      "Epoch 32/50\n",
      "4811/4811 [==============================] - 25s 5ms/step - loss: 0.0558\n",
      "Epoch 33/50\n",
      "4811/4811 [==============================] - 25s 5ms/step - loss: 0.0540\n",
      "Epoch 34/50\n",
      "4811/4811 [==============================] - 25s 5ms/step - loss: 0.0528\n",
      "Epoch 35/50\n",
      "4811/4811 [==============================] - 25s 5ms/step - loss: 0.0536\n",
      "Epoch 36/50\n",
      "4811/4811 [==============================] - 24s 5ms/step - loss: 0.0521\n",
      "Epoch 37/50\n",
      "4811/4811 [==============================] - 25s 5ms/step - loss: 0.0546\n",
      "Epoch 38/50\n",
      "4811/4811 [==============================] - 24s 5ms/step - loss: 0.0530\n",
      "Epoch 39/50\n",
      "4811/4811 [==============================] - 24s 5ms/step - loss: 0.0489\n",
      "Epoch 40/50\n",
      "4811/4811 [==============================] - 24s 5ms/step - loss: 0.0543\n",
      "Epoch 41/50\n",
      "4811/4811 [==============================] - 24s 5ms/step - loss: 0.0498\n",
      "Epoch 42/50\n",
      "4811/4811 [==============================] - 24s 5ms/step - loss: 0.0518\n",
      "Epoch 43/50\n",
      "4811/4811 [==============================] - 24s 5ms/step - loss: 0.0540\n",
      "Epoch 44/50\n",
      "4811/4811 [==============================] - 24s 5ms/step - loss: 0.0505\n",
      "Epoch 45/50\n",
      "4811/4811 [==============================] - 24s 5ms/step - loss: 0.0489\n",
      "Epoch 46/50\n",
      "4811/4811 [==============================] - 24s 5ms/step - loss: 0.0505\n",
      "Epoch 47/50\n",
      "4811/4811 [==============================] - 24s 5ms/step - loss: 0.0533\n",
      "Epoch 48/50\n",
      "4811/4811 [==============================] - 25s 5ms/step - loss: 0.0469\n",
      "Epoch 49/50\n",
      "4811/4811 [==============================] - 25s 5ms/step - loss: 0.0492\n",
      "Epoch 50/50\n",
      "4811/4811 [==============================] - 24s 5ms/step - loss: 0.0444\n"
     ]
    }
   ],
   "source": [
    "cnn = model.fit(X_train, y_train, epochs=50, verbose=1)"
   ]
  },
  {
   "cell_type": "code",
   "execution_count": 63,
   "id": "ef4993d4",
   "metadata": {},
   "outputs": [
    {
     "name": "stdout",
     "output_type": "stream",
     "text": [
      "2062/2062 [==============================] - 6s 3ms/step - loss: 0.0615\n"
     ]
    }
   ],
   "source": [
    "accuracy = model.evaluate(X_val, y_val, verbose=1)"
   ]
  },
  {
   "cell_type": "code",
   "execution_count": 64,
   "id": "e9298b8b",
   "metadata": {},
   "outputs": [],
   "source": [
    "y_pred = model.predict(X_val)\n",
    "y_pred = np.argmax(y_pred, axis = 1)\n",
    "y_val = np.argmax(y_val, axis = 1)"
   ]
  },
  {
   "cell_type": "code",
   "execution_count": 65,
   "id": "0433d878",
   "metadata": {},
   "outputs": [
    {
     "name": "stdout",
     "output_type": "stream",
     "text": [
      "              precision    recall  f1-score   support\n",
      "\n",
      "           0       0.96      0.97      0.96     16405\n",
      "           1       0.99      1.00      1.00     16470\n",
      "           2       0.99      1.00      0.99     16422\n",
      "           3       0.98      0.96      0.97     16683\n",
      "\n",
      "    accuracy                           0.98     65980\n",
      "   macro avg       0.98      0.98      0.98     65980\n",
      "weighted avg       0.98      0.98      0.98     65980\n",
      "\n"
     ]
    }
   ],
   "source": [
    "from sklearn.metrics import classification_report\n",
    "\n",
    "print(classification_report(y_val, y_pred))"
   ]
  },
  {
   "cell_type": "code",
   "execution_count": 68,
   "id": "942f44e2",
   "metadata": {},
   "outputs": [
    {
     "name": "stdout",
     "output_type": "stream",
     "text": [
      "Model: \"sequential_4\"\n",
      "_________________________________________________________________\n",
      " Layer (type)                Output Shape              Param #   \n",
      "=================================================================\n",
      " conv1d_12 (Conv1D)          (None, 38, 32)            608       \n",
      "                                                                 \n",
      " conv1d_13 (Conv1D)          (None, 36, 64)            6208      \n",
      "                                                                 \n",
      " conv1d_14 (Conv1D)          (None, 34, 64)            12352     \n",
      "                                                                 \n",
      " conv1d_15 (Conv1D)          (None, 32, 32)            6176      \n",
      "                                                                 \n",
      " dropout_4 (Dropout)         (None, 32, 32)            0         \n",
      "                                                                 \n",
      " max_pooling1d_4 (MaxPooling  (None, 16, 32)           0         \n",
      " 1D)                                                             \n",
      "                                                                 \n",
      " flatten_4 (Flatten)         (None, 512)               0         \n",
      "                                                                 \n",
      " dense_8 (Dense)             (None, 100)               51300     \n",
      "                                                                 \n",
      " dense_9 (Dense)             (None, 4)                 404       \n",
      "                                                                 \n",
      "=================================================================\n",
      "Total params: 77,048\n",
      "Trainable params: 77,048\n",
      "Non-trainable params: 0\n",
      "_________________________________________________________________\n"
     ]
    }
   ],
   "source": [
    "model.summary()"
   ]
  },
  {
   "cell_type": "code",
   "execution_count": 69,
   "id": "d4c45c98",
   "metadata": {},
   "outputs": [],
   "source": [
    "def create_test_windows(X, time_steps=1, step=1):\n",
    "    Xs = []\n",
    "    for i in range(0, len(X) - time_steps + 1, step):\n",
    "        v = X.iloc[i:(i + time_steps)].values\n",
    "        Xs.append(v)\n",
    "    return np.array(Xs)"
   ]
  },
  {
   "cell_type": "code",
   "execution_count": 70,
   "id": "2bae2e9d",
   "metadata": {},
   "outputs": [],
   "source": [
    "def test_windows(X, time_steps, step):\n",
    "    Xs = []\n",
    "    n_records = X.shape[0]\n",
    "    remainder = (n_records - time_steps) % step\n",
    "    num_windows = 1 + int((n_records - time_steps - remainder) / step)\n",
    "    for k in range(num_windows):\n",
    "        Xs.append(X[k*step:time_steps-1+k*step+1])\n",
    "    return np.array(Xs)"
   ]
  },
  {
   "cell_type": "code",
   "execution_count": 71,
   "id": "62ede329",
   "metadata": {},
   "outputs": [
    {
     "name": "stdout",
     "output_type": "stream",
     "text": [
      "Original number of values:  (37991, 6)\n",
      "Number of windows:  37952\n",
      "9498 9518\n",
      "Original number of values:  (49081, 6)\n",
      "Number of windows:  49042\n",
      "12270 12291\n",
      "Original number of values:  (51761, 6)\n",
      "Number of windows:  51722\n",
      "12940 12961\n",
      "Original number of values:  (45319, 6)\n",
      "Number of windows:  45280\n",
      "11330 11350\n"
     ]
    }
   ],
   "source": [
    "filepath = 'TestData/'\n",
    "column_list = ['acc_x', 'acc_y', 'acc_z', 'gyro_x', 'gyro_y', 'gyro_z','subject', 'time']\n",
    "columns = ['acc_x', 'acc_y', 'acc_z', 'gyro_x', 'gyro_y', 'gyro_z']\n",
    "df_test_data = pd.DataFrame([], columns = column_list)\n",
    "\n",
    "## Reading prediction file \n",
    "for idx in glob.glob(filepath + '*.csv'):\n",
    "    df_type = idx.split('.')[0].split('__')[1]\n",
    "\n",
    "    if df_type == 'x':\n",
    "        subject_name = idx.split('.')[0].split('__')[0].split('/')[-1]\n",
    "        x_path = idx.split('.')[0].split('__')[0] + '__' + df_type + '.csv'\n",
    "        x_time_path = idx.split('.')[0].split('__')[0] + '__' + 'x_time' + '.csv'\n",
    "        y_time_path = idx.split('.')[0].split('__')[0] + '__' + 'y_time' + '.csv'\n",
    "        df_x = pd.read_csv(x_path, names=column_list[:6])\n",
    "\n",
    "        print(\"Original number of values: \", df_x.shape)\n",
    "        ## Converting windows for test data \n",
    "        sampled_test = create_test_windows(df_x[columns],TIME_STEPS, STEP)\n",
    "        print(\"Number of windows: \", len(sampled_test))\n",
    "\n",
    "        ## Making inference on test data \n",
    "        pred_test = model.predict(sampled_test)\n",
    "        pred_test = np.argmax(pred_test, axis=1)\n",
    "        pred_test = list(pred_test)\n",
    "        pred_test = np.asarray(pred_test)\n",
    "        pred_test = np.concatenate([pred_test, np.asarray([pred_test[-1]]*120)])\n",
    "        pred_test = pd.DataFrame(pred_test, columns=['label'])\n",
    "\n",
    "        ## Sampling the prediction to match the test set sampling frequency. \n",
    "        df_mode = pred_test['label'].rolling(window=4, min_periods=1).apply(lambda x: int(stats.mode(x)[0]))[::4]\n",
    "\n",
    "        y_time = pd.read_csv(y_time_path, header=None).shape[0]\n",
    "        print(y_time, len(df_mode.values))\n",
    "\n",
    "        pred_df = pd.DataFrame(df_mode.values)\n",
    "        pred_df = pred_df.astype('int64', copy=False)\n",
    "        pred_df.to_csv(subject_name + '__y.csv', index=False, columns=None)"
   ]
  },
  {
   "cell_type": "code",
   "execution_count": null,
   "id": "2a0352d8",
   "metadata": {},
   "outputs": [],
   "source": []
  }
 ],
 "metadata": {
  "kernelspec": {
   "display_name": "Python 3 (ipykernel)",
   "language": "python",
   "name": "python3"
  },
  "language_info": {
   "codemirror_mode": {
    "name": "ipython",
    "version": 3
   },
   "file_extension": ".py",
   "mimetype": "text/x-python",
   "name": "python",
   "nbconvert_exporter": "python",
   "pygments_lexer": "ipython3",
   "version": "3.8.8"
  }
 },
 "nbformat": 4,
 "nbformat_minor": 5
}
