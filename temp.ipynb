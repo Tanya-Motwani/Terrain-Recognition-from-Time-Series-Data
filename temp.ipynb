{
 "cells": [
  {
   "cell_type": "code",
   "execution_count": 1,
   "id": "29b61579",
   "metadata": {},
   "outputs": [],
   "source": [
    "import csv\n",
    "import os\n",
    "import pandas as pd\n",
    "import numpy as np\n",
    "import matplotlib.pyplot as plt\n",
    "import glob\n",
    "import imblearn\n",
    "import warnings\n",
    "warnings.filterwarnings('ignore')"
   ]
  },
  {
   "cell_type": "code",
   "execution_count": 2,
   "id": "bb2a7183",
   "metadata": {},
   "outputs": [],
   "source": [
    "def upsample_label(temp_x, temp_y):\n",
    "    y_time_list = temp_y['time'].values\n",
    "    y_label = temp_y['label'].values\n",
    "    jdx = 0\n",
    "    label_list = []\n",
    "    for index,row in temp_x.iterrows():\n",
    "        try:\n",
    "            if row['time'] > y_time_list[jdx]:\n",
    "                jdx+=1\n",
    "            label_list.append(y_label[jdx])\n",
    "        except:\n",
    "            label_list.append(y_label[jdx - 1])\n",
    "    return label_list"
   ]
  },
  {
   "cell_type": "code",
   "execution_count": 3,
   "id": "d0ac1f02",
   "metadata": {},
   "outputs": [],
   "source": [
    "filepath = 'TrainingData/'\n",
    "column_list = ['acc_x', 'acc_y', 'acc_z', 'gyro_x', 'gyro_y', 'gyro_z','subject', 'time', 'label']\n",
    "final_df = pd.DataFrame([], columns = column_list)\n",
    "for i in glob.glob(filepath + '*.csv'):\n",
    "    df_type = i.split('.')[0].split('__')[1]\n",
    "    file_name = i.split(\"\\\\\")[1].split(\"__\")[0]\n",
    "#     file_name = i.split('/')[1].split('__')[0]\n",
    "    if df_type == 'x':\n",
    "        x = open(filepath + file_name + '__x.csv')\n",
    "        x = pd.read_csv(x)\n",
    "        x['subject'] = [file_name] * x.shape[0]\n",
    "        \n",
    "        x_time = open(filepath + file_name + '__x_time.csv')\n",
    "        x_time = pd.read_csv(x_time)\n",
    "        x['time'] = x_time\n",
    "        \n",
    "        y = open(filepath + file_name + '__y.csv')\n",
    "        y = pd.read_csv(y)\n",
    "        y['subject'] = [file_name] * y.shape[0]\n",
    "        \n",
    "        y_time = open(filepath + file_name + '__y_time.csv')\n",
    "        y_time = pd.read_csv(y_time)\n",
    "        y['time'] = y_time\n",
    "        \n",
    "        y.columns = ['label', 'subject', 'time']\n",
    "        label_list = upsample_label(x, y)\n",
    "        x['label'] = label_list\n",
    "        x.columns = column_list\n",
    "        final_df = pd.concat([final_df, x], ignore_index=True)"
   ]
  },
  {
   "cell_type": "code",
   "execution_count": 4,
   "id": "e6107bc3",
   "metadata": {},
   "outputs": [],
   "source": [
    "from scipy import stats\n",
    "\n",
    "def create_windows(X, y, time_steps=1, step=1):\n",
    "    Xs, ys = [], []\n",
    "      \n",
    "    for i in range(0, len(X) - time_steps + 1, step):\n",
    "        v = X.iloc[i:(i + time_steps)].values\n",
    "        labels = y.iloc[i: i + time_steps]\n",
    "        Xs.append(v)\n",
    "        ys.append(stats.mode(labels)[0][0])\n",
    "\n",
    "    return np.array(Xs), np.array(ys).reshape(-1, 1)"
   ]
  },
  {
   "cell_type": "code",
   "execution_count": 5,
   "id": "23f88cc0",
   "metadata": {},
   "outputs": [],
   "source": [
    "X = final_df[['acc_x', 'acc_y', 'acc_z', 'gyro_x', 'gyro_y', 'gyro_z']]\n",
    "y = final_df['label']\n",
    "\n",
    "TIME_STEPS = 40\n",
    "STEP = 1\n",
    "\n",
    "X_data, y_data = create_windows(X, y, time_steps=TIME_STEPS,step=STEP)"
   ]
  },
  {
   "cell_type": "code",
   "execution_count": 6,
   "id": "0237a151",
   "metadata": {},
   "outputs": [
    {
     "name": "stdout",
     "output_type": "stream",
     "text": [
      "(1341617, 6) (1341578, 40, 6)\n",
      "(1341617,) (1341578, 1)\n"
     ]
    }
   ],
   "source": [
    "print(X.shape, X_data.shape)\n",
    "print(y.shape, y_data.shape)"
   ]
  },
  {
   "cell_type": "code",
   "execution_count": 7,
   "id": "f6c03c78",
   "metadata": {},
   "outputs": [],
   "source": [
    "from imblearn.under_sampling import RandomUnderSampler\n",
    "from imblearn.over_sampling import SMOTE\n",
    "\n",
    "df_label = pd.DataFrame(y_data, columns=['label'])\n",
    "df_label['index_'] = df_label.index\n",
    "\n",
    "## Library for performing undersampling\n",
    "rus = RandomUnderSampler(sampling_strategy='not minority', random_state=1)\n",
    "df_balanced, balanced_labels = rus.fit_resample(df_label, df_label['label'])\n",
    "\n",
    "sos = SMOTE(sampling_strategy='not majority')\n",
    "df_balanced, balanced_labels  = sos.fit_resample(df_balanced, balanced_labels)\n",
    "\n",
    "df_balanced = pd.DataFrame(df_balanced, columns=['label', 'index_'])\n",
    "\n",
    "X_data = X_data[df_balanced['index_'].values]\n",
    "y_data = y_data[df_balanced['index_'].values]"
   ]
  },
  {
   "cell_type": "code",
   "execution_count": 8,
   "id": "94f299b6",
   "metadata": {},
   "outputs": [],
   "source": [
    "from sklearn.preprocessing import OneHotEncoder\n",
    "from sklearn.model_selection import train_test_split\n",
    "\n",
    "X_train, X_val, y_train, y_val = train_test_split(X_data, y_data, test_size=0.3, random_state=42)\n",
    "X_val, X_test, y_val, y_test = train_test_split(X_val, y_val, test_size=0.1, random_state=42)\n",
    "\n",
    "## Converting label to OneHot Encoding\n",
    "enc = OneHotEncoder(handle_unknown='ignore', sparse=False)\n",
    "enc = enc.fit(y_train)\n",
    "y_train = enc.transform(y_train)\n",
    "y_val = enc.transform(y_val)\n",
    "y_test = enc.transform(y_test)"
   ]
  },
  {
   "cell_type": "code",
   "execution_count": 9,
   "id": "8e366ce5",
   "metadata": {},
   "outputs": [],
   "source": [
    "X_train = np.asarray(X_train).astype('float32')\n",
    "X_val = np.asarray(X_val).astype('float32')"
   ]
  },
  {
   "cell_type": "code",
   "execution_count": 18,
   "id": "d2df445c",
   "metadata": {},
   "outputs": [],
   "source": [
    "X_test = np.asarray(X_test).astype('float32')"
   ]
  },
  {
   "cell_type": "code",
   "execution_count": 10,
   "id": "b06e53e9",
   "metadata": {},
   "outputs": [
    {
     "name": "stdout",
     "output_type": "stream",
     "text": [
      "(59382, 40, 6) (59382, 4)\n",
      "(153952, 40, 6) (153952, 4)\n"
     ]
    }
   ],
   "source": [
    "print(X_val.shape, y_val.shape)\n",
    "print(X_train.shape, y_train.shape)"
   ]
  },
  {
   "cell_type": "code",
   "execution_count": 11,
   "id": "840f49e1",
   "metadata": {},
   "outputs": [],
   "source": [
    "from tensorflow.keras.models import Model\n",
    "from tensorflow.keras.layers import Input, Conv1D, Dropout, BatchNormalization, MaxPooling1D, UpSampling1D, Dense, Flatten\n",
    "from tensorflow.keras.optimizers import Adam, SGD"
   ]
  },
  {
   "cell_type": "code",
   "execution_count": 23,
   "id": "1ba08e12",
   "metadata": {},
   "outputs": [],
   "source": [
    "dropout_rate = 0.5\n",
    "input_layer = Input([40, 6])\n",
    "\n",
    "conv1 = Conv1D(filters=32, kernel_size=2, padding=\"same\", activation = \"relu\")(input_layer)\n",
    "conv1 = Dropout(dropout_rate)(conv1)\n",
    "conv1 = MaxPooling1D(pool_size =2)(conv1)\n",
    "\n",
    "conv2 = Conv1D(filters=64, kernel_size=2, padding=\"same\", activation = \"relu\")(conv1)\n",
    "conv2 = Dropout(dropout_rate)(conv2)\n",
    "conv2 = MaxPooling1D(pool_size =2)(conv2)\n",
    "\n",
    "conv3 = Conv1D(filters=128, kernel_size=2, padding=\"same\", activation = \"relu\")(conv2)\n",
    "conv3 = Dropout(dropout_rate)(conv3)\n",
    "conv3 = MaxPooling1D(pool_size =2)(conv3)\n",
    "\n",
    "deconv3 = Conv1D(filters=128, kernel_size=2, padding = \"same\", activation=\"relu\")(conv3)\n",
    "deconv3 = Dropout(dropout_rate)(deconv3)\n",
    "deconv3 = UpSampling1D(size =2)(deconv3)\n",
    "\n",
    "deconv2 = Conv1D(filters=64, kernel_size=2, padding = \"same\", activation=\"relu\")(deconv3)\n",
    "deconv2 = Dropout(dropout_rate)(deconv2)\n",
    "deconv2 = UpSampling1D(size =2)(deconv2)\n",
    "\n",
    "deconv1 = Conv1D(filters=32, kernel_size=2, padding = \"same\", activation=\"relu\")(deconv2)\n",
    "deconv1 = Dropout(dropout_rate)(deconv1)\n",
    "deconv1 = UpSampling1D(size =2)(deconv1)\n",
    "\n",
    "fl1 = Flatten()(deconv1)\n",
    "\n",
    "output_layer = Dense(4, activation=\"softmax\")(fl1)\n",
    "\n",
    "model = Model(inputs=input_layer, outputs=output_layer)"
   ]
  },
  {
   "cell_type": "code",
   "execution_count": 24,
   "id": "04974793",
   "metadata": {},
   "outputs": [
    {
     "name": "stdout",
     "output_type": "stream",
     "text": [
      "Model: \"model_2\"\n",
      "_________________________________________________________________\n",
      " Layer (type)                Output Shape              Param #   \n",
      "=================================================================\n",
      " input_3 (InputLayer)        [(None, 40, 6)]           0         \n",
      "                                                                 \n",
      " conv1d_12 (Conv1D)          (None, 40, 32)            416       \n",
      "                                                                 \n",
      " dropout_12 (Dropout)        (None, 40, 32)            0         \n",
      "                                                                 \n",
      " max_pooling1d_6 (MaxPooling  (None, 20, 32)           0         \n",
      " 1D)                                                             \n",
      "                                                                 \n",
      " conv1d_13 (Conv1D)          (None, 20, 64)            4160      \n",
      "                                                                 \n",
      " dropout_13 (Dropout)        (None, 20, 64)            0         \n",
      "                                                                 \n",
      " max_pooling1d_7 (MaxPooling  (None, 10, 64)           0         \n",
      " 1D)                                                             \n",
      "                                                                 \n",
      " conv1d_14 (Conv1D)          (None, 10, 128)           16512     \n",
      "                                                                 \n",
      " dropout_14 (Dropout)        (None, 10, 128)           0         \n",
      "                                                                 \n",
      " max_pooling1d_8 (MaxPooling  (None, 5, 128)           0         \n",
      " 1D)                                                             \n",
      "                                                                 \n",
      " conv1d_15 (Conv1D)          (None, 5, 128)            32896     \n",
      "                                                                 \n",
      " dropout_15 (Dropout)        (None, 5, 128)            0         \n",
      "                                                                 \n",
      " up_sampling1d_6 (UpSampling  (None, 10, 128)          0         \n",
      " 1D)                                                             \n",
      "                                                                 \n",
      " conv1d_16 (Conv1D)          (None, 10, 64)            16448     \n",
      "                                                                 \n",
      " dropout_16 (Dropout)        (None, 10, 64)            0         \n",
      "                                                                 \n",
      " up_sampling1d_7 (UpSampling  (None, 20, 64)           0         \n",
      " 1D)                                                             \n",
      "                                                                 \n",
      " conv1d_17 (Conv1D)          (None, 20, 32)            4128      \n",
      "                                                                 \n",
      " dropout_17 (Dropout)        (None, 20, 32)            0         \n",
      "                                                                 \n",
      " up_sampling1d_8 (UpSampling  (None, 40, 32)           0         \n",
      " 1D)                                                             \n",
      "                                                                 \n",
      " flatten_2 (Flatten)         (None, 1280)              0         \n",
      "                                                                 \n",
      " dense_2 (Dense)             (None, 4)                 5124      \n",
      "                                                                 \n",
      "=================================================================\n",
      "Total params: 79,684\n",
      "Trainable params: 79,684\n",
      "Non-trainable params: 0\n",
      "_________________________________________________________________\n"
     ]
    }
   ],
   "source": [
    "model.summary()"
   ]
  },
  {
   "cell_type": "code",
   "execution_count": 25,
   "id": "9dc1366a",
   "metadata": {},
   "outputs": [],
   "source": [
    "model.compile(optimizer=Adam(learning_rate=0.001),  loss='categorical_crossentropy')"
   ]
  },
  {
   "cell_type": "code",
   "execution_count": null,
   "id": "3fe644f6",
   "metadata": {
    "scrolled": true
   },
   "outputs": [
    {
     "name": "stdout",
     "output_type": "stream",
     "text": [
      "Epoch 1/200\n",
      "2406/2406 [==============================] - 32s 13ms/step - loss: 1.0349 - val_loss: 0.6804\n",
      "Epoch 2/200\n",
      "2406/2406 [==============================] - 32s 13ms/step - loss: 0.4918 - val_loss: 0.4129\n",
      "Epoch 3/200\n",
      "2406/2406 [==============================] - 33s 14ms/step - loss: 0.4137 - val_loss: 0.3337\n",
      "Epoch 4/200\n",
      "2406/2406 [==============================] - 33s 14ms/step - loss: 0.3842 - val_loss: 0.3351\n",
      "Epoch 5/200\n",
      "2406/2406 [==============================] - 32s 13ms/step - loss: 0.3706 - val_loss: 0.2967\n",
      "Epoch 6/200\n",
      "2406/2406 [==============================] - 32s 13ms/step - loss: 0.3612 - val_loss: 0.2860\n",
      "Epoch 7/200\n",
      "2406/2406 [==============================] - 32s 13ms/step - loss: 0.3564 - val_loss: 0.2782\n",
      "Epoch 8/200\n",
      "2406/2406 [==============================] - 32s 13ms/step - loss: 0.3500 - val_loss: 0.2651\n",
      "Epoch 9/200\n",
      "2406/2406 [==============================] - 32s 13ms/step - loss: 0.3454 - val_loss: 0.2721\n",
      "Epoch 10/200\n",
      "2406/2406 [==============================] - 32s 13ms/step - loss: 0.3457 - val_loss: 0.2694\n",
      "Epoch 11/200\n",
      "2406/2406 [==============================] - 32s 13ms/step - loss: 0.3437 - val_loss: 0.2677\n",
      "Epoch 12/200\n",
      "2406/2406 [==============================] - 32s 13ms/step - loss: 0.3418 - val_loss: 0.2899\n",
      "Epoch 13/200\n",
      "2406/2406 [==============================] - 32s 13ms/step - loss: 0.3387 - val_loss: 0.2543\n",
      "Epoch 14/200\n",
      "2406/2406 [==============================] - 32s 13ms/step - loss: 0.3394 - val_loss: 0.2650\n",
      "Epoch 15/200\n",
      "2406/2406 [==============================] - 32s 13ms/step - loss: 0.3379 - val_loss: 0.2636\n",
      "Epoch 16/200\n",
      "2406/2406 [==============================] - 32s 13ms/step - loss: 0.3395 - val_loss: 0.2588\n",
      "Epoch 17/200\n",
      "2406/2406 [==============================] - 31s 13ms/step - loss: 0.3381 - val_loss: 0.2769\n",
      "Epoch 18/200\n",
      "2406/2406 [==============================] - 31s 13ms/step - loss: 0.3353 - val_loss: 0.2727\n",
      "Epoch 19/200\n",
      "2406/2406 [==============================] - 32s 13ms/step - loss: 0.3387 - val_loss: 0.2517\n",
      "Epoch 20/200\n",
      "2406/2406 [==============================] - 32s 13ms/step - loss: 0.3387 - val_loss: 0.2668\n",
      "Epoch 21/200\n",
      "2406/2406 [==============================] - 32s 13ms/step - loss: 0.3410 - val_loss: 0.2634\n",
      "Epoch 22/200\n",
      "2406/2406 [==============================] - 32s 13ms/step - loss: 0.3406 - val_loss: 0.2748\n",
      "Epoch 23/200\n",
      "2406/2406 [==============================] - 31s 13ms/step - loss: 0.3376 - val_loss: 0.2665\n",
      "Epoch 24/200\n",
      "2406/2406 [==============================] - 32s 13ms/step - loss: 0.3397 - val_loss: 0.2634\n",
      "Epoch 25/200\n",
      "2406/2406 [==============================] - 32s 13ms/step - loss: 0.3413 - val_loss: 0.2496\n",
      "Epoch 26/200\n",
      "2406/2406 [==============================] - 32s 13ms/step - loss: 0.3414 - val_loss: 0.2540\n",
      "Epoch 27/200\n",
      "2406/2406 [==============================] - 32s 13ms/step - loss: 0.3400 - val_loss: 0.2618\n",
      "Epoch 28/200\n",
      "2406/2406 [==============================] - 32s 13ms/step - loss: 0.3389 - val_loss: 0.2655\n",
      "Epoch 29/200\n",
      "2406/2406 [==============================] - 31s 13ms/step - loss: 0.3415 - val_loss: 0.2749\n",
      "Epoch 30/200\n",
      "2406/2406 [==============================] - 31s 13ms/step - loss: 0.3432 - val_loss: 0.2559\n",
      "Epoch 31/200\n",
      "2406/2406 [==============================] - 32s 13ms/step - loss: 0.3469 - val_loss: 0.2664\n",
      "Epoch 32/200\n",
      "2406/2406 [==============================] - 32s 13ms/step - loss: 0.3488 - val_loss: 0.2846\n",
      "Epoch 33/200\n",
      "2406/2406 [==============================] - 32s 13ms/step - loss: 0.3471 - val_loss: 0.2848\n",
      "Epoch 34/200\n",
      "2406/2406 [==============================] - 32s 13ms/step - loss: 0.3442 - val_loss: 0.2633\n",
      "Epoch 35/200\n",
      "2406/2406 [==============================] - 32s 13ms/step - loss: 0.3461 - val_loss: 0.2716\n",
      "Epoch 36/200\n",
      "2406/2406 [==============================] - 32s 13ms/step - loss: 0.3498 - val_loss: 0.2505\n",
      "Epoch 37/200\n",
      "2406/2406 [==============================] - 32s 13ms/step - loss: 0.3494 - val_loss: 0.2851\n",
      "Epoch 38/200\n",
      "2406/2406 [==============================] - 32s 13ms/step - loss: 0.3495 - val_loss: 0.2753\n",
      "Epoch 39/200\n",
      "2406/2406 [==============================] - 32s 13ms/step - loss: 0.3505 - val_loss: 0.2500\n",
      "Epoch 40/200\n",
      "2406/2406 [==============================] - 31s 13ms/step - loss: 0.3498 - val_loss: 0.2635\n",
      "Epoch 41/200\n",
      "2406/2406 [==============================] - 32s 13ms/step - loss: 0.3489 - val_loss: 0.2623\n",
      "Epoch 42/200\n",
      "2406/2406 [==============================] - 32s 13ms/step - loss: 0.3562 - val_loss: 0.2730\n",
      "Epoch 43/200\n",
      "2406/2406 [==============================] - 32s 13ms/step - loss: 0.3483 - val_loss: 0.2718\n",
      "Epoch 44/200\n",
      "2406/2406 [==============================] - 31s 13ms/step - loss: 0.3507 - val_loss: 0.2476\n",
      "Epoch 45/200\n",
      "2406/2406 [==============================] - 32s 13ms/step - loss: 0.3521 - val_loss: 0.2618\n",
      "Epoch 46/200\n",
      "2406/2406 [==============================] - 32s 13ms/step - loss: 0.3557 - val_loss: 0.2770\n",
      "Epoch 47/200\n",
      "2406/2406 [==============================] - 32s 13ms/step - loss: 0.3623 - val_loss: 0.2697\n",
      "Epoch 48/200\n",
      "2406/2406 [==============================] - 33s 14ms/step - loss: 0.3565 - val_loss: 0.2687\n",
      "Epoch 49/200\n",
      "2406/2406 [==============================] - 32s 13ms/step - loss: 0.3512 - val_loss: 0.2737\n",
      "Epoch 50/200\n",
      "2406/2406 [==============================] - 32s 13ms/step - loss: 0.3550 - val_loss: 0.2474\n",
      "Epoch 51/200\n",
      "2406/2406 [==============================] - 32s 13ms/step - loss: 0.3530 - val_loss: 0.2719\n",
      "Epoch 52/200\n",
      "2406/2406 [==============================] - 32s 13ms/step - loss: 0.3580 - val_loss: 0.2633\n",
      "Epoch 53/200\n",
      "2406/2406 [==============================] - 31s 13ms/step - loss: 0.3620 - val_loss: 0.2651\n",
      "Epoch 54/200\n",
      "2406/2406 [==============================] - 31s 13ms/step - loss: 0.3584 - val_loss: 0.2667\n",
      "Epoch 55/200\n",
      "2406/2406 [==============================] - 32s 13ms/step - loss: 0.3560 - val_loss: 0.2577\n",
      "Epoch 56/200\n",
      "2406/2406 [==============================] - 32s 13ms/step - loss: 0.3613 - val_loss: 0.2535\n",
      "Epoch 57/200\n",
      "2406/2406 [==============================] - 32s 13ms/step - loss: 0.3632 - val_loss: 0.2671\n",
      "Epoch 58/200\n",
      "2406/2406 [==============================] - 31s 13ms/step - loss: 0.3552 - val_loss: 0.2671\n",
      "Epoch 59/200\n",
      "2406/2406 [==============================] - 31s 13ms/step - loss: 0.3623 - val_loss: 0.2838\n",
      "Epoch 60/200\n",
      "2406/2406 [==============================] - 31s 13ms/step - loss: 0.3628 - val_loss: 0.2586\n",
      "Epoch 61/200\n",
      "2406/2406 [==============================] - 31s 13ms/step - loss: 0.3613 - val_loss: 0.2684\n",
      "Epoch 62/200\n",
      "2406/2406 [==============================] - 32s 13ms/step - loss: 0.3597 - val_loss: 0.2755\n",
      "Epoch 63/200\n",
      "2406/2406 [==============================] - 32s 13ms/step - loss: 0.3620 - val_loss: 0.3023\n",
      "Epoch 64/200\n",
      "2406/2406 [==============================] - 31s 13ms/step - loss: 0.3659 - val_loss: 0.2823\n",
      "Epoch 65/200\n",
      "2406/2406 [==============================] - 32s 13ms/step - loss: 0.3635 - val_loss: 0.2697\n",
      "Epoch 66/200\n",
      "2406/2406 [==============================] - 32s 13ms/step - loss: 0.3686 - val_loss: 0.2825\n",
      "Epoch 67/200\n",
      "2406/2406 [==============================] - 32s 13ms/step - loss: 0.3606 - val_loss: 0.2718\n",
      "Epoch 68/200\n",
      "2406/2406 [==============================] - 32s 13ms/step - loss: 0.3678 - val_loss: 0.2781\n",
      "Epoch 69/200\n",
      "2406/2406 [==============================] - 32s 13ms/step - loss: 0.3682 - val_loss: 0.2651\n",
      "Epoch 70/200\n",
      "2406/2406 [==============================] - 34s 14ms/step - loss: 0.3672 - val_loss: 0.2774\n",
      "Epoch 71/200\n",
      "2406/2406 [==============================] - 33s 14ms/step - loss: 0.3690 - val_loss: 0.2766\n",
      "Epoch 72/200\n",
      "2406/2406 [==============================] - 34s 14ms/step - loss: 0.3679 - val_loss: 0.2698\n",
      "Epoch 73/200\n",
      "1535/2406 [==================>...........] - ETA: 10s - loss: 0.3660"
     ]
    }
   ],
   "source": [
    "cnn = model.fit(X_train, y_train, epochs=200, verbose=1, batch_size=64, validation_data = (X_val, y_val))"
   ]
  },
  {
   "cell_type": "code",
   "execution_count": null,
   "id": "df53bc7f",
   "metadata": {},
   "outputs": [],
   "source": []
  },
  {
   "cell_type": "code",
   "execution_count": null,
   "id": "7d80b743",
   "metadata": {},
   "outputs": [],
   "source": []
  },
  {
   "cell_type": "code",
   "execution_count": 19,
   "id": "948dded2",
   "metadata": {},
   "outputs": [
    {
     "name": "stdout",
     "output_type": "stream",
     "text": [
      "207/207 [==============================] - 1s 4ms/step - loss: 0.1314\n"
     ]
    }
   ],
   "source": [
    "accuracy = model.evaluate(X_test, y_test, verbose=1)"
   ]
  },
  {
   "cell_type": "code",
   "execution_count": 20,
   "id": "1f5eb989",
   "metadata": {},
   "outputs": [],
   "source": [
    "y_pred = model.predict(X_test)\n",
    "y_pred = np.argmax(y_pred, axis = 1)\n",
    "y_test = np.argmax(y_test, axis = 1)"
   ]
  },
  {
   "cell_type": "code",
   "execution_count": 21,
   "id": "58718ea4",
   "metadata": {},
   "outputs": [
    {
     "name": "stdout",
     "output_type": "stream",
     "text": [
      "              precision    recall  f1-score   support\n",
      "\n",
      "           0       0.92      0.89      0.90      1663\n",
      "           1       0.99      0.99      0.99      1661\n",
      "           2       0.99      0.98      0.98      1581\n",
      "           3       0.91      0.94      0.92      1693\n",
      "\n",
      "    accuracy                           0.95      6598\n",
      "   macro avg       0.95      0.95      0.95      6598\n",
      "weighted avg       0.95      0.95      0.95      6598\n",
      "\n"
     ]
    }
   ],
   "source": [
    "from sklearn.metrics import classification_report\n",
    "\n",
    "print(classification_report(y_test, y_pred))"
   ]
  },
  {
   "cell_type": "code",
   "execution_count": null,
   "id": "920f5282",
   "metadata": {},
   "outputs": [],
   "source": []
  }
 ],
 "metadata": {
  "kernelspec": {
   "display_name": "Python 3 (ipykernel)",
   "language": "python",
   "name": "python3"
  },
  "language_info": {
   "codemirror_mode": {
    "name": "ipython",
    "version": 3
   },
   "file_extension": ".py",
   "mimetype": "text/x-python",
   "name": "python",
   "nbconvert_exporter": "python",
   "pygments_lexer": "ipython3",
   "version": "3.8.8"
  }
 },
 "nbformat": 4,
 "nbformat_minor": 5
}
