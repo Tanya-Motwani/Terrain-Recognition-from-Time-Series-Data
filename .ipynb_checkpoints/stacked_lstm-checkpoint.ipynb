{
 "cells": [
  {
   "cell_type": "code",
   "execution_count": 1,
   "metadata": {
    "id": "GitahgEVEvfm"
   },
   "outputs": [],
   "source": [
    "import csv\n",
    "import os\n",
    "import pandas as pd\n",
    "import numpy as np\n",
    "import matplotlib.pyplot as plt\n",
    "import glob\n",
    "import imblearn\n",
    "import warnings\n",
    "warnings.filterwarnings('ignore')"
   ]
  },
  {
   "cell_type": "code",
   "execution_count": null,
   "metadata": {
    "colab": {
     "base_uri": "https://localhost:8080/"
    },
    "id": "CrGBeXWoGG7h",
    "outputId": "999c330d-d3fb-4970-a74b-e7322d91521a"
   },
   "outputs": [],
   "source": [
    "from google.colab import drive\n",
    "drive.mount('/content/drive', force_remount=True)"
   ]
  },
  {
   "cell_type": "code",
   "execution_count": null,
   "metadata": {
    "colab": {
     "base_uri": "https://localhost:8080/"
    },
    "id": "dxzR597LBzRH",
    "outputId": "3e303129-4358-4a54-db20-41af71ccf71e"
   },
   "outputs": [],
   "source": [
    "cd drive/MyDrive/NN"
   ]
  },
  {
   "cell_type": "code",
   "execution_count": 2,
   "metadata": {
    "id": "5zap0_k6FNyO"
   },
   "outputs": [],
   "source": [
    "def upsample_label(temp_x, temp_y):\n",
    "    y_time_list = temp_y['time'].values\n",
    "    y_label = temp_y['label'].values\n",
    "    jdx = 0\n",
    "    label_list = []\n",
    "    for index,row in temp_x.iterrows():\n",
    "        try:\n",
    "            if row['time'] > y_time_list[jdx]:\n",
    "                jdx+=1\n",
    "            label_list.append(y_label[jdx])\n",
    "        except:\n",
    "            label_list.append(y_label[jdx - 1])\n",
    "    return label_list"
   ]
  },
  {
   "cell_type": "code",
   "execution_count": 3,
   "metadata": {
    "id": "xImsHMkiE1JA"
   },
   "outputs": [],
   "source": [
    "filepath = 'TrainingData/'\n",
    "column_list = ['acc_x', 'acc_y', 'acc_z', 'gyro_x', 'gyro_y', 'gyro_z','subject', 'time', 'label']\n",
    "final_df = pd.DataFrame([], columns = column_list)\n",
    "for i in glob.glob(filepath + '*.csv'):\n",
    "    df_type = i.split('.')[0].split('__')[1]\n",
    "    file_name = i.split(\"\\\\\")[1].split(\"__\")[0]\n",
    "#     file_name = i.split('/')[1].split('__')[0]\n",
    "    if df_type == 'x':\n",
    "        x = open(filepath + file_name + '__x.csv')\n",
    "        x = pd.read_csv(x)\n",
    "        x['subject'] = [file_name] * x.shape[0]\n",
    "        \n",
    "        x_time = open(filepath + file_name + '__x_time.csv')\n",
    "        x_time = pd.read_csv(x_time)\n",
    "        x['time'] = x_time\n",
    "        \n",
    "        y = open(filepath + file_name + '__y.csv')\n",
    "        y = pd.read_csv(y)\n",
    "        y['subject'] = [file_name] * y.shape[0]\n",
    "        \n",
    "        y_time = open(filepath + file_name + '__y_time.csv')\n",
    "        y_time = pd.read_csv(y_time)\n",
    "        y['time'] = y_time\n",
    "        \n",
    "        y.columns = ['label', 'subject', 'time']\n",
    "        label_list = upsample_label(x, y)\n",
    "        x['label'] = label_list\n",
    "        x.columns = column_list\n",
    "        final_df = pd.concat([final_df, x], ignore_index=True)\n"
   ]
  },
  {
   "cell_type": "code",
   "execution_count": 4,
   "metadata": {
    "colab": {
     "base_uri": "https://localhost:8080/"
    },
    "id": "XsS1OazfGMk0",
    "outputId": "74f93239-6e1a-4ccf-aea8-32719a5e00e9"
   },
   "outputs": [
    {
     "data": {
      "text/plain": [
       "(1341617, 9)"
      ]
     },
     "execution_count": 4,
     "metadata": {},
     "output_type": "execute_result"
    }
   ],
   "source": [
    "final_df.shape"
   ]
  },
  {
   "cell_type": "code",
   "execution_count": 5,
   "metadata": {
    "id": "Kq9C7agWMBw1"
   },
   "outputs": [],
   "source": [
    "final_df.to_csv('final_dataset.csv')"
   ]
  },
  {
   "cell_type": "code",
   "execution_count": 6,
   "metadata": {
    "colab": {
     "base_uri": "https://localhost:8080/",
     "height": 676
    },
    "id": "aC-srk8ZGlOL",
    "outputId": "40d1223d-0986-426c-aa52-0aca8a600aa6"
   },
   "outputs": [
    {
     "data": {
      "text/html": [
       "<div>\n",
       "<style scoped>\n",
       "    .dataframe tbody tr th:only-of-type {\n",
       "        vertical-align: middle;\n",
       "    }\n",
       "\n",
       "    .dataframe tbody tr th {\n",
       "        vertical-align: top;\n",
       "    }\n",
       "\n",
       "    .dataframe thead th {\n",
       "        text-align: right;\n",
       "    }\n",
       "</style>\n",
       "<table border=\"1\" class=\"dataframe\">\n",
       "  <thead>\n",
       "    <tr style=\"text-align: right;\">\n",
       "      <th></th>\n",
       "      <th>acc_x</th>\n",
       "      <th>acc_y</th>\n",
       "      <th>acc_z</th>\n",
       "      <th>gyro_x</th>\n",
       "      <th>gyro_y</th>\n",
       "      <th>gyro_z</th>\n",
       "      <th>subject</th>\n",
       "      <th>time</th>\n",
       "      <th>label</th>\n",
       "    </tr>\n",
       "  </thead>\n",
       "  <tbody>\n",
       "    <tr>\n",
       "      <th>0</th>\n",
       "      <td>4.18692</td>\n",
       "      <td>8.344455</td>\n",
       "      <td>2.908057</td>\n",
       "      <td>0.005771</td>\n",
       "      <td>-0.00448</td>\n",
       "      <td>-0.003345</td>\n",
       "      <td>subject_001_01</td>\n",
       "      <td>0.025</td>\n",
       "      <td>0</td>\n",
       "    </tr>\n",
       "    <tr>\n",
       "      <th>1</th>\n",
       "      <td>4.544637</td>\n",
       "      <td>8.408659</td>\n",
       "      <td>2.89</td>\n",
       "      <td>0.007967</td>\n",
       "      <td>0.022412</td>\n",
       "      <td>0.001159</td>\n",
       "      <td>subject_001_01</td>\n",
       "      <td>0.05</td>\n",
       "      <td>0</td>\n",
       "    </tr>\n",
       "    <tr>\n",
       "      <th>2</th>\n",
       "      <td>4.849308</td>\n",
       "      <td>8.411614</td>\n",
       "      <td>2.900692</td>\n",
       "      <td>0.027778</td>\n",
       "      <td>-0.01067</td>\n",
       "      <td>-0.014223</td>\n",
       "      <td>subject_001_01</td>\n",
       "      <td>0.075</td>\n",
       "      <td>0</td>\n",
       "    </tr>\n",
       "    <tr>\n",
       "      <th>3</th>\n",
       "      <td>4.50919</td>\n",
       "      <td>8.118649</td>\n",
       "      <td>2.847298</td>\n",
       "      <td>0.021577</td>\n",
       "      <td>-0.045498</td>\n",
       "      <td>-0.021111</td>\n",
       "      <td>subject_001_01</td>\n",
       "      <td>0.1</td>\n",
       "      <td>0</td>\n",
       "    </tr>\n",
       "    <tr>\n",
       "      <th>4</th>\n",
       "      <td>4.226515</td>\n",
       "      <td>8.273807</td>\n",
       "      <td>2.851742</td>\n",
       "      <td>0.012534</td>\n",
       "      <td>0.000445</td>\n",
       "      <td>-0.01683</td>\n",
       "      <td>subject_001_01</td>\n",
       "      <td>0.125</td>\n",
       "      <td>0</td>\n",
       "    </tr>\n",
       "    <tr>\n",
       "      <th>5</th>\n",
       "      <td>4.532063</td>\n",
       "      <td>8.398341</td>\n",
       "      <td>2.856682</td>\n",
       "      <td>0.014484</td>\n",
       "      <td>0.028769</td>\n",
       "      <td>-0.011091</td>\n",
       "      <td>subject_001_01</td>\n",
       "      <td>0.15</td>\n",
       "      <td>0</td>\n",
       "    </tr>\n",
       "    <tr>\n",
       "      <th>6</th>\n",
       "      <td>4.433669</td>\n",
       "      <td>8.294719</td>\n",
       "      <td>2.823521</td>\n",
       "      <td>0.01634</td>\n",
       "      <td>-0.029434</td>\n",
       "      <td>-0.008998</td>\n",
       "      <td>subject_001_01</td>\n",
       "      <td>0.175</td>\n",
       "      <td>0</td>\n",
       "    </tr>\n",
       "    <tr>\n",
       "      <th>7</th>\n",
       "      <td>4.160676</td>\n",
       "      <td>8.260676</td>\n",
       "      <td>2.827568</td>\n",
       "      <td>0.011222</td>\n",
       "      <td>-0.016748</td>\n",
       "      <td>-0.006027</td>\n",
       "      <td>subject_001_01</td>\n",
       "      <td>0.2</td>\n",
       "      <td>0</td>\n",
       "    </tr>\n",
       "    <tr>\n",
       "      <th>8</th>\n",
       "      <td>4.432763</td>\n",
       "      <td>8.272613</td>\n",
       "      <td>2.79005</td>\n",
       "      <td>-0.002715</td>\n",
       "      <td>0.023094</td>\n",
       "      <td>0.012222</td>\n",
       "      <td>subject_001_01</td>\n",
       "      <td>0.225</td>\n",
       "      <td>0</td>\n",
       "    </tr>\n",
       "    <tr>\n",
       "      <th>9</th>\n",
       "      <td>4.511362</td>\n",
       "      <td>8.256774</td>\n",
       "      <td>2.820538</td>\n",
       "      <td>-0.002248</td>\n",
       "      <td>0.001547</td>\n",
       "      <td>0.011137</td>\n",
       "      <td>subject_001_01</td>\n",
       "      <td>0.25</td>\n",
       "      <td>0</td>\n",
       "    </tr>\n",
       "    <tr>\n",
       "      <th>10</th>\n",
       "      <td>4.098018</td>\n",
       "      <td>8.154184</td>\n",
       "      <td>2.901101</td>\n",
       "      <td>-0.010418</td>\n",
       "      <td>-0.042853</td>\n",
       "      <td>0.005031</td>\n",
       "      <td>subject_001_01</td>\n",
       "      <td>0.275</td>\n",
       "      <td>0</td>\n",
       "    </tr>\n",
       "    <tr>\n",
       "      <th>11</th>\n",
       "      <td>3.931769</td>\n",
       "      <td>8.203628</td>\n",
       "      <td>2.958186</td>\n",
       "      <td>-0.015232</td>\n",
       "      <td>-0.006177</td>\n",
       "      <td>0.016877</td>\n",
       "      <td>subject_001_01</td>\n",
       "      <td>0.3</td>\n",
       "      <td>0</td>\n",
       "    </tr>\n",
       "    <tr>\n",
       "      <th>12</th>\n",
       "      <td>4.524325</td>\n",
       "      <td>8.446963</td>\n",
       "      <td>2.874356</td>\n",
       "      <td>-0.003438</td>\n",
       "      <td>0.03631</td>\n",
       "      <td>0.045451</td>\n",
       "      <td>subject_001_01</td>\n",
       "      <td>0.325</td>\n",
       "      <td>0</td>\n",
       "    </tr>\n",
       "    <tr>\n",
       "      <th>13</th>\n",
       "      <td>4.615744</td>\n",
       "      <td>8.385348</td>\n",
       "      <td>2.782674</td>\n",
       "      <td>-0.00279</td>\n",
       "      <td>0.012677</td>\n",
       "      <td>0.054444</td>\n",
       "      <td>subject_001_01</td>\n",
       "      <td>0.35</td>\n",
       "      <td>0</td>\n",
       "    </tr>\n",
       "    <tr>\n",
       "      <th>14</th>\n",
       "      <td>4.392814</td>\n",
       "      <td>8.239121</td>\n",
       "      <td>2.830176</td>\n",
       "      <td>0.001527</td>\n",
       "      <td>0.015576</td>\n",
       "      <td>0.052817</td>\n",
       "      <td>subject_001_01</td>\n",
       "      <td>0.375</td>\n",
       "      <td>0</td>\n",
       "    </tr>\n",
       "    <tr>\n",
       "      <th>15</th>\n",
       "      <td>4.633221</td>\n",
       "      <td>8.197211</td>\n",
       "      <td>2.872404</td>\n",
       "      <td>-0.006495</td>\n",
       "      <td>0.039828</td>\n",
       "      <td>0.040343</td>\n",
       "      <td>subject_001_01</td>\n",
       "      <td>0.4</td>\n",
       "      <td>0</td>\n",
       "    </tr>\n",
       "    <tr>\n",
       "      <th>16</th>\n",
       "      <td>4.788242</td>\n",
       "      <td>8.201208</td>\n",
       "      <td>2.805275</td>\n",
       "      <td>-0.009608</td>\n",
       "      <td>0.032156</td>\n",
       "      <td>0.025749</td>\n",
       "      <td>subject_001_01</td>\n",
       "      <td>0.425</td>\n",
       "      <td>0</td>\n",
       "    </tr>\n",
       "    <tr>\n",
       "      <th>17</th>\n",
       "      <td>4.751849</td>\n",
       "      <td>8.22</td>\n",
       "      <td>2.847035</td>\n",
       "      <td>-0.01233</td>\n",
       "      <td>0.018727</td>\n",
       "      <td>0.017562</td>\n",
       "      <td>subject_001_01</td>\n",
       "      <td>0.45</td>\n",
       "      <td>0</td>\n",
       "    </tr>\n",
       "    <tr>\n",
       "      <th>18</th>\n",
       "      <td>4.612801</td>\n",
       "      <td>8.29</td>\n",
       "      <td>2.845603</td>\n",
       "      <td>-0.004444</td>\n",
       "      <td>0.005675</td>\n",
       "      <td>0.003214</td>\n",
       "      <td>subject_001_01</td>\n",
       "      <td>0.475</td>\n",
       "      <td>0</td>\n",
       "    </tr>\n",
       "    <tr>\n",
       "      <th>19</th>\n",
       "      <td>4.60388</td>\n",
       "      <td>8.246231</td>\n",
       "      <td>2.87694</td>\n",
       "      <td>-0.000502</td>\n",
       "      <td>0.014905</td>\n",
       "      <td>0.001992</td>\n",
       "      <td>subject_001_01</td>\n",
       "      <td>0.5</td>\n",
       "      <td>0</td>\n",
       "    </tr>\n",
       "  </tbody>\n",
       "</table>\n",
       "</div>"
      ],
      "text/plain": [
       "       acc_x     acc_y     acc_z    gyro_x    gyro_y    gyro_z  \\\n",
       "0    4.18692  8.344455  2.908057  0.005771  -0.00448 -0.003345   \n",
       "1   4.544637  8.408659      2.89  0.007967  0.022412  0.001159   \n",
       "2   4.849308  8.411614  2.900692  0.027778  -0.01067 -0.014223   \n",
       "3    4.50919  8.118649  2.847298  0.021577 -0.045498 -0.021111   \n",
       "4   4.226515  8.273807  2.851742  0.012534  0.000445  -0.01683   \n",
       "5   4.532063  8.398341  2.856682  0.014484  0.028769 -0.011091   \n",
       "6   4.433669  8.294719  2.823521   0.01634 -0.029434 -0.008998   \n",
       "7   4.160676  8.260676  2.827568  0.011222 -0.016748 -0.006027   \n",
       "8   4.432763  8.272613   2.79005 -0.002715  0.023094  0.012222   \n",
       "9   4.511362  8.256774  2.820538 -0.002248  0.001547  0.011137   \n",
       "10  4.098018  8.154184  2.901101 -0.010418 -0.042853  0.005031   \n",
       "11  3.931769  8.203628  2.958186 -0.015232 -0.006177  0.016877   \n",
       "12  4.524325  8.446963  2.874356 -0.003438   0.03631  0.045451   \n",
       "13  4.615744  8.385348  2.782674  -0.00279  0.012677  0.054444   \n",
       "14  4.392814  8.239121  2.830176  0.001527  0.015576  0.052817   \n",
       "15  4.633221  8.197211  2.872404 -0.006495  0.039828  0.040343   \n",
       "16  4.788242  8.201208  2.805275 -0.009608  0.032156  0.025749   \n",
       "17  4.751849      8.22  2.847035  -0.01233  0.018727  0.017562   \n",
       "18  4.612801      8.29  2.845603 -0.004444  0.005675  0.003214   \n",
       "19   4.60388  8.246231   2.87694 -0.000502  0.014905  0.001992   \n",
       "\n",
       "           subject   time label  \n",
       "0   subject_001_01  0.025     0  \n",
       "1   subject_001_01   0.05     0  \n",
       "2   subject_001_01  0.075     0  \n",
       "3   subject_001_01    0.1     0  \n",
       "4   subject_001_01  0.125     0  \n",
       "5   subject_001_01   0.15     0  \n",
       "6   subject_001_01  0.175     0  \n",
       "7   subject_001_01    0.2     0  \n",
       "8   subject_001_01  0.225     0  \n",
       "9   subject_001_01   0.25     0  \n",
       "10  subject_001_01  0.275     0  \n",
       "11  subject_001_01    0.3     0  \n",
       "12  subject_001_01  0.325     0  \n",
       "13  subject_001_01   0.35     0  \n",
       "14  subject_001_01  0.375     0  \n",
       "15  subject_001_01    0.4     0  \n",
       "16  subject_001_01  0.425     0  \n",
       "17  subject_001_01   0.45     0  \n",
       "18  subject_001_01  0.475     0  \n",
       "19  subject_001_01    0.5     0  "
      ]
     },
     "execution_count": 6,
     "metadata": {},
     "output_type": "execute_result"
    }
   ],
   "source": [
    "final_df.head(20)"
   ]
  },
  {
   "cell_type": "code",
   "execution_count": 7,
   "metadata": {
    "id": "WADScD094VYa"
   },
   "outputs": [],
   "source": [
    "from scipy import stats\n",
    "\n",
    "def create_windows(X, y, time_steps=1, step=1):\n",
    "    Xs, ys = [], []\n",
    "      \n",
    "    for i in range(0, len(X) - time_steps + 1, step):\n",
    "        v = X.iloc[i:(i + time_steps)].values\n",
    "        labels = y.iloc[i: i + time_steps]\n",
    "        Xs.append(v)\n",
    "        ys.append(stats.mode(labels)[0][0])\n",
    "\n",
    "    return np.array(Xs), np.array(ys).reshape(-1, 1)"
   ]
  },
  {
   "cell_type": "code",
   "execution_count": 8,
   "metadata": {
    "id": "KfaxIGB-4s8-"
   },
   "outputs": [],
   "source": [
    "X = final_df[['acc_x', 'acc_y', 'acc_z', 'gyro_x', 'gyro_y', 'gyro_z']]\n",
    "y = final_df['label']\n",
    "\n",
    "TIME_STEPS = 35  # Window Size\n",
    "STEP = 1\n",
    "\n",
    "X_data, y_data = create_windows(X, y, time_steps=TIME_STEPS,step=STEP)"
   ]
  },
  {
   "cell_type": "code",
   "execution_count": 9,
   "metadata": {
    "colab": {
     "base_uri": "https://localhost:8080/"
    },
    "id": "awpgzOZ_miap",
    "outputId": "bc6a76b9-e35c-43fc-8430-4c60dfe6713f"
   },
   "outputs": [
    {
     "name": "stdout",
     "output_type": "stream",
     "text": [
      "(1341617, 6)\n",
      "(1341617,)\n"
     ]
    }
   ],
   "source": [
    "print(X.shape)\n",
    "print(y.shape)"
   ]
  },
  {
   "cell_type": "code",
   "execution_count": 10,
   "metadata": {
    "colab": {
     "base_uri": "https://localhost:8080/"
    },
    "id": "QT9oJETM5htw",
    "outputId": "507e0821-5fbb-4671-8762-c9b7435949aa"
   },
   "outputs": [
    {
     "name": "stdout",
     "output_type": "stream",
     "text": [
      "(1341583, 35, 6)\n",
      "(1341583, 1)\n"
     ]
    }
   ],
   "source": [
    "print(X_data.shape)\n",
    "print(y_data.shape)"
   ]
  },
  {
   "cell_type": "code",
   "execution_count": 11,
   "metadata": {
    "id": "WmDxbsCVHxLb"
   },
   "outputs": [],
   "source": [
    "#X_data = np.expand_dims(X_data, axis=-1)"
   ]
  },
  {
   "cell_type": "code",
   "execution_count": 12,
   "metadata": {
    "id": "L8xWncnaIFju"
   },
   "outputs": [],
   "source": [
    "from imblearn.under_sampling import RandomUnderSampler\n",
    "from imblearn.over_sampling import SMOTE\n",
    "\n",
    "df_label = pd.DataFrame(y_data, columns=['label'])\n",
    "df_label['index_'] = df_label.index\n",
    "\n",
    "## Library for performing undersampling \n",
    "rus = RandomUnderSampler(sampling_strategy='not minority', random_state=1)\n",
    "df_balanced, balanced_labels = rus.fit_resample(df_label, df_label['label'])\n",
    "\n",
    "sos = SMOTE(sampling_strategy='not majority')\n",
    "df_balanced, balanced_labels  = sos.fit_resample(df_balanced, balanced_labels)\n",
    "\n",
    "df_balanced = pd.DataFrame(df_balanced, columns=['label', 'index_'])\n",
    "\n",
    "X_data = X_data[df_balanced['index_'].values]\n",
    "y_data = y_data[df_balanced['index_'].values]\n"
   ]
  },
  {
   "cell_type": "code",
   "execution_count": 13,
   "metadata": {
    "colab": {
     "base_uri": "https://localhost:8080/"
    },
    "id": "cjz4sJGTJukT",
    "outputId": "9d78f8a4-314a-4986-a812-839eb0e1adf6"
   },
   "outputs": [
    {
     "name": "stdout",
     "output_type": "stream",
     "text": [
      "(220872, 35, 6)\n",
      "(220872, 1)\n"
     ]
    }
   ],
   "source": [
    "print(X_data.shape)\n",
    "print(y_data.shape)"
   ]
  },
  {
   "cell_type": "code",
   "execution_count": 14,
   "metadata": {
    "id": "-IOUXOo70qjx"
   },
   "outputs": [],
   "source": [
    "from sklearn.preprocessing import OneHotEncoder\n",
    "from sklearn.model_selection import train_test_split\n",
    "\n",
    "X_train, X_val, y_train, y_val = train_test_split(X_data, y_data, test_size=0.3, random_state=42)\n",
    "\n",
    "## Converting label to OneHot Encoding\n",
    "enc = OneHotEncoder(handle_unknown='ignore', sparse=False)\n",
    "enc = enc.fit(y_train)\n",
    "y_train = enc.transform(y_train)\n",
    "y_val = enc.transform(y_val)"
   ]
  },
  {
   "cell_type": "code",
   "execution_count": 15,
   "metadata": {
    "id": "K79dr4b_0Pt5"
   },
   "outputs": [],
   "source": [
    "X_train = np.asarray(X_train).astype('float32')\n",
    "X_val = np.asarray(X_val).astype('float32')"
   ]
  },
  {
   "cell_type": "code",
   "execution_count": 16,
   "metadata": {},
   "outputs": [
    {
     "data": {
      "text/plain": [
       "(66262, 4)"
      ]
     },
     "execution_count": 16,
     "metadata": {},
     "output_type": "execute_result"
    }
   ],
   "source": [
    "y_val.shape"
   ]
  },
  {
   "cell_type": "code",
   "execution_count": 17,
   "metadata": {
    "id": "VH_UwvlX0P0c"
   },
   "outputs": [
    {
     "name": "stdout",
     "output_type": "stream",
     "text": [
      "(35, 6)\n"
     ]
    }
   ],
   "source": [
    "from tensorflow.keras.models import Sequential, load_model\n",
    "from tensorflow.keras.layers import Dense, Activation, Embedding, Dropout, TimeDistributed\n",
    "from tensorflow.keras.layers import LSTM, LSTM, SimpleRNN, GRU, Bidirectional, Conv2D, Reshape\n",
    "from tensorflow.keras.optimizers import Adam, SGD\n",
    "from tensorflow.keras.utils import to_categorical\n",
    "\n",
    "input_shape = (X_train.shape[1], X_train.shape[2])\n",
    "print(input_shape)\n",
    "output_dim = 4\n",
    "lr = 0.001\n",
    "\n",
    "\n",
    "model=Sequential()\n",
    "model.add(LSTM(256,return_sequences=True,input_shape=input_shape))\n",
    "model.add(Dropout(0.5)) \n",
    "model.add(LSTM(256,return_sequences=True))\n",
    "model.add(LSTM(256, return_sequences=True))\n",
    "model.add(Dropout(0.5))\n",
    "model.add(LSTM(256, return_sequences=False))\n",
    "model.add(Dropout(0.5))\n",
    "model.add(Dense(output_dim))\n",
    "model.add(Activation(\"softmax\"))\n",
    "model.compile(loss='categorical_crossentropy',optimizer='adam')"
   ]
  },
  {
   "cell_type": "code",
   "execution_count": 18,
   "metadata": {
    "colab": {
     "base_uri": "https://localhost:8080/"
    },
    "id": "OG6WBGeBNQv4",
    "outputId": "8b63c3c0-3138-47a3-a0ed-8c92ad44065a"
   },
   "outputs": [
    {
     "name": "stdout",
     "output_type": "stream",
     "text": [
      "Epoch 1/20\n",
      "2416/2416 [==============================] - 196s 78ms/step - loss: 0.2832 - val_loss: 0.1746\n",
      "Epoch 2/20\n",
      "2416/2416 [==============================] - 188s 78ms/step - loss: 0.1593 - val_loss: 0.1306\n",
      "Epoch 3/20\n",
      "2416/2416 [==============================] - 187s 77ms/step - loss: 0.1226 - val_loss: 0.1147\n",
      "Epoch 4/20\n",
      "2416/2416 [==============================] - 187s 78ms/step - loss: 0.1010 - val_loss: 0.1001\n",
      "Epoch 5/20\n",
      "2416/2416 [==============================] - 187s 77ms/step - loss: 0.0848 - val_loss: 0.0936\n",
      "Epoch 6/20\n",
      "2416/2416 [==============================] - 187s 77ms/step - loss: 0.0726 - val_loss: 0.0871\n",
      "Epoch 7/20\n",
      "2416/2416 [==============================] - 187s 78ms/step - loss: 0.0649 - val_loss: 0.0743\n",
      "Epoch 8/20\n",
      "2416/2416 [==============================] - 187s 77ms/step - loss: 0.0575 - val_loss: 0.0653\n",
      "Epoch 9/20\n",
      "2416/2416 [==============================] - 194s 80ms/step - loss: 0.0515 - val_loss: 0.0653\n",
      "Epoch 10/20\n",
      "2416/2416 [==============================] - 228s 95ms/step - loss: 0.0479 - val_loss: 0.0612\n",
      "Epoch 11/20\n",
      "2416/2416 [==============================] - 229s 95ms/step - loss: 0.0433 - val_loss: 0.0685\n",
      "Epoch 12/20\n",
      "2416/2416 [==============================] - 134s 56ms/step - loss: 0.0410 - val_loss: 0.0617\n",
      "Epoch 13/20\n",
      "2416/2416 [==============================] - 74s 31ms/step - loss: 0.0375 - val_loss: 0.0577\n",
      "Epoch 14/20\n",
      "2416/2416 [==============================] - 74s 31ms/step - loss: 0.0354 - val_loss: 0.0631\n",
      "Epoch 15/20\n",
      "2416/2416 [==============================] - 74s 31ms/step - loss: 0.0340 - val_loss: 0.0619\n",
      "Epoch 16/20\n",
      "2416/2416 [==============================] - 74s 31ms/step - loss: 0.0328 - val_loss: 0.0729\n",
      "Epoch 17/20\n",
      "2416/2416 [==============================] - 74s 31ms/step - loss: 0.0316 - val_loss: 0.0691\n",
      "Epoch 18/20\n",
      "2416/2416 [==============================] - 74s 31ms/step - loss: 0.0289 - val_loss: 0.0641\n",
      "Epoch 19/20\n",
      "2416/2416 [==============================] - 74s 31ms/step - loss: 0.0291 - val_loss: 0.0566\n",
      "Epoch 20/20\n",
      "2416/2416 [==============================] - 74s 31ms/step - loss: 0.0278 - val_loss: 0.0621\n"
     ]
    }
   ],
   "source": [
    "hist = model.fit(\n",
    "    X_train, y_train,\n",
    "    validation_data = (X_val, y_val),\n",
    "    epochs=20,\n",
    "    batch_size=64,\n",
    "    shuffle=True\n",
    ")"
   ]
  },
  {
   "cell_type": "code",
   "execution_count": 19,
   "metadata": {
    "id": "YgblL8tQQZAR"
   },
   "outputs": [],
   "source": [
    "y_pred = model.predict(X_val)\n",
    "y_pred = np.argmax(y_pred, axis = 1)\n",
    "y_val = np.argmax(y_val, axis = 1)"
   ]
  },
  {
   "cell_type": "code",
   "execution_count": 20,
   "metadata": {},
   "outputs": [
    {
     "name": "stdout",
     "output_type": "stream",
     "text": [
      "(66262,) (66262,)\n"
     ]
    }
   ],
   "source": [
    "print(y_pred.shape, y_val.shape)"
   ]
  },
  {
   "cell_type": "code",
   "execution_count": 21,
   "metadata": {
    "colab": {
     "base_uri": "https://localhost:8080/"
    },
    "id": "DfNWI9v6QZCR",
    "outputId": "11400348-10bc-40fe-a8bc-6e7a9bb4dfa7"
   },
   "outputs": [
    {
     "name": "stdout",
     "output_type": "stream",
     "text": [
      "              precision    recall  f1-score   support\n",
      "\n",
      "           0       0.98      0.95      0.97     16445\n",
      "           1       0.99      1.00      1.00     16506\n",
      "           2       0.99      1.00      0.99     16604\n",
      "           3       0.97      0.98      0.98     16707\n",
      "\n",
      "    accuracy                           0.98     66262\n",
      "   macro avg       0.98      0.98      0.98     66262\n",
      "weighted avg       0.98      0.98      0.98     66262\n",
      "\n"
     ]
    }
   ],
   "source": [
    "from sklearn.metrics import classification_report\n",
    "\n",
    "print(classification_report(y_val, y_pred))"
   ]
  },
  {
   "cell_type": "code",
   "execution_count": 22,
   "metadata": {
    "id": "RFdMlyHdemmo"
   },
   "outputs": [],
   "source": [
    "def create_test_windows(X, time_steps=1, step=1):\n",
    "    Xs = []\n",
    "    for i in range(0, len(X) - time_steps + 1, step):\n",
    "        v = X.iloc[i:(i + time_steps)].values\n",
    "        Xs.append(v)\n",
    "    return np.array(Xs)"
   ]
  },
  {
   "cell_type": "code",
   "execution_count": 23,
   "metadata": {
    "id": "OinH6hSntyQd"
   },
   "outputs": [],
   "source": [
    "def test_windows(X, time_steps, step):\n",
    "    Xs = []\n",
    "    n_records = X.shape[0]\n",
    "    remainder = (n_records - time_steps) % step\n",
    "    num_windows = 1 + int((n_records - time_steps - remainder) / step)\n",
    "    for k in range(num_windows):\n",
    "        Xs.append(X[k*step:time_steps-1+k*step+1])\n",
    "    return np.array(Xs)"
   ]
  },
  {
   "cell_type": "code",
   "execution_count": 24,
   "metadata": {
    "colab": {
     "base_uri": "https://localhost:8080/"
    },
    "id": "K3q329AJv4Su",
    "outputId": "feb212d2-ffb9-4a8c-92cf-5c8336c7f1ca"
   },
   "outputs": [
    {
     "name": "stdout",
     "output_type": "stream",
     "text": [
      "Original number of values:  (37991, 6)\n",
      "Number of windows:  37957\n",
      "9498 9520\n",
      "Original number of values:  (49081, 6)\n",
      "Number of windows:  49047\n",
      "12270 12292\n",
      "Original number of values:  (51761, 6)\n",
      "Number of windows:  51727\n",
      "12940 12962\n",
      "Original number of values:  (45319, 6)\n",
      "Number of windows:  45285\n",
      "11330 11352\n"
     ]
    }
   ],
   "source": [
    "filepath = 'TestData/'\n",
    "column_list = ['acc_x', 'acc_y', 'acc_z', 'gyro_x', 'gyro_y', 'gyro_z','subject', 'time']\n",
    "columns = ['acc_x', 'acc_y', 'acc_z', 'gyro_x', 'gyro_y', 'gyro_z']\n",
    "df_test_data = pd.DataFrame([], columns = column_list)\n",
    "\n",
    "## Reading prediction file \n",
    "for idx in glob.glob(filepath + '*.csv'):\n",
    "    df_type = idx.split('.')[0].split('__')[1]\n",
    "\n",
    "    if df_type == 'x':\n",
    "        subject_name = idx.split('.')[0].split('__')[0].split('/')[-1]\n",
    "        x_path = idx.split('.')[0].split('__')[0] + '__' + df_type + '.csv'\n",
    "        x_time_path = idx.split('.')[0].split('__')[0] + '__' + 'x_time' + '.csv'\n",
    "        y_time_path = idx.split('.')[0].split('__')[0] + '__' + 'y_time' + '.csv'\n",
    "        df_x = pd.read_csv(x_path, names=column_list[:6])\n",
    "\n",
    "        print(\"Original number of values: \", df_x.shape)\n",
    "        ## Converting windows for test data \n",
    "        sampled_test = create_test_windows(df_x[columns],TIME_STEPS, STEP)\n",
    "        print(\"Number of windows: \", len(sampled_test))\n",
    "\n",
    "        ## Making inference on test data \n",
    "        pred_test = model.predict(sampled_test)\n",
    "        pred_test = np.argmax(pred_test, axis=1)\n",
    "        pred_test = list(pred_test)\n",
    "        pred_test = np.asarray(pred_test)\n",
    "        pred_test = np.concatenate([pred_test, np.asarray([pred_test[-1]]*120)])\n",
    "        pred_test = pd.DataFrame(pred_test, columns=['label'])\n",
    "\n",
    "        ## Sampling the prediction to match the test set sampling frequency. \n",
    "        df_mode = pred_test['label'].rolling(window=4, min_periods=1).apply(lambda x: int(stats.mode(x)[0]))[::4]\n",
    "\n",
    "        y_time = pd.read_csv(y_time_path, header=None).shape[0]\n",
    "        print(y_time, len(df_mode.values))\n",
    "\n",
    "        pred_df = pd.DataFrame(df_mode.values)\n",
    "        pred_df = pred_df.astype('int64', copy=False)\n",
    "        pred_df.to_csv(subject_name + '__y.csv', index=False, columns=None)"
   ]
  },
  {
   "cell_type": "code",
   "execution_count": 25,
   "metadata": {
    "id": "QuILN2_73w1E"
   },
   "outputs": [
    {
     "name": "stdout",
     "output_type": "stream",
     "text": [
      "Model: \"sequential\"\n",
      "_________________________________________________________________\n",
      " Layer (type)                Output Shape              Param #   \n",
      "=================================================================\n",
      " lstm (LSTM)                 (None, 35, 256)           269312    \n",
      "                                                                 \n",
      " dropout (Dropout)           (None, 35, 256)           0         \n",
      "                                                                 \n",
      " lstm_1 (LSTM)               (None, 35, 256)           525312    \n",
      "                                                                 \n",
      " lstm_2 (LSTM)               (None, 35, 256)           525312    \n",
      "                                                                 \n",
      " dropout_1 (Dropout)         (None, 35, 256)           0         \n",
      "                                                                 \n",
      " lstm_3 (LSTM)               (None, 256)               525312    \n",
      "                                                                 \n",
      " dropout_2 (Dropout)         (None, 256)               0         \n",
      "                                                                 \n",
      " dense (Dense)               (None, 4)                 1028      \n",
      "                                                                 \n",
      " activation (Activation)     (None, 4)                 0         \n",
      "                                                                 \n",
      "=================================================================\n",
      "Total params: 1,846,276\n",
      "Trainable params: 1,846,276\n",
      "Non-trainable params: 0\n",
      "_________________________________________________________________\n"
     ]
    }
   ],
   "source": [
    "model.summary()"
   ]
  },
  {
   "cell_type": "code",
   "execution_count": null,
   "metadata": {},
   "outputs": [],
   "source": []
  }
 ],
 "metadata": {
  "accelerator": "GPU",
  "colab": {
   "collapsed_sections": [],
   "name": "stacked_lstm.ipynb",
   "provenance": []
  },
  "kernelspec": {
   "display_name": "Python 3 (ipykernel)",
   "language": "python",
   "name": "python3"
  },
  "language_info": {
   "codemirror_mode": {
    "name": "ipython",
    "version": 3
   },
   "file_extension": ".py",
   "mimetype": "text/x-python",
   "name": "python",
   "nbconvert_exporter": "python",
   "pygments_lexer": "ipython3",
   "version": "3.8.8"
  }
 },
 "nbformat": 4,
 "nbformat_minor": 1
}
