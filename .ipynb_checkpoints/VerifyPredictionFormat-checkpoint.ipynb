{
 "cells": [
  {
   "cell_type": "markdown",
   "id": "RoLrYPAGNmYg",
   "metadata": {
    "id": "RoLrYPAGNmYg"
   },
   "source": [
    "# Check on Proj-C Predictions Format\n",
    "\n",
    "This notebook performs a quick test on the format of the data including checking that the files are named correctly and that the predictions are in the correct format. This is not checking for accuracy of the predictions."
   ]
  },
  {
   "cell_type": "code",
   "execution_count": 1,
   "id": "-Rc6FLxqNmYk",
   "metadata": {
    "id": "-Rc6FLxqNmYk"
   },
   "outputs": [],
   "source": [
    "import glob \n",
    "import os\n",
    "import numpy as np\n",
    "\n",
    "# Specifying the folder containg the data\n",
    "folderPred = os.getcwd()\n",
    "\n",
    "# Getting the list of subject files and sorting them\n",
    "L = glob.glob(folderPred + '/subject_*__y.csv')\n",
    "L.sort()"
   ]
  },
  {
   "cell_type": "code",
   "execution_count": 4,
   "id": "545a4b33",
   "metadata": {},
   "outputs": [
    {
     "name": "stdout",
     "output_type": "stream",
     "text": [
      "E:\\NN\\project\\Terrain-Recognition-from-Time-Series-Data\n"
     ]
    }
   ],
   "source": [
    "print(folderPred)"
   ]
  },
  {
   "cell_type": "code",
   "execution_count": 2,
   "id": "nfwrU6ZnNmYl",
   "metadata": {
    "id": "nfwrU6ZnNmYl"
   },
   "outputs": [
    {
     "ename": "AssertionError",
     "evalue": "",
     "output_type": "error",
     "traceback": [
      "\u001b[1;31m---------------------------------------------------------------------------\u001b[0m",
      "\u001b[1;31mAssertionError\u001b[0m                            Traceback (most recent call last)",
      "\u001b[1;32m<ipython-input-2-7bbaf32b8273>\u001b[0m in \u001b[0;36m<module>\u001b[1;34m\u001b[0m\n\u001b[0;32m      1\u001b[0m \u001b[1;31m# Checking that the number of files and the names are correct\u001b[0m\u001b[1;33m\u001b[0m\u001b[1;33m\u001b[0m\u001b[1;33m\u001b[0m\u001b[0m\n\u001b[1;32m----> 2\u001b[1;33m \u001b[1;32massert\u001b[0m \u001b[0mlen\u001b[0m\u001b[1;33m(\u001b[0m\u001b[0mL\u001b[0m\u001b[1;33m)\u001b[0m\u001b[1;33m==\u001b[0m\u001b[1;36m4\u001b[0m\u001b[1;33m\u001b[0m\u001b[1;33m\u001b[0m\u001b[0m\n\u001b[0m\u001b[0;32m      3\u001b[0m \u001b[1;32massert\u001b[0m \u001b[0mos\u001b[0m\u001b[1;33m.\u001b[0m\u001b[0mpath\u001b[0m\u001b[1;33m.\u001b[0m\u001b[0mbasename\u001b[0m\u001b[1;33m(\u001b[0m\u001b[0mL\u001b[0m\u001b[1;33m[\u001b[0m\u001b[1;36m0\u001b[0m\u001b[1;33m]\u001b[0m\u001b[1;33m)\u001b[0m\u001b[1;33m==\u001b[0m\u001b[1;34m'subject_009_01__y.csv'\u001b[0m\u001b[1;33m\u001b[0m\u001b[1;33m\u001b[0m\u001b[0m\n\u001b[0;32m      4\u001b[0m \u001b[1;32massert\u001b[0m \u001b[0mos\u001b[0m\u001b[1;33m.\u001b[0m\u001b[0mpath\u001b[0m\u001b[1;33m.\u001b[0m\u001b[0mbasename\u001b[0m\u001b[1;33m(\u001b[0m\u001b[0mL\u001b[0m\u001b[1;33m[\u001b[0m\u001b[1;36m1\u001b[0m\u001b[1;33m]\u001b[0m\u001b[1;33m)\u001b[0m\u001b[1;33m==\u001b[0m\u001b[1;34m'subject_010_01__y.csv'\u001b[0m\u001b[1;33m\u001b[0m\u001b[1;33m\u001b[0m\u001b[0m\n\u001b[0;32m      5\u001b[0m \u001b[1;32massert\u001b[0m \u001b[0mos\u001b[0m\u001b[1;33m.\u001b[0m\u001b[0mpath\u001b[0m\u001b[1;33m.\u001b[0m\u001b[0mbasename\u001b[0m\u001b[1;33m(\u001b[0m\u001b[0mL\u001b[0m\u001b[1;33m[\u001b[0m\u001b[1;36m2\u001b[0m\u001b[1;33m]\u001b[0m\u001b[1;33m)\u001b[0m\u001b[1;33m==\u001b[0m\u001b[1;34m'subject_011_01__y.csv'\u001b[0m\u001b[1;33m\u001b[0m\u001b[1;33m\u001b[0m\u001b[0m\n",
      "\u001b[1;31mAssertionError\u001b[0m: "
     ]
    }
   ],
   "source": [
    "# Checking that the number of files and the names are correct\n",
    "assert len(L)==4\n",
    "assert os.path.basename(L[0])=='subject_009_01__y.csv'\n",
    "assert os.path.basename(L[1])=='subject_010_01__y.csv'\n",
    "assert os.path.basename(L[2])=='subject_011_01__y.csv'\n",
    "assert os.path.basename(L[3])=='subject_012_01__y.csv'"
   ]
  },
  {
   "cell_type": "code",
   "execution_count": null,
   "id": "_KOW_0ELNmYm",
   "metadata": {
    "id": "_KOW_0ELNmYm"
   },
   "outputs": [],
   "source": [
    "# Specifying the data expected lengths of the predictions\n",
    "predLen = [9498, 12270, 12940, 11330]\n",
    "\n",
    "# Loading the data\n",
    "for i in range(0,4):\n",
    "    # Loading the predictions\n",
    "    pred = np.genfromtxt(L[i], delimiter=',')\n",
    "    \n",
    "    assert len(pred.shape)==1 # Checking that this is a single column\n",
    "    assert pred.shape[0]==predLen[i] # Making sure you have the correct number of data points\n",
    "    assert min(pred)>=0 and max(pred)<=3 # Prediction should be either 0, 1, 2, or 3\n"
   ]
  }
 ],
 "metadata": {
  "colab": {
   "name": "VerifyPredictionFormat.ipynb",
   "provenance": []
  },
  "interpreter": {
   "hash": "10c0928ba3ac0d010389b3498f6af041e43ef91db4f78656973ea877bcbaf9d4"
  },
  "kernelspec": {
   "display_name": "Python 3",
   "language": "python",
   "name": "python3"
  },
  "language_info": {
   "codemirror_mode": {
    "name": "ipython",
    "version": 3
   },
   "file_extension": ".py",
   "mimetype": "text/x-python",
   "name": "python",
   "nbconvert_exporter": "python",
   "pygments_lexer": "ipython3",
   "version": "3.8.8"
  }
 },
 "nbformat": 4,
 "nbformat_minor": 5
}
