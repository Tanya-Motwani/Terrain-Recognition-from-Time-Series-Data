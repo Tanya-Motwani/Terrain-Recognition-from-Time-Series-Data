{
 "cells": [
  {
   "cell_type": "code",
   "execution_count": null,
   "metadata": {
    "colab": {
     "base_uri": "https://localhost:8080/"
    },
    "id": "Z4CTlTmbvkNJ",
    "outputId": "0c8012e0-b6a5-4b2d-c6a0-ba2e2442329e"
   },
   "outputs": [],
   "source": [
    "!unzip /content/drive-download-20220416T184043Z-001.zip"
   ]
  },
  {
   "cell_type": "code",
   "execution_count": null,
   "metadata": {
    "id": "_wsSzdxXxomD"
   },
   "outputs": [],
   "source": [
    "import csv\n",
    "import os\n",
    "import pandas as pd\n",
    "import numpy as np\n",
    "import matplotlib.pyplot as plt\n",
    "import glob\n",
    "import imblearn\n",
    "import warnings\n",
    "# warnings.filterwarnings('ignore')"
   ]
  },
  {
   "cell_type": "code",
   "execution_count": null,
   "metadata": {
    "id": "XjhH2Tu1xKtx"
   },
   "outputs": [],
   "source": [
    "def upsample_label(temp_x, temp_y):\n",
    "    y_time_list = temp_y['time'].values\n",
    "    y_label = temp_y['label'].values\n",
    "    jdx = 0\n",
    "    label_list = []\n",
    "    for index,row in temp_x.iterrows():\n",
    "        try:\n",
    "            if row['time'] > y_time_list[jdx]:\n",
    "                jdx+=1\n",
    "            label_list.append(y_label[jdx])\n",
    "        except:\n",
    "            label_list.append(y_label[jdx - 1])\n",
    "    return label_list"
   ]
  },
  {
   "cell_type": "code",
   "execution_count": null,
   "metadata": {
    "colab": {
     "base_uri": "https://localhost:8080/"
    },
    "id": "QhNIhc2txbVC",
    "outputId": "782b311b-17a3-49ac-c6ef-71234db589dd"
   },
   "outputs": [],
   "source": [
    "filepath = 'TrainingData/'\n",
    "column_list = ['acc_x', 'acc_y', 'acc_z', 'gyro_x', 'gyro_y', 'gyro_z','subject', 'time', 'label']\n",
    "final_df = pd.DataFrame([], columns = column_list)\n",
    "for i in glob.glob(filepath + '*.csv'):\n",
    "    df_type = i.split('.')[0].split('__')[1]\n",
    "    file_name = i.split(\"\\\\\")[1].split(\"__\")[0]\n",
    "#     file_name = i.split('/')[1].split('__')[0]\n",
    "    if df_type == 'x':\n",
    "        x = open(filepath + file_name + '__x.csv')\n",
    "        x = pd.read_csv(x)\n",
    "        x['subject'] = [file_name] * x.shape[0]\n",
    "        \n",
    "        x_time = open(filepath + file_name + '__x_time.csv')\n",
    "        x_time = pd.read_csv(x_time)\n",
    "        x['time'] = x_time\n",
    "        \n",
    "        y = open(filepath + file_name + '__y.csv')\n",
    "        y = pd.read_csv(y)\n",
    "        y['subject'] = [file_name] * y.shape[0]\n",
    "        \n",
    "        y_time = open(filepath + file_name + '__y_time.csv')\n",
    "        y_time = pd.read_csv(y_time)\n",
    "        y['time'] = y_time\n",
    "        \n",
    "        y.columns = ['label', 'subject', 'time']\n",
    "        label_list = upsample_label(x, y)\n",
    "        x['label'] = label_list\n",
    "        x.columns = column_list\n",
    "        final_df = pd.concat([final_df, x], ignore_index=True)"
   ]
  },
  {
   "cell_type": "code",
   "execution_count": null,
   "metadata": {
    "id": "bXdyqI-Axvvv"
   },
   "outputs": [],
   "source": [
    "final_df.shape\n",
    "from scipy import stats\n",
    "\n",
    "def create_windows(X, y, time_steps=1, step=1):\n",
    "    Xs, ys = [], []\n",
    "      \n",
    "    for i in range(0, len(X) - time_steps + 1, step):\n",
    "        v = X.iloc[i:(i + time_steps)].values\n",
    "        labels = y.iloc[i: i + time_steps]\n",
    "        Xs.append(v)\n",
    "        ys.append(stats.mode(labels)[0][0])\n",
    "\n",
    "    return np.array(Xs), np.array(ys).reshape(-1, 1)"
   ]
  },
  {
   "cell_type": "code",
   "execution_count": null,
   "metadata": {
    "id": "1pJGdUy6z7DV"
   },
   "outputs": [],
   "source": [
    "X = final_df[['acc_x', 'acc_y', 'acc_z', 'gyro_x', 'gyro_y', 'gyro_z']]\n",
    "y = final_df['label']\n",
    "\n",
    "TIME_STEPS = 40  # Window Size\n",
    "STEP = 1\n",
    "\n",
    "X_data, y_data = create_windows(X, y, time_steps=TIME_STEPS,step=STEP)\n"
   ]
  },
  {
   "cell_type": "code",
   "execution_count": null,
   "metadata": {
    "id": "IbZwo3FKyLmy"
   },
   "outputs": [],
   "source": [
    "from imblearn.under_sampling import RandomUnderSampler\n",
    "from imblearn.over_sampling import SMOTE\n",
    "\n",
    "df_label = pd.DataFrame(y_data, columns=['label'])\n",
    "df_label['index_'] = df_label.index\n",
    "\n",
    "## Library for performing undersampling \n",
    "rus = RandomUnderSampler(sampling_strategy='not minority', random_state=1)\n",
    "df_balanced, balanced_labels = rus.fit_resample(df_label, df_label['label'])\n",
    "\n",
    "sos = SMOTE(sampling_strategy='not majority')\n",
    "df_balanced, balanced_labels  = sos.fit_resample(df_balanced, balanced_labels)\n",
    "\n",
    "df_balanced = pd.DataFrame(df_balanced, columns=['label', 'index_'])\n",
    "\n",
    "X_data = X_data[df_balanced['index_'].values]\n",
    "y_data = y_data[df_balanced['index_'].values]"
   ]
  },
  {
   "cell_type": "code",
   "execution_count": null,
   "metadata": {
    "id": "lkzfOL9QyfzA"
   },
   "outputs": [],
   "source": [
    "from sklearn.preprocessing import OneHotEncoder\n",
    "from sklearn.model_selection import train_test_split\n",
    "\n",
    "X_train, X_val, y_train, y_val = train_test_split(X_data, y_data, test_size=0.3, random_state=42)\n",
    "\n",
    "## Converting label to OneHot Encoding\n",
    "enc = OneHotEncoder(handle_unknown='ignore', sparse=False)\n",
    "enc = enc.fit(y_train)\n",
    "y_train = enc.transform(y_train)\n",
    "y_val = enc.transform(y_val)"
   ]
  },
  {
   "cell_type": "code",
   "execution_count": null,
   "metadata": {
    "id": "oGUv-Dwr0Gm0"
   },
   "outputs": [],
   "source": [
    "X_train = np.asarray(X_train).astype('float32')\n",
    "X_val = np.asarray(X_val).astype('float32')"
   ]
  },
  {
   "cell_type": "code",
   "execution_count": null,
   "metadata": {
    "id": "aNt7yG-E0O8H"
   },
   "outputs": [],
   "source": [
    "from tensorflow.keras.models import Sequential, load_model\n",
    "from tensorflow.keras.layers import Dense, Activation, Embedding, Dropout, TimeDistributed\n",
    "from tensorflow.keras.layers import LSTM, LSTM, SimpleRNN, GRU, Bidirectional, Conv1D, Reshape\n",
    "from tensorflow.keras.optimizers import Adam, SGD\n",
    "from tensorflow.keras.utils import to_categorical\n",
    "\n",
    "input_shape = (X_train.shape[1], X_train.shape[2])\n",
    "output_dim = 4\n",
    "lr = 0.001\n",
    "\n",
    "\n"
   ]
  },
  {
   "cell_type": "code",
   "execution_count": null,
   "metadata": {
    "id": "uIHXsrdi2i-m"
   },
   "outputs": [],
   "source": [
    "model=Sequential()\n",
    "\n",
    "model.add(Conv1D(32, 3, activation='relu',padding = \"same\",input_shape=input_shape))\n",
    "model.add(Dropout(0.2)) \n",
    "model.add(Conv1D(64, 3, activation='relu',padding = \"same\"))\n",
    "model.add(Dropout(0.2)) \n",
    "# model.add(Conv1D(128, 3, activation='relu',padding = \"same\"))\n",
    "model.add(LSTM(256,return_sequences=True))\n",
    "model.add(Dropout(0.5)) \n",
    "model.add(LSTM(256,return_sequences=False))\n",
    "# model.add(LSTM(256, return_sequences=True))\n",
    "# model.add(Dropout(0.5))\n",
    "# model.add(LSTM(256, return_sequences=False))\n",
    "# model.add(Dropout(0.5))\n",
    "model.add(Dense(output_dim))\n",
    "model.add(Activation(\"softmax\"))\n",
    "model.compile(loss='categorical_crossentropy',optimizer='adam')"
   ]
  },
  {
   "cell_type": "code",
   "execution_count": null,
   "metadata": {
    "colab": {
     "base_uri": "https://localhost:8080/"
    },
    "id": "18H-PglIIW0w",
    "outputId": "270c97c6-8974-4af7-a46b-8156508ed7bb"
   },
   "outputs": [],
   "source": [
    "model.summary()"
   ]
  },
  {
   "cell_type": "code",
   "execution_count": null,
   "metadata": {
    "colab": {
     "base_uri": "https://localhost:8080/"
    },
    "id": "Tefri9m54tkm",
    "outputId": "ca0ab61b-7a6e-4ebb-aa86-1700eeaf7deb"
   },
   "outputs": [],
   "source": [
    "hist = model.fit(\n",
    "    X_train, y_train,\n",
    "    validation_data = (X_val, y_val),\n",
    "    epochs=20,\n",
    "    batch_size=64,\n",
    "    shuffle=True\n",
    ")"
   ]
  },
  {
   "cell_type": "code",
   "execution_count": null,
   "metadata": {
    "id": "9btcn_MwGVch"
   },
   "outputs": [],
   "source": [
    "y_pred = model.predict(X_val)\n",
    "y_pred = np.argmax(y_pred, axis = 1)\n",
    "y_val_ = np.argmax(y_val, axis = 1)"
   ]
  },
  {
   "cell_type": "code",
   "execution_count": null,
   "metadata": {
    "colab": {
     "base_uri": "https://localhost:8080/"
    },
    "id": "TMVszYbKGacl",
    "outputId": "41a04835-4a28-434f-b084-3491063854a6"
   },
   "outputs": [],
   "source": [
    "from sklearn.metrics import classification_report\n",
    "\n",
    "print(classification_report(y_val_, y_pred))"
   ]
  },
  {
   "cell_type": "code",
   "execution_count": null,
   "metadata": {
    "id": "WtLf9ZFX6Wzq"
   },
   "outputs": [],
   "source": []
  },
  {
   "cell_type": "code",
   "execution_count": null,
   "metadata": {},
   "outputs": [],
   "source": []
  }
 ],
 "metadata": {
  "accelerator": "GPU",
  "colab": {
   "collapsed_sections": [],
   "name": "Untitled",
   "provenance": []
  },
  "kernelspec": {
   "display_name": "Python 3 (ipykernel)",
   "language": "python",
   "name": "python3"
  },
  "language_info": {
   "codemirror_mode": {
    "name": "ipython",
    "version": 3
   },
   "file_extension": ".py",
   "mimetype": "text/x-python",
   "name": "python",
   "nbconvert_exporter": "python",
   "pygments_lexer": "ipython3",
   "version": "3.8.8"
  }
 },
 "nbformat": 4,
 "nbformat_minor": 1
}
