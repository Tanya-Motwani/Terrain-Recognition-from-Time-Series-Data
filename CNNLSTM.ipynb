{
 "cells": [
  {
   "cell_type": "code",
   "execution_count": 1,
   "metadata": {
    "colab": {
     "base_uri": "https://localhost:8080/"
    },
    "id": "Z4CTlTmbvkNJ",
    "outputId": "0c8012e0-b6a5-4b2d-c6a0-ba2e2442329e"
   },
   "outputs": [
    {
     "name": "stderr",
     "output_type": "stream",
     "text": [
      "'unzip' is not recognized as an internal or external command,\n",
      "operable program or batch file.\n"
     ]
    }
   ],
   "source": [
    "!unzip /content/drive-download-20220416T184043Z-001.zip"
   ]
  },
  {
   "cell_type": "code",
   "execution_count": 1,
   "metadata": {
    "id": "_wsSzdxXxomD"
   },
   "outputs": [],
   "source": [
    "import csv\n",
    "import os\n",
    "import pandas as pd\n",
    "import numpy as np\n",
    "import matplotlib.pyplot as plt\n",
    "import glob\n",
    "import imblearn\n",
    "import warnings\n",
    "# warnings.filterwarnings('ignore')"
   ]
  },
  {
   "cell_type": "code",
   "execution_count": 2,
   "metadata": {
    "id": "XjhH2Tu1xKtx"
   },
   "outputs": [],
   "source": [
    "def upsample_label(temp_x, temp_y):\n",
    "    y_time_list = temp_y['time'].values\n",
    "    y_label = temp_y['label'].values\n",
    "    jdx = 0\n",
    "    label_list = []\n",
    "    for index,row in temp_x.iterrows():\n",
    "        try:\n",
    "            if row['time'] > y_time_list[jdx]:\n",
    "                jdx+=1\n",
    "            label_list.append(y_label[jdx])\n",
    "        except:\n",
    "            label_list.append(y_label[jdx - 1])\n",
    "    return label_list"
   ]
  },
  {
   "cell_type": "code",
   "execution_count": 3,
   "metadata": {
    "colab": {
     "base_uri": "https://localhost:8080/"
    },
    "id": "QhNIhc2txbVC",
    "outputId": "782b311b-17a3-49ac-c6ef-71234db589dd"
   },
   "outputs": [],
   "source": [
    "filepath = 'TrainingData/'\n",
    "column_list = ['acc_x', 'acc_y', 'acc_z', 'gyro_x', 'gyro_y', 'gyro_z','subject', 'time', 'label']\n",
    "final_df = pd.DataFrame([], columns = column_list)\n",
    "for i in glob.glob(filepath + '*.csv'):\n",
    "    df_type = i.split('.')[0].split('__')[1]\n",
    "    file_name = i.split(\"\\\\\")[1].split(\"__\")[0]\n",
    "#     file_name = i.split('/')[1].split('__')[0]\n",
    "    if df_type == 'x':\n",
    "        x = open(filepath + file_name + '__x.csv')\n",
    "        x = pd.read_csv(x)\n",
    "        x['subject'] = [file_name] * x.shape[0]\n",
    "        \n",
    "        x_time = open(filepath + file_name + '__x_time.csv')\n",
    "        x_time = pd.read_csv(x_time)\n",
    "        x['time'] = x_time\n",
    "        \n",
    "        y = open(filepath + file_name + '__y.csv')\n",
    "        y = pd.read_csv(y)\n",
    "        y['subject'] = [file_name] * y.shape[0]\n",
    "        \n",
    "        y_time = open(filepath + file_name + '__y_time.csv')\n",
    "        y_time = pd.read_csv(y_time)\n",
    "        y['time'] = y_time\n",
    "        \n",
    "        y.columns = ['label', 'subject', 'time']\n",
    "        label_list = upsample_label(x, y)\n",
    "        x['label'] = label_list\n",
    "        x.columns = column_list\n",
    "        final_df = pd.concat([final_df, x], ignore_index=True)"
   ]
  },
  {
   "cell_type": "code",
   "execution_count": 4,
   "metadata": {
    "id": "bXdyqI-Axvvv"
   },
   "outputs": [],
   "source": [
    "final_df.shape\n",
    "from scipy import stats\n",
    "\n",
    "def create_windows(X, y, time_steps=1, step=1):\n",
    "    Xs, ys = [], []\n",
    "      \n",
    "    for i in range(0, len(X) - time_steps + 1, step):\n",
    "        v = X.iloc[i:(i + time_steps)].values\n",
    "        labels = y.iloc[i: i + time_steps]\n",
    "        Xs.append(v)\n",
    "        ys.append(stats.mode(labels)[0][0])\n",
    "\n",
    "    return np.array(Xs), np.array(ys).reshape(-1, 1)"
   ]
  },
  {
   "cell_type": "code",
   "execution_count": 5,
   "metadata": {
    "id": "1pJGdUy6z7DV"
   },
   "outputs": [],
   "source": [
    "X = final_df[['acc_x', 'acc_y', 'acc_z', 'gyro_x', 'gyro_y', 'gyro_z']]\n",
    "y = final_df['label']\n",
    "\n",
    "TIME_STEPS = 40  # Window Size\n",
    "STEP = 1\n",
    "\n",
    "X_data, y_data = create_windows(X, y, time_steps=TIME_STEPS,step=STEP)\n"
   ]
  },
  {
   "cell_type": "code",
   "execution_count": 6,
   "metadata": {
    "id": "IbZwo3FKyLmy"
   },
   "outputs": [],
   "source": [
    "from imblearn.under_sampling import RandomUnderSampler\n",
    "from imblearn.over_sampling import SMOTE\n",
    "\n",
    "df_label = pd.DataFrame(y_data, columns=['label'])\n",
    "df_label['index_'] = df_label.index\n",
    "\n",
    "## Library for performing undersampling \n",
    "rus = RandomUnderSampler(sampling_strategy='not minority', random_state=1)\n",
    "df_balanced, balanced_labels = rus.fit_resample(df_label, df_label['label'])\n",
    "\n",
    "sos = SMOTE(sampling_strategy='not majority')\n",
    "df_balanced, balanced_labels  = sos.fit_resample(df_balanced, balanced_labels)\n",
    "\n",
    "df_balanced = pd.DataFrame(df_balanced, columns=['label', 'index_'])\n",
    "\n",
    "X_data = X_data[df_balanced['index_'].values]\n",
    "y_data = y_data[df_balanced['index_'].values]"
   ]
  },
  {
   "cell_type": "code",
   "execution_count": 27,
   "metadata": {
    "id": "lkzfOL9QyfzA"
   },
   "outputs": [],
   "source": [
    "from sklearn.preprocessing import OneHotEncoder\n",
    "from sklearn.model_selection import train_test_split\n",
    "\n",
    "X_train, X_val, y_train, y_val = train_test_split(X_data, y_data, test_size=0.3, random_state=42)\n",
    "X_val, X_test, y_val, y_test = train_test_split(X_val, y_val, test_size=0.1, random_state=42)\n",
    "\n",
    "## Converting label to OneHot Encoding\n",
    "enc = OneHotEncoder(handle_unknown='ignore', sparse=False)\n",
    "enc = enc.fit(y_train)\n",
    "y_train = enc.transform(y_train)\n",
    "y_val = enc.transform(y_val)\n",
    "y_test = enc.transform(y_test)"
   ]
  },
  {
   "cell_type": "code",
   "execution_count": 28,
   "metadata": {
    "id": "oGUv-Dwr0Gm0"
   },
   "outputs": [],
   "source": [
    "X_train = np.asarray(X_train).astype('float32')\n",
    "X_val = np.asarray(X_val).astype('float32')\n",
    "X_test = np.asarray(X_test).astype('float32')"
   ]
  },
  {
   "cell_type": "code",
   "execution_count": 9,
   "metadata": {
    "id": "aNt7yG-E0O8H"
   },
   "outputs": [],
   "source": [
    "from tensorflow.keras.models import Sequential, load_model\n",
    "from tensorflow.keras.layers import Dense, Activation, Embedding, Dropout, TimeDistributed\n",
    "from tensorflow.keras.layers import LSTM, LSTM, SimpleRNN, GRU, Bidirectional, Conv1D, Reshape\n",
    "from tensorflow.keras.optimizers import Adam, SGD\n",
    "from tensorflow.keras.utils import to_categorical\n",
    "\n",
    "input_shape = (X_train.shape[1], X_train.shape[2])\n",
    "output_dim = 4\n",
    "lr = 0.001"
   ]
  },
  {
   "cell_type": "code",
   "execution_count": 21,
   "metadata": {
    "id": "uIHXsrdi2i-m"
   },
   "outputs": [],
   "source": [
    "model=Sequential()\n",
    "\n",
    "model.add(Conv1D(32, 3, activation='relu',padding = \"same\",input_shape=input_shape))\n",
    "model.add(Dropout(0.2)) \n",
    "model.add(Conv1D(64, 3, activation='relu',padding = \"same\"))\n",
    "model.add(Dropout(0.2)) \n",
    "# model.add(Conv1D(128, 3, activation='relu',padding = \"same\"))\n",
    "model.add(LSTM(256,return_sequences=True))\n",
    "model.add(Dropout(0.5)) \n",
    "model.add(LSTM(256,return_sequences=False))\n",
    "# model.add(LSTM(256, return_sequences=True))\n",
    "# model.add(Dropout(0.5))\n",
    "# model.add(LSTM(256, return_sequences=False))\n",
    "# model.add(Dropout(0.5))\n",
    "model.add(Dense(output_dim))\n",
    "model.add(Activation(\"softmax\"))\n",
    "model.compile(loss='categorical_crossentropy',optimizer='adam', metrics=['acc'])"
   ]
  },
  {
   "cell_type": "code",
   "execution_count": 22,
   "metadata": {
    "colab": {
     "base_uri": "https://localhost:8080/"
    },
    "id": "18H-PglIIW0w",
    "outputId": "270c97c6-8974-4af7-a46b-8156508ed7bb"
   },
   "outputs": [
    {
     "name": "stdout",
     "output_type": "stream",
     "text": [
      "Model: \"sequential_1\"\n",
      "_________________________________________________________________\n",
      " Layer (type)                Output Shape              Param #   \n",
      "=================================================================\n",
      " conv1d_2 (Conv1D)           (None, 40, 32)            608       \n",
      "                                                                 \n",
      " dropout_3 (Dropout)         (None, 40, 32)            0         \n",
      "                                                                 \n",
      " conv1d_3 (Conv1D)           (None, 40, 64)            6208      \n",
      "                                                                 \n",
      " dropout_4 (Dropout)         (None, 40, 64)            0         \n",
      "                                                                 \n",
      " lstm_2 (LSTM)               (None, 40, 256)           328704    \n",
      "                                                                 \n",
      " dropout_5 (Dropout)         (None, 40, 256)           0         \n",
      "                                                                 \n",
      " lstm_3 (LSTM)               (None, 256)               525312    \n",
      "                                                                 \n",
      " dense_1 (Dense)             (None, 4)                 1028      \n",
      "                                                                 \n",
      " activation_1 (Activation)   (None, 4)                 0         \n",
      "                                                                 \n",
      "=================================================================\n",
      "Total params: 861,860\n",
      "Trainable params: 861,860\n",
      "Non-trainable params: 0\n",
      "_________________________________________________________________\n"
     ]
    }
   ],
   "source": [
    "model.summary()"
   ]
  },
  {
   "cell_type": "code",
   "execution_count": 23,
   "metadata": {
    "colab": {
     "base_uri": "https://localhost:8080/"
    },
    "id": "Tefri9m54tkm",
    "outputId": "ca0ab61b-7a6e-4ebb-aa86-1700eeaf7deb"
   },
   "outputs": [
    {
     "name": "stdout",
     "output_type": "stream",
     "text": [
      "Epoch 1/30\n",
      "2406/2406 [==============================] - 36s 14ms/step - loss: 0.3100 - acc: 0.8788 - val_loss: 0.1771 - val_acc: 0.9346\n",
      "Epoch 2/30\n",
      "2406/2406 [==============================] - 33s 14ms/step - loss: 0.1908 - acc: 0.9289 - val_loss: 0.1412 - val_acc: 0.9484\n",
      "Epoch 3/30\n",
      "2406/2406 [==============================] - 32s 13ms/step - loss: 0.1574 - acc: 0.9420 - val_loss: 0.1253 - val_acc: 0.9528\n",
      "Epoch 4/30\n",
      "2406/2406 [==============================] - 32s 13ms/step - loss: 0.1381 - acc: 0.9493 - val_loss: 0.1054 - val_acc: 0.9628\n",
      "Epoch 5/30\n",
      "2406/2406 [==============================] - 32s 13ms/step - loss: 0.1220 - acc: 0.9556 - val_loss: 0.1170 - val_acc: 0.9583\n",
      "Epoch 6/30\n",
      "2406/2406 [==============================] - 34s 14ms/step - loss: 0.1140 - acc: 0.9586 - val_loss: 0.0879 - val_acc: 0.9687\n",
      "Epoch 7/30\n",
      "2406/2406 [==============================] - 34s 14ms/step - loss: 0.1061 - acc: 0.9615 - val_loss: 0.0874 - val_acc: 0.9691\n",
      "Epoch 8/30\n",
      "2406/2406 [==============================] - 33s 14ms/step - loss: 0.0996 - acc: 0.9639 - val_loss: 0.0850 - val_acc: 0.9706\n",
      "Epoch 9/30\n",
      "2406/2406 [==============================] - 33s 14ms/step - loss: 0.0941 - acc: 0.9658 - val_loss: 0.0757 - val_acc: 0.9736\n",
      "Epoch 10/30\n",
      "2406/2406 [==============================] - 33s 14ms/step - loss: 0.0920 - acc: 0.9667 - val_loss: 0.0733 - val_acc: 0.9741\n",
      "Epoch 11/30\n",
      "2406/2406 [==============================] - 34s 14ms/step - loss: 0.0886 - acc: 0.9682 - val_loss: 0.0748 - val_acc: 0.9736\n",
      "Epoch 12/30\n",
      "2406/2406 [==============================] - 33s 14ms/step - loss: 0.0855 - acc: 0.9689 - val_loss: 0.0835 - val_acc: 0.9703\n",
      "Epoch 13/30\n",
      "2406/2406 [==============================] - 33s 14ms/step - loss: 0.0837 - acc: 0.9695 - val_loss: 0.0719 - val_acc: 0.9740\n",
      "Epoch 14/30\n",
      "2406/2406 [==============================] - 34s 14ms/step - loss: 0.0808 - acc: 0.9708 - val_loss: 0.0750 - val_acc: 0.9741\n",
      "Epoch 15/30\n",
      "2406/2406 [==============================] - 34s 14ms/step - loss: 0.0817 - acc: 0.9705 - val_loss: 0.0712 - val_acc: 0.9748\n",
      "Epoch 16/30\n",
      "2406/2406 [==============================] - 34s 14ms/step - loss: 0.0778 - acc: 0.9719 - val_loss: 0.0748 - val_acc: 0.9751\n",
      "Epoch 17/30\n",
      "2406/2406 [==============================] - 33s 14ms/step - loss: 0.0779 - acc: 0.9715 - val_loss: 0.0673 - val_acc: 0.9768\n",
      "Epoch 18/30\n",
      "2406/2406 [==============================] - 34s 14ms/step - loss: 0.0753 - acc: 0.9726 - val_loss: 0.0658 - val_acc: 0.9770\n",
      "Epoch 19/30\n",
      "2406/2406 [==============================] - 34s 14ms/step - loss: 0.0762 - acc: 0.9725 - val_loss: 0.0728 - val_acc: 0.9749\n",
      "Epoch 20/30\n",
      "2406/2406 [==============================] - 33s 14ms/step - loss: 0.0739 - acc: 0.9730 - val_loss: 0.0626 - val_acc: 0.9791\n",
      "Epoch 21/30\n",
      "2406/2406 [==============================] - 34s 14ms/step - loss: 0.0728 - acc: 0.9737 - val_loss: 0.0750 - val_acc: 0.9739\n",
      "Epoch 22/30\n",
      "2406/2406 [==============================] - 33s 14ms/step - loss: 0.0724 - acc: 0.9741 - val_loss: 0.0670 - val_acc: 0.9774\n",
      "Epoch 23/30\n",
      "2406/2406 [==============================] - 33s 14ms/step - loss: 0.0705 - acc: 0.9740 - val_loss: 0.0687 - val_acc: 0.9770\n",
      "Epoch 24/30\n",
      "2406/2406 [==============================] - 34s 14ms/step - loss: 0.0707 - acc: 0.9740 - val_loss: 0.0652 - val_acc: 0.9782\n",
      "Epoch 25/30\n",
      "2406/2406 [==============================] - 34s 14ms/step - loss: 0.0710 - acc: 0.9741 - val_loss: 0.0673 - val_acc: 0.9778\n",
      "Epoch 26/30\n",
      "2406/2406 [==============================] - 35s 15ms/step - loss: 0.0704 - acc: 0.9743 - val_loss: 0.0661 - val_acc: 0.9776\n",
      "Epoch 27/30\n",
      "2406/2406 [==============================] - 35s 14ms/step - loss: 0.0709 - acc: 0.9741 - val_loss: 0.0666 - val_acc: 0.9775\n",
      "Epoch 28/30\n",
      "2406/2406 [==============================] - 37s 15ms/step - loss: 0.0702 - acc: 0.9743 - val_loss: 0.0658 - val_acc: 0.9775\n",
      "Epoch 29/30\n",
      "2406/2406 [==============================] - 36s 15ms/step - loss: 0.0699 - acc: 0.9747 - val_loss: 0.0663 - val_acc: 0.9778\n",
      "Epoch 30/30\n",
      "2406/2406 [==============================] - 36s 15ms/step - loss: 0.0702 - acc: 0.9740 - val_loss: 0.0597 - val_acc: 0.9799\n"
     ]
    }
   ],
   "source": [
    "hist = model.fit(\n",
    "    X_train, y_train,\n",
    "    validation_data = (X_val, y_val),\n",
    "    epochs=30,\n",
    "    batch_size=64,\n",
    "    shuffle=True\n",
    ")"
   ]
  },
  {
   "cell_type": "code",
   "execution_count": 29,
   "metadata": {
    "id": "9btcn_MwGVch"
   },
   "outputs": [],
   "source": [
    "y_pred = model.predict(X_test)\n",
    "y_pred = np.argmax(y_pred, axis = 1)\n",
    "y_test = np.argmax(y_test, axis = 1)"
   ]
  },
  {
   "cell_type": "code",
   "execution_count": 30,
   "metadata": {
    "colab": {
     "base_uri": "https://localhost:8080/"
    },
    "id": "TMVszYbKGacl",
    "outputId": "41a04835-4a28-434f-b084-3491063854a6"
   },
   "outputs": [
    {
     "name": "stdout",
     "output_type": "stream",
     "text": [
      "              precision    recall  f1-score   support\n",
      "\n",
      "           0       0.97      0.94      0.95      1663\n",
      "           1       0.99      1.00      1.00      1661\n",
      "           2       0.99      1.00      0.99      1581\n",
      "           3       0.96      0.97      0.96      1693\n",
      "\n",
      "    accuracy                           0.98      6598\n",
      "   macro avg       0.98      0.98      0.98      6598\n",
      "weighted avg       0.98      0.98      0.98      6598\n",
      "\n"
     ]
    }
   ],
   "source": [
    "from sklearn.metrics import classification_report\n",
    "\n",
    "print(classification_report(y_test, y_pred))"
   ]
  },
  {
   "cell_type": "code",
   "execution_count": 31,
   "metadata": {},
   "outputs": [],
   "source": [
    "import matplotlib.pyplot as plt"
   ]
  },
  {
   "cell_type": "code",
   "execution_count": 32,
   "metadata": {},
   "outputs": [
    {
     "data": {
      "image/png": "[encoded data removed]",
      "text/plain": [
       "<Figure size 432x288 with 1 Axes>"
      ]
     },
     "metadata": {
      "needs_background": "light"
     },
     "output_type": "display_data"
    }
   ],
   "source": [
    "plt.plot(hist.history['acc'])\n",
    "plt.plot(hist.history['val_acc'])\n",
    "plt.title('model accuracy')\n",
    "plt.ylabel('accuracy')\n",
    "plt.xlabel('epoch')\n",
    "plt.legend(['train', 'val'], loc='upper left')\n",
    "plt.show()"
   ]
  },
  {
   "cell_type": "code",
   "execution_count": 33,
   "metadata": {},
   "outputs": [
    {
     "data": {
      "image/png": "[encoded data removed]",
      "text/plain": [
       "<Figure size 432x288 with 1 Axes>"
      ]
     },
     "metadata": {
      "needs_background": "light"
     },
     "output_type": "display_data"
    }
   ],
   "source": [
    "# summarize history for loss\n",
    "plt.plot(hist.history['loss'])\n",
    "plt.plot(hist.history['val_loss'])\n",
    "plt.title('model loss')\n",
    "plt.ylabel('loss')\n",
    "plt.xlabel('epoch')\n",
    "plt.legend(['train', 'val'], loc='upper left')\n",
    "plt.show()"
   ]
  },
  {
   "cell_type": "code",
   "execution_count": 34,
   "metadata": {},
   "outputs": [],
   "source": [
    "def create_test_windows(X, time_steps=1, step=1):\n",
    "    Xs = []\n",
    "    for i in range(0, len(X) - time_steps + 1, step):\n",
    "        v = X.iloc[i:(i + time_steps)].values\n",
    "        Xs.append(v)\n",
    "    return np.array(Xs)"
   ]
  },
  {
   "cell_type": "code",
   "execution_count": 35,
   "metadata": {},
   "outputs": [],
   "source": [
    "def test_windows(X, time_steps, step):\n",
    "    Xs = []\n",
    "    n_records = X.shape[0]\n",
    "    remainder = (n_records - time_steps) % step\n",
    "    num_windows = 1 + int((n_records - time_steps - remainder) / step)\n",
    "    for k in range(num_windows):\n",
    "        Xs.append(X[k*step:time_steps-1+k*step+1])\n",
    "    return np.array(Xs)"
   ]
  },
  {
   "cell_type": "code",
   "execution_count": 36,
   "metadata": {},
   "outputs": [
    {
     "name": "stdout",
     "output_type": "stream",
     "text": [
      "Original number of values:  (37991, 6)\n",
      "Number of windows:  37952\n",
      "9498 9518\n",
      "Original number of values:  (49081, 6)\n",
      "Number of windows:  49042\n",
      "12270 12291\n",
      "Original number of values:  (51761, 6)\n",
      "Number of windows:  51722\n",
      "12940 12961\n",
      "Original number of values:  (45319, 6)\n",
      "Number of windows:  45280\n",
      "11330 11350\n"
     ]
    }
   ],
   "source": [
    "filepath = 'TestData/'\n",
    "column_list = ['acc_x', 'acc_y', 'acc_z', 'gyro_x', 'gyro_y', 'gyro_z','subject', 'time']\n",
    "columns = ['acc_x', 'acc_y', 'acc_z', 'gyro_x', 'gyro_y', 'gyro_z']\n",
    "df_test_data = pd.DataFrame([], columns = column_list)\n",
    "\n",
    "## Reading prediction file \n",
    "for idx in glob.glob(filepath + '*.csv'):\n",
    "    df_type = idx.split('.')[0].split('__')[1]\n",
    "\n",
    "    if df_type == 'x':\n",
    "        subject_name = idx.split('.')[0].split('__')[0].split('/')[-1]\n",
    "        x_path = idx.split('.')[0].split('__')[0] + '__' + df_type + '.csv'\n",
    "        x_time_path = idx.split('.')[0].split('__')[0] + '__' + 'x_time' + '.csv'\n",
    "        y_time_path = idx.split('.')[0].split('__')[0] + '__' + 'y_time' + '.csv'\n",
    "        df_x = pd.read_csv(x_path, names=column_list[:6])\n",
    "\n",
    "        print(\"Original number of values: \", df_x.shape)\n",
    "        ## Converting windows for test data \n",
    "        sampled_test = create_test_windows(df_x[columns],TIME_STEPS, STEP)\n",
    "        print(\"Number of windows: \", len(sampled_test))\n",
    "\n",
    "        ## Making inference on test data \n",
    "        pred_test = model.predict(sampled_test)\n",
    "        pred_test = np.argmax(pred_test, axis=1)\n",
    "        pred_test = list(pred_test)\n",
    "        pred_test = np.asarray(pred_test)\n",
    "        pred_test = np.concatenate([pred_test, np.asarray([pred_test[-1]]*120)])\n",
    "        pred_test = pd.DataFrame(pred_test, columns=['label'])\n",
    "\n",
    "        ## Sampling the prediction to match the test set sampling frequency. \n",
    "        df_mode = pred_test['label'].rolling(window=4, min_periods=1).apply(lambda x: int(stats.mode(x)[0]))[::4]\n",
    "\n",
    "        y_time = pd.read_csv(y_time_path, header=None).shape[0]\n",
    "        print(y_time, len(df_mode.values))\n",
    "\n",
    "        pred_df = pd.DataFrame(df_mode.values)\n",
    "        pred_df = pred_df.astype('int64', copy=False)\n",
    "        pred_df.to_csv(subject_name + '__y.csv', index=False, columns=None)"
   ]
  },
  {
   "cell_type": "code",
   "execution_count": null,
   "metadata": {},
   "outputs": [],
   "source": []
  }
 ],
 "metadata": {
  "accelerator": "GPU",
  "colab": {
   "collapsed_sections": [],
   "name": "Untitled",
   "provenance": []
  },
  "kernelspec": {
   "display_name": "Python 3 (ipykernel)",
   "language": "python",
   "name": "python3"
  },
  "language_info": {
   "codemirror_mode": {
    "name": "ipython",
    "version": 3
   },
   "file_extension": ".py",
   "mimetype": "text/x-python",
   "name": "python",
   "nbconvert_exporter": "python",
   "pygments_lexer": "ipython3",
   "version": "3.8.8"
  }
 },
 "nbformat": 4,
 "nbformat_minor": 1
}
