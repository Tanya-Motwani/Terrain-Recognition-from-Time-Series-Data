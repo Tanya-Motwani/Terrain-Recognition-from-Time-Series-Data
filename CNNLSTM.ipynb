{
  "nbformat": 4,
  "nbformat_minor": 0,
  "metadata": {
    "colab": {
      "name": "Untitled",
      "provenance": [],
      "collapsed_sections": []
    },
    "kernelspec": {
      "name": "python3",
      "display_name": "Python 3"
    },
    "language_info": {
      "name": "python"
    },
    "accelerator": "GPU"
  },
  "cells": [
    {
      "cell_type": "code",
      "execution_count": 1,
      "metadata": {
        "colab": {
          "base_uri": "https://localhost:8080/"
        },
        "id": "Z4CTlTmbvkNJ",
        "outputId": "0c8012e0-b6a5-4b2d-c6a0-ba2e2442329e"
      },
      "outputs": [
        {
          "output_type": "stream",
          "name": "stdout",
          "text": [
            "Archive:  /content/drive-download-20220416T184043Z-001.zip\n",
            "  inflating: subject_001_04__y.csv   \n",
            "  inflating: subject_001_05__y_time.csv  \n",
            "  inflating: subject_001_03__y.csv   \n",
            "  inflating: subject_001_05__y.csv   \n",
            "  inflating: subject_002_05__y_time.csv  \n",
            "  inflating: subject_001_01__y.csv   \n",
            "  inflating: subject_001_02__y_time.csv  \n",
            "  inflating: subject_001_04__x_time.csv  \n",
            "  inflating: subject_001_06__y.csv   \n",
            "  inflating: subject_001_06__x_time.csv  \n",
            "  inflating: subject_001_02__y.csv   \n",
            "  inflating: subject_002_02__y_time.csv  \n",
            "  inflating: subject_001_01__y_time.csv  \n",
            "  inflating: subject_001_08__y_time.csv  \n",
            "  inflating: subject_002_01__y.csv   \n",
            "  inflating: subject_002_03__y.csv   \n",
            "  inflating: subject_001_07__x_time.csv  \n",
            "  inflating: subject_001_07__y_time.csv  \n",
            "  inflating: subject_001_06__y_time.csv  \n",
            "  inflating: subject_001_07__y.csv   \n",
            "  inflating: subject_001_03__x_time.csv  \n",
            "  inflating: subject_001_08__y.csv   \n",
            "  inflating: subject_001_03__y_time.csv  \n",
            "  inflating: subject_001_08__x.csv   \n",
            "  inflating: subject_001_05__x_time.csv  \n",
            "  inflating: subject_001_04__y_time.csv  \n",
            "  inflating: subject_001_07__x.csv   \n",
            "  inflating: subject_002_03__x_time.csv  \n",
            "  inflating: subject_001_01__x_time.csv  \n",
            "  inflating: subject_002_02__y.csv   \n",
            "  inflating: subject_002_03__y_time.csv  \n",
            "  inflating: subject_002_01__y_time.csv  \n",
            "  inflating: subject_001_02__x.csv   \n",
            "  inflating: subject_002_04__y.csv   \n",
            "  inflating: subject_002_04__x_time.csv  \n",
            "  inflating: subject_001_06__x.csv   \n",
            "  inflating: subject_001_08__x_time.csv  \n",
            "  inflating: subject_002_04__y_time.csv  \n",
            "  inflating: subject_001_02__x_time.csv  \n",
            "  inflating: subject_004_01__y.csv   \n",
            "  inflating: subject_003_01__x_time.csv  \n",
            "  inflating: subject_002_05__x_time.csv  \n",
            "  inflating: subject_002_01__x_time.csv  \n",
            "  inflating: subject_003_01__y.csv   \n",
            "  inflating: subject_001_04__x.csv   \n",
            "  inflating: subject_002_02__x_time.csv  \n",
            "  inflating: subject_001_05__x.csv   \n",
            "  inflating: subject_003_03__y_time.csv  \n",
            "  inflating: subject_003_01__y_time.csv  \n",
            "  inflating: subject_002_05__y.csv   \n",
            "  inflating: subject_003_01__x.csv   \n",
            "  inflating: subject_002_03__x.csv   \n",
            "  inflating: subject_001_01__x.csv   \n",
            "  inflating: subject_002_04__x.csv   \n",
            "  inflating: subject_005_01__y.csv   \n",
            "  inflating: subject_003_02__x_time.csv  \n",
            "  inflating: subject_003_02__y_time.csv  \n",
            "  inflating: subject_003_03__x_time.csv  \n",
            "  inflating: subject_003_02__y.csv   \n",
            "  inflating: subject_004_01__y_time.csv  \n",
            "  inflating: subject_002_01__x.csv   \n",
            "  inflating: subject_005_02__y_time.csv  \n",
            "  inflating: subject_004_02__x_time.csv  \n",
            "  inflating: subject_002_05__x.csv   \n",
            "  inflating: subject_001_03__x.csv   \n",
            "  inflating: subject_003_03__y.csv   \n",
            "  inflating: subject_006_01__y_time.csv  \n",
            "  inflating: subject_005_03__y.csv   \n",
            "  inflating: subject_005_02__y.csv   \n",
            "  inflating: subject_003_03__x.csv   \n",
            "  inflating: subject_006_03__y.csv   \n",
            "  inflating: subject_005_01__y_time.csv  \n",
            "  inflating: subject_004_02__y_time.csv  \n",
            "  inflating: subject_004_01__x_time.csv  \n",
            "  inflating: subject_005_03__x_time.csv  \n",
            "  inflating: subject_005_02__x_time.csv  \n",
            "  inflating: subject_004_01__x.csv   \n",
            "  inflating: subject_006_01__x_time.csv  \n",
            "  inflating: subject_004_02__y.csv   \n",
            "  inflating: subject_005_03__y_time.csv  \n",
            "  inflating: subject_005_02__x.csv   \n",
            "  inflating: subject_006_01__y.csv   \n",
            "  inflating: subject_006_02__y.csv   \n",
            "  inflating: subject_007_01__y_time.csv  \n",
            "  inflating: subject_006_03__y_time.csv  \n",
            "  inflating: subject_002_02__x.csv   \n",
            "  inflating: subject_004_02__x.csv   \n",
            "  inflating: subject_006_02__y_time.csv  \n",
            "  inflating: subject_005_01__x_time.csv  \n",
            "  inflating: subject_007_04__y.csv   \n",
            "  inflating: subject_007_02__y_time.csv  \n",
            "  inflating: subject_003_02__x.csv   \n",
            "  inflating: subject_007_01__y.csv   \n",
            "  inflating: subject_007_03__x_time.csv  \n",
            "  inflating: subject_007_02__y.csv   \n",
            "  inflating: subject_006_02__x_time.csv  \n",
            "  inflating: subject_006_03__x_time.csv  \n",
            "  inflating: subject_007_03__y_time.csv  \n",
            "  inflating: subject_007_02__x_time.csv  \n",
            "  inflating: subject_007_03__y.csv   \n",
            "  inflating: subject_007_04__y_time.csv  \n",
            "  inflating: subject_006_03__x.csv   \n",
            "  inflating: subject_008_01__y_time.csv  \n",
            "  inflating: subject_005_03__x.csv   \n",
            "  inflating: subject_006_01__x.csv   \n",
            "  inflating: subject_008_01__y.csv   \n",
            "  inflating: subject_007_01__x.csv   \n",
            "  inflating: subject_007_01__x_time.csv  \n",
            "  inflating: subject_007_03__x.csv   \n",
            "  inflating: subject_007_04__x_time.csv  \n",
            "  inflating: subject_007_02__x.csv   \n",
            "  inflating: subject_008_01__x_time.csv  \n",
            "  inflating: subject_006_02__x.csv   \n",
            "  inflating: subject_008_01__x.csv   \n",
            "  inflating: subject_007_04__x.csv   \n",
            "  inflating: subject_005_01__x.csv   \n"
          ]
        }
      ],
      "source": [
        "!unzip /content/drive-download-20220416T184043Z-001.zip"
      ]
    },
    {
      "cell_type": "code",
      "source": [
        "import csv\n",
        "import os\n",
        "import pandas as pd\n",
        "import numpy as np\n",
        "import matplotlib.pyplot as plt\n",
        "import glob\n",
        "import imblearn\n",
        "import warnings\n",
        "warnings.filterwarnings('ignore')"
      ],
      "metadata": {
        "id": "_wsSzdxXxomD"
      },
      "execution_count": 34,
      "outputs": []
    },
    {
      "cell_type": "code",
      "source": [
        "def upsample_label(temp_x, temp_y):\n",
        "    y_time_list = temp_y['time'].values\n",
        "    y_label = temp_y['label'].values\n",
        "    jdx = 0\n",
        "    label_list = []\n",
        "    for index,row in temp_x.iterrows():\n",
        "        try:\n",
        "            if row['time'] > y_time_list[jdx]:\n",
        "                jdx+=1\n",
        "            label_list.append(y_label[jdx])\n",
        "        except:\n",
        "            label_list.append(y_label[jdx - 1])\n",
        "    return label_list"
      ],
      "metadata": {
        "id": "XjhH2Tu1xKtx"
      },
      "execution_count": 35,
      "outputs": []
    },
    {
      "cell_type": "code",
      "source": [
        "filepath = '/content/'\n",
        "column_list = ['acc_x', 'acc_y', 'acc_z', 'gyro_x', 'gyro_y', 'gyro_z','subject', 'time', 'label']\n",
        "final_df = pd.DataFrame([], columns = column_list)\n",
        "for i in glob.glob(filepath + '*.csv'):\n",
        "    print(i)\n",
        "    df_type = i.split('.')[0].split('__')[1]\n",
        "    file_name = i.split('/')[2].split('__')[0]\n",
        "    if df_type == 'x':\n",
        "        x = open(filepath + file_name + '__x.csv')\n",
        "        x = pd.read_csv(x)\n",
        "        x['subject'] = [file_name] * x.shape[0]\n",
        "        \n",
        "        x_time = open(filepath + file_name + '__x_time.csv')\n",
        "        x_time = pd.read_csv(x_time)\n",
        "        x['time'] = x_time\n",
        "        \n",
        "        y = open(filepath + file_name + '__y.csv')\n",
        "        y = pd.read_csv(y)\n",
        "        y['subject'] = [file_name] * y.shape[0]\n",
        "        \n",
        "        y_time = open(filepath + file_name + '__y_time.csv')\n",
        "        y_time = pd.read_csv(y_time)\n",
        "        y['time'] = y_time\n",
        "        \n",
        "        y.columns = ['label', 'subject', 'time']\n",
        "        label_list = upsample_label(x, y)\n",
        "        x['label'] = label_list\n",
        "        x.columns = column_list\n",
        "        final_df = pd.concat([final_df, x], ignore_index=True)"
      ],
      "metadata": {
        "colab": {
          "base_uri": "https://localhost:8080/"
        },
        "id": "QhNIhc2txbVC",
        "outputId": "782b311b-17a3-49ac-c6ef-71234db589dd"
      },
      "execution_count": 36,
      "outputs": [
        {
          "output_type": "stream",
          "name": "stdout",
          "text": [
            "/content/subject_001_04__y_time.csv\n",
            "/content/subject_001_08__y_time.csv\n",
            "/content/subject_004_02__x_time.csv\n",
            "/content/subject_001_06__x.csv\n",
            "/content/subject_006_02__y_time.csv\n",
            "/content/subject_002_05__x.csv\n",
            "/content/subject_006_01__y_time.csv\n",
            "/content/subject_002_02__y_time.csv\n",
            "/content/subject_001_04__x_time.csv\n",
            "/content/subject_005_02__y_time.csv\n",
            "/content/subject_007_02__y.csv\n",
            "/content/subject_005_02__x_time.csv\n",
            "/content/subject_003_03__x.csv\n",
            "/content/subject_003_03__y.csv\n",
            "/content/subject_003_02__y.csv\n",
            "/content/subject_002_03__x.csv\n",
            "/content/subject_004_02__y_time.csv\n",
            "/content/subject_006_01__y.csv\n",
            "/content/subject_002_04__x.csv\n",
            "/content/subject_001_07__x_time.csv\n",
            "/content/subject_003_02__x.csv\n",
            "/content/subject_002_01__y.csv\n",
            "/content/subject_005_03__x_time.csv\n",
            "/content/subject_002_03__y_time.csv\n",
            "/content/subject_007_03__x.csv\n",
            "/content/subject_007_04__x_time.csv\n",
            "/content/subject_003_01__x_time.csv\n",
            "/content/subject_001_04__x.csv\n",
            "/content/subject_007_03__x_time.csv\n",
            "/content/subject_004_01__y.csv\n",
            "/content/subject_007_04__y_time.csv\n",
            "/content/subject_002_01__y_time.csv\n",
            "/content/subject_001_01__y_time.csv\n",
            "/content/subject_003_03__y_time.csv\n",
            "/content/subject_007_02__x_time.csv\n",
            "/content/subject_002_05__y.csv\n",
            "/content/subject_001_08__x.csv\n",
            "/content/subject_001_05__y_time.csv\n",
            "/content/subject_002_05__y_time.csv\n",
            "/content/subject_006_02__x.csv\n",
            "/content/subject_007_02__x.csv\n",
            "/content/subject_002_01__x.csv\n",
            "/content/subject_002_02__y.csv\n",
            "/content/subject_001_06__x_time.csv\n",
            "/content/subject_004_01__x_time.csv\n",
            "/content/subject_002_02__x_time.csv\n",
            "/content/subject_007_03__y.csv\n",
            "/content/subject_003_02__x_time.csv\n",
            "/content/subject_007_02__y_time.csv\n",
            "/content/subject_001_07__y.csv\n",
            "/content/subject_001_03__x_time.csv\n",
            "/content/subject_006_01__x.csv\n",
            "/content/subject_003_01__y.csv\n",
            "/content/subject_005_01__x_time.csv\n",
            "/content/subject_001_08__x_time.csv\n",
            "/content/subject_002_04__x_time.csv\n",
            "/content/subject_001_06__y_time.csv\n",
            "/content/subject_005_02__y.csv\n",
            "/content/subject_005_03__y.csv\n",
            "/content/subject_001_05__y.csv\n",
            "/content/subject_002_03__x_time.csv\n",
            "/content/subject_004_02__y.csv\n",
            "/content/subject_007_01__y_time.csv\n",
            "/content/subject_001_07__y_time.csv\n",
            "/content/subject_006_02__x_time.csv\n",
            "/content/subject_001_03__x.csv\n",
            "/content/subject_005_01__y_time.csv\n",
            "/content/subject_002_02__x.csv\n",
            "/content/subject_003_03__x_time.csv\n",
            "/content/subject_006_03__y_time.csv\n",
            "/content/subject_007_01__y.csv\n",
            "/content/subject_001_03__y_time.csv\n",
            "/content/subject_006_03__y.csv\n",
            "/content/subject_007_04__x.csv\n",
            "/content/subject_006_03__x_time.csv\n",
            "/content/subject_001_06__y.csv\n",
            "/content/subject_006_02__y.csv\n",
            "/content/subject_001_02__y.csv\n",
            "/content/subject_004_01__y_time.csv\n",
            "/content/subject_005_01__y.csv\n",
            "/content/subject_008_01__x.csv\n",
            "/content/subject_005_01__x.csv\n",
            "/content/subject_008_01__x_time.csv\n",
            "/content/subject_001_01__x_time.csv\n",
            "/content/subject_008_01__y_time.csv\n",
            "/content/subject_001_03__y.csv\n",
            "/content/subject_002_04__y_time.csv\n",
            "/content/subject_001_07__x.csv\n",
            "/content/subject_006_01__x_time.csv\n",
            "/content/subject_001_02__y_time.csv\n",
            "/content/subject_007_01__x_time.csv\n",
            "/content/subject_006_03__x.csv\n",
            "/content/subject_003_01__x.csv\n",
            "/content/subject_001_05__x_time.csv\n",
            "/content/subject_002_01__x_time.csv\n",
            "/content/subject_007_04__y.csv\n",
            "/content/subject_002_04__y.csv\n",
            "/content/subject_002_05__x_time.csv\n",
            "/content/subject_004_02__x.csv\n",
            "/content/subject_003_02__y_time.csv\n",
            "/content/subject_005_03__x.csv\n",
            "/content/subject_001_02__x.csv\n",
            "/content/subject_007_01__x.csv\n",
            "/content/subject_004_01__x.csv\n",
            "/content/subject_008_01__y.csv\n",
            "/content/subject_003_01__y_time.csv\n",
            "/content/subject_001_05__x.csv\n",
            "/content/subject_001_01__y.csv\n",
            "/content/subject_005_03__y_time.csv\n",
            "/content/subject_001_02__x_time.csv\n",
            "/content/subject_001_08__y.csv\n",
            "/content/subject_005_02__x.csv\n",
            "/content/subject_001_04__y.csv\n",
            "/content/subject_002_03__y.csv\n",
            "/content/subject_001_01__x.csv\n",
            "/content/subject_007_03__y_time.csv\n"
          ]
        }
      ]
    },
    {
      "cell_type": "code",
      "source": [
        "final_df.shape\n",
        "from scipy import stats\n",
        "\n",
        "def create_windows(X, y, time_steps=1, step=1):\n",
        "    Xs, ys = [], []\n",
        "      \n",
        "    for i in range(0, len(X) - time_steps + 1, step):\n",
        "        v = X.iloc[i:(i + time_steps)].values\n",
        "        labels = y.iloc[i: i + time_steps]\n",
        "        Xs.append(v)\n",
        "        ys.append(stats.mode(labels)[0][0])\n",
        "\n",
        "    return np.array(Xs), np.array(ys).reshape(-1, 1)"
      ],
      "metadata": {
        "id": "bXdyqI-Axvvv"
      },
      "execution_count": 37,
      "outputs": []
    },
    {
      "cell_type": "code",
      "source": [
        "X = final_df[['acc_x', 'acc_y', 'acc_z', 'gyro_x', 'gyro_y', 'gyro_z']]\n",
        "y = final_df['label']\n",
        "\n",
        "TIME_STEPS = 40  # Window Size\n",
        "STEP = 1\n",
        "\n",
        "X_data, y_data = create_windows(X, y, time_steps=TIME_STEPS,step=STEP)\n"
      ],
      "metadata": {
        "id": "1pJGdUy6z7DV"
      },
      "execution_count": 38,
      "outputs": []
    },
    {
      "cell_type": "code",
      "source": [
        "from imblearn.under_sampling import RandomUnderSampler\n",
        "from imblearn.over_sampling import SMOTE\n",
        "\n",
        "df_label = pd.DataFrame(y_data, columns=['label'])\n",
        "df_label['index_'] = df_label.index\n",
        "\n",
        "## Library for performing undersampling \n",
        "rus = RandomUnderSampler(sampling_strategy='not minority', random_state=1)\n",
        "df_balanced, balanced_labels = rus.fit_resample(df_label, df_label['label'])\n",
        "\n",
        "sos = SMOTE(sampling_strategy='not majority')\n",
        "df_balanced, balanced_labels  = sos.fit_resample(df_balanced, balanced_labels)\n",
        "\n",
        "df_balanced = pd.DataFrame(df_balanced, columns=['label', 'index_'])\n",
        "\n",
        "X_data = X_data[df_balanced['index_'].values]\n",
        "y_data = y_data[df_balanced['index_'].values]"
      ],
      "metadata": {
        "id": "IbZwo3FKyLmy"
      },
      "execution_count": 39,
      "outputs": []
    },
    {
      "cell_type": "code",
      "source": [
        "from sklearn.preprocessing import OneHotEncoder\n",
        "from sklearn.model_selection import train_test_split\n",
        "\n",
        "X_train, X_val, y_train, y_val = train_test_split(X_data, y_data, test_size=0.3, random_state=42)\n",
        "\n",
        "## Converting label to OneHot Encoding\n",
        "enc = OneHotEncoder(handle_unknown='ignore', sparse=False)\n",
        "enc = enc.fit(y_train)\n",
        "y_train = enc.transform(y_train)\n",
        "y_val = enc.transform(y_val)"
      ],
      "metadata": {
        "id": "lkzfOL9QyfzA"
      },
      "execution_count": 40,
      "outputs": []
    },
    {
      "cell_type": "code",
      "source": [
        "X_train = np.asarray(X_train).astype('float32')\n",
        "X_val = np.asarray(X_val).astype('float32')"
      ],
      "metadata": {
        "id": "oGUv-Dwr0Gm0"
      },
      "execution_count": 41,
      "outputs": []
    },
    {
      "cell_type": "code",
      "source": [
        "from tensorflow.keras.models import Sequential, load_model\n",
        "from tensorflow.keras.layers import Dense, Activation, Embedding, Dropout, TimeDistributed\n",
        "from tensorflow.keras.layers import LSTM, LSTM, SimpleRNN, GRU, Bidirectional, Conv1D, Reshape\n",
        "from tensorflow.keras.optimizers import Adam, SGD\n",
        "from tensorflow.keras.utils import to_categorical\n",
        "\n",
        "input_shape = (X_train.shape[1], X_train.shape[2])\n",
        "output_dim = 4\n",
        "lr = 0.001\n",
        "\n",
        "\n"
      ],
      "metadata": {
        "id": "aNt7yG-E0O8H"
      },
      "execution_count": 42,
      "outputs": []
    },
    {
      "cell_type": "code",
      "source": [
        "model=Sequential()\n",
        "\n",
        "model.add(Conv1D(32, 3, activation='relu',padding = \"same\",input_shape=input_shape))\n",
        "model.add(Dropout(0.2)) \n",
        "model.add(Conv1D(64, 3, activation='relu',padding = \"same\"))\n",
        "model.add(Dropout(0.2)) \n",
        "# model.add(Conv1D(128, 3, activation='relu',padding = \"same\"))\n",
        "model.add(LSTM(256,return_sequences=True))\n",
        "model.add(Dropout(0.5)) \n",
        "model.add(LSTM(256,return_sequences=False))\n",
        "# model.add(LSTM(256, return_sequences=True))\n",
        "# model.add(Dropout(0.5))\n",
        "# model.add(LSTM(256, return_sequences=False))\n",
        "# model.add(Dropout(0.5))\n",
        "model.add(Dense(output_dim))\n",
        "model.add(Activation(\"softmax\"))\n",
        "model.compile(loss='categorical_crossentropy',optimizer='adam')"
      ],
      "metadata": {
        "id": "uIHXsrdi2i-m"
      },
      "execution_count": 47,
      "outputs": []
    },
    {
      "cell_type": "code",
      "source": [
        "model.summary()"
      ],
      "metadata": {
        "colab": {
          "base_uri": "https://localhost:8080/"
        },
        "id": "18H-PglIIW0w",
        "outputId": "270c97c6-8974-4af7-a46b-8156508ed7bb"
      },
      "execution_count": 48,
      "outputs": [
        {
          "output_type": "stream",
          "name": "stdout",
          "text": [
            "Model: \"sequential_10\"\n",
            "_________________________________________________________________\n",
            " Layer (type)                Output Shape              Param #   \n",
            "=================================================================\n",
            " conv1d_21 (Conv1D)          (None, 40, 32)            608       \n",
            "                                                                 \n",
            " dropout_30 (Dropout)        (None, 40, 32)            0         \n",
            "                                                                 \n",
            " conv1d_22 (Conv1D)          (None, 40, 64)            6208      \n",
            "                                                                 \n",
            " dropout_31 (Dropout)        (None, 40, 64)            0         \n",
            "                                                                 \n",
            " lstm_17 (LSTM)              (None, 40, 256)           328704    \n",
            "                                                                 \n",
            " dropout_32 (Dropout)        (None, 40, 256)           0         \n",
            "                                                                 \n",
            " lstm_18 (LSTM)              (None, 256)               525312    \n",
            "                                                                 \n",
            " dense_8 (Dense)             (None, 4)                 1028      \n",
            "                                                                 \n",
            " activation_8 (Activation)   (None, 4)                 0         \n",
            "                                                                 \n",
            "=================================================================\n",
            "Total params: 861,860\n",
            "Trainable params: 861,860\n",
            "Non-trainable params: 0\n",
            "_________________________________________________________________\n"
          ]
        }
      ]
    },
    {
      "cell_type": "code",
      "source": [
        "hist = model.fit(\n",
        "    X_train, y_train,\n",
        "    validation_data = (X_val, y_val),\n",
        "    epochs=20,\n",
        "    batch_size=64,\n",
        "    shuffle=True\n",
        ")"
      ],
      "metadata": {
        "colab": {
          "base_uri": "https://localhost:8080/"
        },
        "id": "Tefri9m54tkm",
        "outputId": "ca0ab61b-7a6e-4ebb-aa86-1700eeaf7deb"
      },
      "execution_count": null,
      "outputs": [
        {
          "output_type": "stream",
          "name": "stdout",
          "text": [
            "Epoch 1/20\n",
            "2406/2406 [==============================] - 89s 13ms/step - loss: 0.3190 - val_loss: 0.2011\n",
            "Epoch 2/20\n",
            "2406/2406 [==============================] - 28s 12ms/step - loss: 0.1936 - val_loss: 0.1686\n",
            "Epoch 3/20\n",
            "2406/2406 [==============================] - 29s 12ms/step - loss: 0.1586 - val_loss: 0.1157\n",
            "Epoch 4/20\n",
            "2406/2406 [==============================] - 28s 12ms/step - loss: 0.1382 - val_loss: 0.1130\n",
            "Epoch 5/20\n",
            "2406/2406 [==============================] - 29s 12ms/step - loss: 0.1239 - val_loss: 0.0954\n",
            "Epoch 6/20\n",
            "2406/2406 [==============================] - 29s 12ms/step - loss: 0.1126 - val_loss: 0.0961\n",
            "Epoch 7/20\n",
            " 596/2406 [======>.......................] - ETA: 18s - loss: 0.1081"
          ]
        }
      ]
    },
    {
      "cell_type": "code",
      "source": [
        "y_pred = model.predict(X_val)\n",
        "y_pred = np.argmax(y_pred, axis = 1)\n",
        "y_val_ = np.argmax(y_val, axis = 1)"
      ],
      "metadata": {
        "id": "9btcn_MwGVch"
      },
      "execution_count": 14,
      "outputs": []
    },
    {
      "cell_type": "code",
      "source": [
        "from sklearn.metrics import classification_report\n",
        "\n",
        "print(classification_report(y_val_, y_pred))"
      ],
      "metadata": {
        "colab": {
          "base_uri": "https://localhost:8080/"
        },
        "id": "TMVszYbKGacl",
        "outputId": "41a04835-4a28-434f-b084-3491063854a6"
      },
      "execution_count": 15,
      "outputs": [
        {
          "output_type": "stream",
          "name": "stdout",
          "text": [
            "              precision    recall  f1-score   support\n",
            "\n",
            "           0       0.96      0.95      0.96     16405\n",
            "           1       0.99      1.00      1.00     16470\n",
            "           2       0.99      1.00      0.99     16422\n",
            "           3       0.97      0.97      0.97     16683\n",
            "\n",
            "    accuracy                           0.98     65980\n",
            "   macro avg       0.98      0.98      0.98     65980\n",
            "weighted avg       0.98      0.98      0.98     65980\n",
            "\n"
          ]
        }
      ]
    },
    {
      "cell_type": "code",
      "source": [
        ""
      ],
      "metadata": {
        "id": "WtLf9ZFX6Wzq"
      },
      "execution_count": 13,
      "outputs": []
    }
  ]
}